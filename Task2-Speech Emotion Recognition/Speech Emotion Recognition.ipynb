{
 "cells": [
  {
   "cell_type": "markdown",
   "id": "89b1e04e",
   "metadata": {},
   "source": [
    "# Speech Emotion Recognition"
   ]
  },
  {
   "cell_type": "code",
   "execution_count": 1,
   "id": "7e6e8425",
   "metadata": {},
   "outputs": [
    {
     "name": "stderr",
     "output_type": "stream",
     "text": [
      "C:\\Anaconda3\\lib\\site-packages\\paramiko\\transport.py:219: CryptographyDeprecationWarning: Blowfish has been deprecated\n",
      "  \"class\": algorithms.Blowfish,\n"
     ]
    },
    {
     "name": "stdout",
     "output_type": "stream",
     "text": [
      "File name = 03-01-01-01-01-01-01.wav , emotion = neutral\n",
      "File name = 03-01-01-01-01-02-01.wav , emotion = neutral\n",
      "File name = 03-01-01-01-02-01-01.wav , emotion = neutral\n",
      "File name = 03-01-01-01-02-02-01.wav , emotion = neutral\n",
      "File name = 03-01-02-01-01-01-01.wav , emotion = calm\n"
     ]
    },
    {
     "name": "stderr",
     "output_type": "stream",
     "text": [
      "C:\\Users\\Pravin Bhise\\AppData\\Local\\Temp\\ipykernel_7712\\2608815035.py:25: FutureWarning: Pass y=[0. 0. 0. ... 0. 0. 0.] as keyword args. From version 0.10 passing these as positional arguments will result in an error\n",
      "  mel=np.mean(librosa.feature.melspectrogram(X, sr=sample_rate).T,axis=0)\n"
     ]
    },
    {
     "name": "stdout",
     "output_type": "stream",
     "text": [
      "File name = 03-01-02-01-01-02-01.wav , emotion = calm\n",
      "File name = 03-01-02-01-02-01-01.wav , emotion = calm\n",
      "File name = 03-01-02-01-02-02-01.wav , emotion = calm\n",
      "File name = 03-01-02-02-01-01-01.wav , emotion = calm\n"
     ]
    },
    {
     "name": "stderr",
     "output_type": "stream",
     "text": [
      "C:\\Users\\Pravin Bhise\\AppData\\Local\\Temp\\ipykernel_7712\\2608815035.py:25: FutureWarning: Pass y=[0.0000000e+00 3.0517578e-05 3.0517578e-05 ... 0.0000000e+00 0.0000000e+00\n",
      " 0.0000000e+00] as keyword args. From version 0.10 passing these as positional arguments will result in an error\n",
      "  mel=np.mean(librosa.feature.melspectrogram(X, sr=sample_rate).T,axis=0)\n",
      "C:\\Users\\Pravin Bhise\\AppData\\Local\\Temp\\ipykernel_7712\\2608815035.py:25: FutureWarning: Pass y=[ 0.0000000e+00  0.0000000e+00 -3.0517578e-05 ... -3.0517578e-05\n",
      " -3.0517578e-05 -3.0517578e-05] as keyword args. From version 0.10 passing these as positional arguments will result in an error\n",
      "  mel=np.mean(librosa.feature.melspectrogram(X, sr=sample_rate).T,axis=0)\n"
     ]
    },
    {
     "name": "stdout",
     "output_type": "stream",
     "text": [
      "File name = 03-01-02-02-01-02-01.wav , emotion = calm\n",
      "File name = 03-01-02-02-02-01-01.wav , emotion = calm\n"
     ]
    },
    {
     "name": "stderr",
     "output_type": "stream",
     "text": [
      "C:\\Users\\Pravin Bhise\\AppData\\Local\\Temp\\ipykernel_7712\\2608815035.py:25: FutureWarning: Pass y=[3.0517578e-05 3.0517578e-05 3.0517578e-05 ... 0.0000000e+00 0.0000000e+00\n",
      " 0.0000000e+00] as keyword args. From version 0.10 passing these as positional arguments will result in an error\n",
      "  mel=np.mean(librosa.feature.melspectrogram(X, sr=sample_rate).T,axis=0)\n"
     ]
    },
    {
     "name": "stdout",
     "output_type": "stream",
     "text": [
      "File name = 03-01-02-02-02-02-01.wav , emotion = calm\n",
      "File name = 03-01-03-01-01-01-01.wav , emotion = happy\n",
      "File name = 03-01-03-01-01-02-01.wav , emotion = happy\n",
      "File name = 03-01-03-01-02-01-01.wav , emotion = happy\n"
     ]
    },
    {
     "name": "stderr",
     "output_type": "stream",
     "text": [
      "C:\\Users\\Pravin Bhise\\AppData\\Local\\Temp\\ipykernel_7712\\2608815035.py:25: FutureWarning: Pass y=[0.0000000e+00 0.0000000e+00 0.0000000e+00 ... 3.0517578e-05 0.0000000e+00\n",
      " 0.0000000e+00] as keyword args. From version 0.10 passing these as positional arguments will result in an error\n",
      "  mel=np.mean(librosa.feature.melspectrogram(X, sr=sample_rate).T,axis=0)\n",
      "C:\\Users\\Pravin Bhise\\AppData\\Local\\Temp\\ipykernel_7712\\2608815035.py:25: FutureWarning: Pass y=[0.0000000e+00 0.0000000e+00 3.0517578e-05 ... 0.0000000e+00 0.0000000e+00\n",
      " 0.0000000e+00] as keyword args. From version 0.10 passing these as positional arguments will result in an error\n",
      "  mel=np.mean(librosa.feature.melspectrogram(X, sr=sample_rate).T,axis=0)\n"
     ]
    },
    {
     "name": "stdout",
     "output_type": "stream",
     "text": [
      "File name = 03-01-03-01-02-02-01.wav , emotion = happy\n",
      "File name = 03-01-03-02-01-01-01.wav , emotion = happy\n",
      "File name = 03-01-03-02-01-02-01.wav , emotion = happy\n",
      "File name = 03-01-03-02-02-01-01.wav , emotion = happy\n",
      "File name = 03-01-03-02-02-02-01.wav , emotion = happy\n",
      "File name = 03-01-04-01-01-01-01.wav , emotion = sad\n",
      "File name = 03-01-04-01-01-02-01.wav , emotion = sad\n",
      "File name = 03-01-04-01-02-01-01.wav , emotion = sad\n",
      "File name = 03-01-04-01-02-02-01.wav , emotion = sad\n",
      "File name = 03-01-04-02-01-01-01.wav , emotion = sad\n",
      "File name = 03-01-04-02-01-02-01.wav , emotion = sad\n",
      "File name = 03-01-04-02-02-01-01.wav , emotion = sad\n",
      "File name = 03-01-04-02-02-02-01.wav , emotion = sad\n",
      "File name = 03-01-05-01-01-01-01.wav , emotion = angry\n",
      "File name = 03-01-05-01-01-02-01.wav , emotion = angry\n",
      "File name = 03-01-05-01-02-01-01.wav , emotion = angry\n",
      "File name = 03-01-05-01-02-02-01.wav , emotion = angry\n",
      "File name = 03-01-05-02-01-01-01.wav , emotion = angry\n",
      "File name = 03-01-05-02-01-02-01.wav , emotion = angry\n",
      "File name = 03-01-05-02-02-01-01.wav , emotion = angry\n",
      "File name = 03-01-05-02-02-02-01.wav , emotion = angry\n",
      "File name = 03-01-06-01-01-01-01.wav , emotion = fearful\n"
     ]
    },
    {
     "name": "stderr",
     "output_type": "stream",
     "text": [
      "C:\\Users\\Pravin Bhise\\AppData\\Local\\Temp\\ipykernel_7712\\2608815035.py:25: FutureWarning: Pass y=[0.0000000e+00 3.0517578e-05 0.0000000e+00 ... 0.0000000e+00 0.0000000e+00\n",
      " 0.0000000e+00] as keyword args. From version 0.10 passing these as positional arguments will result in an error\n",
      "  mel=np.mean(librosa.feature.melspectrogram(X, sr=sample_rate).T,axis=0)\n",
      "C:\\Users\\Pravin Bhise\\AppData\\Local\\Temp\\ipykernel_7712\\2608815035.py:25: FutureWarning: Pass y=[1.5258789e-04 1.5258789e-04 9.1552734e-05 ... 0.0000000e+00 0.0000000e+00\n",
      " 0.0000000e+00] as keyword args. From version 0.10 passing these as positional arguments will result in an error\n",
      "  mel=np.mean(librosa.feature.melspectrogram(X, sr=sample_rate).T,axis=0)\n"
     ]
    },
    {
     "name": "stdout",
     "output_type": "stream",
     "text": [
      "File name = 03-01-06-01-01-02-01.wav , emotion = fearful\n",
      "File name = 03-01-06-01-02-01-01.wav , emotion = fearful\n"
     ]
    },
    {
     "name": "stderr",
     "output_type": "stream",
     "text": [
      "C:\\Users\\Pravin Bhise\\AppData\\Local\\Temp\\ipykernel_7712\\2608815035.py:25: FutureWarning: Pass y=[-0.00091553 -0.00091553 -0.00097656 ... -0.0017395  -0.0017395\n",
      " -0.0017395 ] as keyword args. From version 0.10 passing these as positional arguments will result in an error\n",
      "  mel=np.mean(librosa.feature.melspectrogram(X, sr=sample_rate).T,axis=0)\n"
     ]
    },
    {
     "name": "stdout",
     "output_type": "stream",
     "text": [
      "File name = 03-01-06-01-02-02-01.wav , emotion = fearful\n",
      "File name = 03-01-06-02-01-01-01.wav , emotion = fearful\n"
     ]
    },
    {
     "name": "stderr",
     "output_type": "stream",
     "text": [
      "C:\\Users\\Pravin Bhise\\AppData\\Local\\Temp\\ipykernel_7712\\2608815035.py:25: FutureWarning: Pass y=[5.1879883e-04 2.4414062e-04 1.5258789e-04 ... 0.0000000e+00 0.0000000e+00\n",
      " 6.1035156e-05] as keyword args. From version 0.10 passing these as positional arguments will result in an error\n",
      "  mel=np.mean(librosa.feature.melspectrogram(X, sr=sample_rate).T,axis=0)\n",
      "C:\\Users\\Pravin Bhise\\AppData\\Local\\Temp\\ipykernel_7712\\2608815035.py:25: FutureWarning: Pass y=[-9.1552734e-05 -1.2207031e-04 -6.1035156e-05 ...  1.0986328e-03\n",
      "  3.3569336e-04 -3.0517578e-05] as keyword args. From version 0.10 passing these as positional arguments will result in an error\n",
      "  mel=np.mean(librosa.feature.melspectrogram(X, sr=sample_rate).T,axis=0)\n"
     ]
    },
    {
     "name": "stdout",
     "output_type": "stream",
     "text": [
      "File name = 03-01-06-02-01-02-01.wav , emotion = fearful\n",
      "File name = 03-01-06-02-02-01-01.wav , emotion = fearful\n"
     ]
    },
    {
     "name": "stderr",
     "output_type": "stream",
     "text": [
      "C:\\Users\\Pravin Bhise\\AppData\\Local\\Temp\\ipykernel_7712\\2608815035.py:25: FutureWarning: Pass y=[2.5726318e-02 3.1707764e-02 3.5552979e-02 ... 0.0000000e+00 3.0517578e-05\n",
      " 0.0000000e+00] as keyword args. From version 0.10 passing these as positional arguments will result in an error\n",
      "  mel=np.mean(librosa.feature.melspectrogram(X, sr=sample_rate).T,axis=0)\n",
      "C:\\Users\\Pravin Bhise\\AppData\\Local\\Temp\\ipykernel_7712\\2608815035.py:25: FutureWarning: Pass y=[ 0.          0.          0.         ... -0.00039673 -0.00012207\n",
      "  0.        ] as keyword args. From version 0.10 passing these as positional arguments will result in an error\n",
      "  mel=np.mean(librosa.feature.melspectrogram(X, sr=sample_rate).T,axis=0)\n"
     ]
    },
    {
     "name": "stdout",
     "output_type": "stream",
     "text": [
      "File name = 03-01-06-02-02-02-01.wav , emotion = fearful\n",
      "File name = 03-01-07-01-01-01-01.wav , emotion = disgust\n",
      "File name = 03-01-07-01-01-02-01.wav , emotion = disgust\n",
      "File name = 03-01-07-01-02-01-01.wav , emotion = disgust\n",
      "File name = 03-01-07-01-02-02-01.wav , emotion = disgust\n",
      "File name = 03-01-07-02-01-01-01.wav , emotion = disgust\n",
      "File name = 03-01-07-02-01-02-01.wav , emotion = disgust\n",
      "File name = 03-01-07-02-02-01-01.wav , emotion = disgust\n"
     ]
    },
    {
     "name": "stderr",
     "output_type": "stream",
     "text": [
      "C:\\Users\\Pravin Bhise\\AppData\\Local\\Temp\\ipykernel_7712\\2608815035.py:25: FutureWarning: Pass y=[-1.0375977e-03 -7.9345703e-04 -3.0517578e-05 ...  0.0000000e+00\n",
      "  0.0000000e+00  0.0000000e+00] as keyword args. From version 0.10 passing these as positional arguments will result in an error\n",
      "  mel=np.mean(librosa.feature.melspectrogram(X, sr=sample_rate).T,axis=0)\n"
     ]
    },
    {
     "name": "stdout",
     "output_type": "stream",
     "text": [
      "File name = 03-01-07-02-02-02-01.wav , emotion = disgust\n",
      "File name = 03-01-08-01-01-01-01.wav , emotion = surprised\n",
      "File name = 03-01-08-01-01-02-01.wav , emotion = surprised\n",
      "File name = 03-01-08-01-02-01-01.wav , emotion = surprised\n",
      "File name = 03-01-08-01-02-02-01.wav , emotion = surprised\n",
      "File name = 03-01-08-02-01-01-01.wav , emotion = surprised\n",
      "File name = 03-01-08-02-01-02-01.wav , emotion = surprised\n",
      "File name = 03-01-08-02-02-01-01.wav , emotion = surprised\n",
      "File name = 03-01-08-02-02-02-01.wav , emotion = surprised\n",
      "File name = 03-01-01-01-01-01-02.wav , emotion = neutral\n",
      "File name = 03-01-01-01-01-02-02.wav , emotion = neutral\n",
      "File name = 03-01-01-01-02-01-02.wav , emotion = neutral\n",
      "File name = 03-01-01-01-02-02-02.wav , emotion = neutral\n",
      "File name = 03-01-02-01-01-01-02.wav , emotion = calm\n"
     ]
    },
    {
     "name": "stderr",
     "output_type": "stream",
     "text": [
      "C:\\Users\\Pravin Bhise\\AppData\\Local\\Temp\\ipykernel_7712\\2608815035.py:25: FutureWarning: Pass y=[3.0517578e-05 2.7465820e-04 5.1879883e-04 ... 0.0000000e+00 0.0000000e+00\n",
      " 0.0000000e+00] as keyword args. From version 0.10 passing these as positional arguments will result in an error\n",
      "  mel=np.mean(librosa.feature.melspectrogram(X, sr=sample_rate).T,axis=0)\n"
     ]
    },
    {
     "name": "stdout",
     "output_type": "stream",
     "text": [
      "File name = 03-01-02-01-01-02-02.wav , emotion = calm\n",
      "File name = 03-01-02-01-02-01-02.wav , emotion = calm\n"
     ]
    },
    {
     "name": "stderr",
     "output_type": "stream",
     "text": [
      "C:\\Users\\Pravin Bhise\\AppData\\Local\\Temp\\ipykernel_7712\\2608815035.py:25: FutureWarning: Pass y=[0.0000000e+00 0.0000000e+00 0.0000000e+00 ... 0.0000000e+00 3.0517578e-05\n",
      " 3.0517578e-05] as keyword args. From version 0.10 passing these as positional arguments will result in an error\n",
      "  mel=np.mean(librosa.feature.melspectrogram(X, sr=sample_rate).T,axis=0)\n"
     ]
    },
    {
     "name": "stdout",
     "output_type": "stream",
     "text": [
      "File name = 03-01-02-01-02-02-02.wav , emotion = calm\n",
      "File name = 03-01-02-02-01-01-02.wav , emotion = calm\n",
      "File name = 03-01-02-02-01-02-02.wav , emotion = calm\n",
      "File name = 03-01-02-02-02-01-02.wav , emotion = calm\n",
      "File name = 03-01-02-02-02-02-02.wav , emotion = calm\n",
      "File name = 03-01-03-01-01-01-02.wav , emotion = happy\n",
      "File name = 03-01-03-01-01-02-02.wav , emotion = happy\n",
      "File name = 03-01-03-01-02-01-02.wav , emotion = happy\n",
      "File name = 03-01-03-01-02-02-02.wav , emotion = happy\n",
      "File name = 03-01-03-02-01-01-02.wav , emotion = happy\n",
      "File name = 03-01-03-02-01-02-02.wav , emotion = happy\n",
      "File name = 03-01-03-02-02-01-02.wav , emotion = happy\n"
     ]
    },
    {
     "name": "stderr",
     "output_type": "stream",
     "text": [
      "C:\\Users\\Pravin Bhise\\AppData\\Local\\Temp\\ipykernel_7712\\2608815035.py:25: FutureWarning: Pass y=[ 0.0000000e+00  0.0000000e+00  0.0000000e+00 ...  0.0000000e+00\n",
      "  0.0000000e+00 -3.0517578e-05] as keyword args. From version 0.10 passing these as positional arguments will result in an error\n",
      "  mel=np.mean(librosa.feature.melspectrogram(X, sr=sample_rate).T,axis=0)\n"
     ]
    },
    {
     "name": "stdout",
     "output_type": "stream",
     "text": [
      "File name = 03-01-03-02-02-02-02.wav , emotion = happy\n",
      "File name = 03-01-04-01-01-01-02.wav , emotion = sad\n",
      "File name = 03-01-04-01-01-02-02.wav , emotion = sad\n",
      "File name = 03-01-04-01-02-01-02.wav , emotion = sad\n",
      "File name = 03-01-04-01-02-02-02.wav , emotion = sad\n",
      "File name = 03-01-04-02-01-01-02.wav , emotion = sad\n",
      "File name = 03-01-04-02-01-02-02.wav , emotion = sad\n",
      "File name = 03-01-04-02-02-01-02.wav , emotion = sad\n",
      "File name = 03-01-04-02-02-02-02.wav , emotion = sad\n",
      "File name = 03-01-05-01-01-01-02.wav , emotion = angry\n",
      "File name = 03-01-05-01-01-02-02.wav , emotion = angry\n",
      "File name = 03-01-05-01-02-01-02.wav , emotion = angry\n",
      "File name = 03-01-05-01-02-02-02.wav , emotion = angry\n",
      "File name = 03-01-05-02-01-01-02.wav , emotion = angry\n",
      "File name = 03-01-05-02-01-02-02.wav , emotion = angry\n",
      "File name = 03-01-05-02-02-01-02.wav , emotion = angry\n",
      "File name = 03-01-05-02-02-02-02.wav , emotion = angry\n",
      "File name = 03-01-06-01-01-01-02.wav , emotion = fearful\n",
      "File name = 03-01-06-01-01-02-02.wav , emotion = fearful\n",
      "File name = 03-01-06-01-02-01-02.wav , emotion = fearful\n"
     ]
    },
    {
     "name": "stderr",
     "output_type": "stream",
     "text": [
      "C:\\Users\\Pravin Bhise\\AppData\\Local\\Temp\\ipykernel_7712\\2608815035.py:25: FutureWarning: Pass y=[ 0.0000000e+00  0.0000000e+00  0.0000000e+00 ... -3.0517578e-05\n",
      " -3.0517578e-05 -3.0517578e-05] as keyword args. From version 0.10 passing these as positional arguments will result in an error\n",
      "  mel=np.mean(librosa.feature.melspectrogram(X, sr=sample_rate).T,axis=0)\n"
     ]
    },
    {
     "name": "stdout",
     "output_type": "stream",
     "text": [
      "File name = 03-01-06-01-02-02-02.wav , emotion = fearful\n",
      "File name = 03-01-06-02-01-01-02.wav , emotion = fearful\n",
      "File name = 03-01-06-02-01-02-02.wav , emotion = fearful\n",
      "File name = 03-01-06-02-02-01-02.wav , emotion = fearful\n"
     ]
    },
    {
     "name": "stderr",
     "output_type": "stream",
     "text": [
      "C:\\Users\\Pravin Bhise\\AppData\\Local\\Temp\\ipykernel_7712\\2608815035.py:25: FutureWarning: Pass y=[0.0000000e+00 0.0000000e+00 0.0000000e+00 ... 3.0517578e-05 0.0000000e+00\n",
      " 3.0517578e-05] as keyword args. From version 0.10 passing these as positional arguments will result in an error\n",
      "  mel=np.mean(librosa.feature.melspectrogram(X, sr=sample_rate).T,axis=0)\n",
      "C:\\Users\\Pravin Bhise\\AppData\\Local\\Temp\\ipykernel_7712\\2608815035.py:25: FutureWarning: Pass y=[ 0.0000000e+00  0.0000000e+00  0.0000000e+00 ... -6.1035156e-05\n",
      " -1.2207031e-04 -3.0517578e-05] as keyword args. From version 0.10 passing these as positional arguments will result in an error\n",
      "  mel=np.mean(librosa.feature.melspectrogram(X, sr=sample_rate).T,axis=0)\n"
     ]
    },
    {
     "name": "stdout",
     "output_type": "stream",
     "text": [
      "File name = 03-01-06-02-02-02-02.wav , emotion = fearful\n",
      "File name = 03-01-07-01-01-01-02.wav , emotion = disgust\n"
     ]
    },
    {
     "name": "stderr",
     "output_type": "stream",
     "text": [
      "C:\\Users\\Pravin Bhise\\AppData\\Local\\Temp\\ipykernel_7712\\2608815035.py:25: FutureWarning: Pass y=[ 0.0000000e+00  0.0000000e+00  0.0000000e+00 ... -3.0517578e-05\n",
      "  0.0000000e+00 -3.0517578e-05] as keyword args. From version 0.10 passing these as positional arguments will result in an error\n",
      "  mel=np.mean(librosa.feature.melspectrogram(X, sr=sample_rate).T,axis=0)\n",
      "C:\\Users\\Pravin Bhise\\AppData\\Local\\Temp\\ipykernel_7712\\2608815035.py:25: FutureWarning: Pass y=[ 0.0000000e+00  0.0000000e+00  0.0000000e+00 ...  0.0000000e+00\n",
      " -6.1035156e-05 -3.0517578e-05] as keyword args. From version 0.10 passing these as positional arguments will result in an error\n",
      "  mel=np.mean(librosa.feature.melspectrogram(X, sr=sample_rate).T,axis=0)\n"
     ]
    },
    {
     "name": "stdout",
     "output_type": "stream",
     "text": [
      "File name = 03-01-07-01-01-02-02.wav , emotion = disgust\n",
      "File name = 03-01-07-01-02-01-02.wav , emotion = disgust\n",
      "File name = 03-01-07-01-02-02-02.wav , emotion = disgust\n",
      "File name = 03-01-07-02-01-01-02.wav , emotion = disgust\n",
      "File name = 03-01-07-02-01-02-02.wav , emotion = disgust\n",
      "File name = 03-01-07-02-02-01-02.wav , emotion = disgust\n"
     ]
    },
    {
     "name": "stderr",
     "output_type": "stream",
     "text": [
      "C:\\Users\\Pravin Bhise\\AppData\\Local\\Temp\\ipykernel_7712\\2608815035.py:25: FutureWarning: Pass y=[0.0000000e+00 0.0000000e+00 0.0000000e+00 ... 6.1035156e-05 6.1035156e-05\n",
      " 3.0517578e-05] as keyword args. From version 0.10 passing these as positional arguments will result in an error\n",
      "  mel=np.mean(librosa.feature.melspectrogram(X, sr=sample_rate).T,axis=0)\n",
      "C:\\Users\\Pravin Bhise\\AppData\\Local\\Temp\\ipykernel_7712\\2608815035.py:25: FutureWarning: Pass y=[0.0000000e+00 0.0000000e+00 0.0000000e+00 ... 0.0000000e+00 3.0517578e-05\n",
      " 0.0000000e+00] as keyword args. From version 0.10 passing these as positional arguments will result in an error\n",
      "  mel=np.mean(librosa.feature.melspectrogram(X, sr=sample_rate).T,axis=0)\n"
     ]
    },
    {
     "name": "stdout",
     "output_type": "stream",
     "text": [
      "File name = 03-01-07-02-02-02-02.wav , emotion = disgust\n",
      "File name = 03-01-08-01-01-01-02.wav , emotion = surprised\n",
      "File name = 03-01-08-01-01-02-02.wav , emotion = surprised\n",
      "File name = 03-01-08-01-02-01-02.wav , emotion = surprised\n",
      "File name = 03-01-08-01-02-02-02.wav , emotion = surprised\n",
      "File name = 03-01-08-02-01-01-02.wav , emotion = surprised\n",
      "File name = 03-01-08-02-01-02-02.wav , emotion = surprised\n",
      "File name = 03-01-08-02-02-01-02.wav , emotion = surprised\n",
      "File name = 03-01-08-02-02-02-02.wav , emotion = surprised\n",
      "File name = 03-01-01-01-01-01-03.wav , emotion = neutral\n",
      "File name = 03-01-01-01-01-02-03.wav , emotion = neutral\n",
      "File name = 03-01-01-01-02-01-03.wav , emotion = neutral\n",
      "File name = 03-01-01-01-02-02-03.wav , emotion = neutral\n",
      "File name = 03-01-02-01-01-01-03.wav , emotion = calm\n"
     ]
    },
    {
     "name": "stderr",
     "output_type": "stream",
     "text": [
      "C:\\Users\\Pravin Bhise\\AppData\\Local\\Temp\\ipykernel_7712\\2608815035.py:25: FutureWarning: Pass y=[ 0.0000000e+00  0.0000000e+00  0.0000000e+00 ... -6.1035156e-05\n",
      " -6.1035156e-05 -3.0517578e-05] as keyword args. From version 0.10 passing these as positional arguments will result in an error\n",
      "  mel=np.mean(librosa.feature.melspectrogram(X, sr=sample_rate).T,axis=0)\n",
      "C:\\Users\\Pravin Bhise\\AppData\\Local\\Temp\\ipykernel_7712\\2608815035.py:25: FutureWarning: Pass y=[ 0.0000000e+00  0.0000000e+00  0.0000000e+00 ...  0.0000000e+00\n",
      "  0.0000000e+00 -6.1035156e-05] as keyword args. From version 0.10 passing these as positional arguments will result in an error\n",
      "  mel=np.mean(librosa.feature.melspectrogram(X, sr=sample_rate).T,axis=0)\n"
     ]
    },
    {
     "name": "stdout",
     "output_type": "stream",
     "text": [
      "File name = 03-01-02-01-01-02-03.wav , emotion = calm\n",
      "File name = 03-01-02-01-02-01-03.wav , emotion = calm\n"
     ]
    },
    {
     "name": "stderr",
     "output_type": "stream",
     "text": [
      "C:\\Users\\Pravin Bhise\\AppData\\Local\\Temp\\ipykernel_7712\\2608815035.py:25: FutureWarning: Pass y=[ 0.0000000e+00  0.0000000e+00  0.0000000e+00 ... -3.0517578e-05\n",
      " -3.0517578e-05  0.0000000e+00] as keyword args. From version 0.10 passing these as positional arguments will result in an error\n",
      "  mel=np.mean(librosa.feature.melspectrogram(X, sr=sample_rate).T,axis=0)\n",
      "C:\\Users\\Pravin Bhise\\AppData\\Local\\Temp\\ipykernel_7712\\2608815035.py:25: FutureWarning: Pass y=[0.0000000e+00 0.0000000e+00 0.0000000e+00 ... 9.1552734e-05 1.2207031e-04\n",
      " 1.2207031e-04] as keyword args. From version 0.10 passing these as positional arguments will result in an error\n",
      "  mel=np.mean(librosa.feature.melspectrogram(X, sr=sample_rate).T,axis=0)\n"
     ]
    },
    {
     "name": "stdout",
     "output_type": "stream",
     "text": [
      "File name = 03-01-02-01-02-02-03.wav , emotion = calm\n",
      "File name = 03-01-02-02-01-01-03.wav , emotion = calm\n"
     ]
    },
    {
     "name": "stderr",
     "output_type": "stream",
     "text": [
      "C:\\Users\\Pravin Bhise\\AppData\\Local\\Temp\\ipykernel_7712\\2608815035.py:25: FutureWarning: Pass y=[0.0000000e+00 0.0000000e+00 0.0000000e+00 ... 1.8310547e-04 6.1035156e-05\n",
      " 0.0000000e+00] as keyword args. From version 0.10 passing these as positional arguments will result in an error\n",
      "  mel=np.mean(librosa.feature.melspectrogram(X, sr=sample_rate).T,axis=0)\n",
      "C:\\Users\\Pravin Bhise\\AppData\\Local\\Temp\\ipykernel_7712\\2608815035.py:25: FutureWarning: Pass y=[0.         0.         0.00015259 ... 0.         0.         0.        ] as keyword args. From version 0.10 passing these as positional arguments will result in an error\n",
      "  mel=np.mean(librosa.feature.melspectrogram(X, sr=sample_rate).T,axis=0)\n"
     ]
    },
    {
     "name": "stdout",
     "output_type": "stream",
     "text": [
      "File name = 03-01-02-02-01-02-03.wav , emotion = calm\n",
      "File name = 03-01-02-02-02-01-03.wav , emotion = calm\n",
      "File name = 03-01-02-02-02-02-03.wav , emotion = calm\n"
     ]
    },
    {
     "name": "stderr",
     "output_type": "stream",
     "text": [
      "C:\\Users\\Pravin Bhise\\AppData\\Local\\Temp\\ipykernel_7712\\2608815035.py:25: FutureWarning: Pass y=[ 0.         -0.00012207 -0.00027466 ... -0.00015259 -0.00015259\n",
      " -0.00021362] as keyword args. From version 0.10 passing these as positional arguments will result in an error\n",
      "  mel=np.mean(librosa.feature.melspectrogram(X, sr=sample_rate).T,axis=0)\n",
      "C:\\Users\\Pravin Bhise\\AppData\\Local\\Temp\\ipykernel_7712\\2608815035.py:25: FutureWarning: Pass y=[0.         0.00015259 0.00015259 ... 0.00024414 0.00024414 0.00018311] as keyword args. From version 0.10 passing these as positional arguments will result in an error\n",
      "  mel=np.mean(librosa.feature.melspectrogram(X, sr=sample_rate).T,axis=0)\n"
     ]
    },
    {
     "name": "stdout",
     "output_type": "stream",
     "text": [
      "File name = 03-01-03-01-01-01-03.wav , emotion = happy\n",
      "File name = 03-01-03-01-01-02-03.wav , emotion = happy\n"
     ]
    },
    {
     "name": "stderr",
     "output_type": "stream",
     "text": [
      "C:\\Users\\Pravin Bhise\\AppData\\Local\\Temp\\ipykernel_7712\\2608815035.py:25: FutureWarning: Pass y=[ 6.1035156e-05  6.1035156e-05  9.1552734e-05 ... -3.0517578e-05\n",
      "  0.0000000e+00  0.0000000e+00] as keyword args. From version 0.10 passing these as positional arguments will result in an error\n",
      "  mel=np.mean(librosa.feature.melspectrogram(X, sr=sample_rate).T,axis=0)\n",
      "C:\\Users\\Pravin Bhise\\AppData\\Local\\Temp\\ipykernel_7712\\2608815035.py:25: FutureWarning: Pass y=[ 5.1879883e-04 -6.1035156e-05 -4.2724609e-04 ...  0.0000000e+00\n",
      " -9.1552734e-05 -6.1035156e-05] as keyword args. From version 0.10 passing these as positional arguments will result in an error\n",
      "  mel=np.mean(librosa.feature.melspectrogram(X, sr=sample_rate).T,axis=0)\n"
     ]
    },
    {
     "name": "stdout",
     "output_type": "stream",
     "text": [
      "File name = 03-01-03-01-02-01-03.wav , emotion = happy\n",
      "File name = 03-01-03-01-02-02-03.wav , emotion = happy\n"
     ]
    },
    {
     "name": "stderr",
     "output_type": "stream",
     "text": [
      "C:\\Users\\Pravin Bhise\\AppData\\Local\\Temp\\ipykernel_7712\\2608815035.py:25: FutureWarning: Pass y=[0.0000000e+00 0.0000000e+00 0.0000000e+00 ... 0.0000000e+00 0.0000000e+00\n",
      " 3.0517578e-05] as keyword args. From version 0.10 passing these as positional arguments will result in an error\n",
      "  mel=np.mean(librosa.feature.melspectrogram(X, sr=sample_rate).T,axis=0)\n"
     ]
    },
    {
     "name": "stdout",
     "output_type": "stream",
     "text": [
      "File name = 03-01-03-02-01-01-03.wav , emotion = happy\n",
      "File name = 03-01-03-02-01-02-03.wav , emotion = happy\n"
     ]
    },
    {
     "name": "stderr",
     "output_type": "stream",
     "text": [
      "C:\\Users\\Pravin Bhise\\AppData\\Local\\Temp\\ipykernel_7712\\2608815035.py:25: FutureWarning: Pass y=[ 1.2207031e-04  1.5258789e-04 -3.0517578e-05 ...  0.0000000e+00\n",
      "  0.0000000e+00  0.0000000e+00] as keyword args. From version 0.10 passing these as positional arguments will result in an error\n",
      "  mel=np.mean(librosa.feature.melspectrogram(X, sr=sample_rate).T,axis=0)\n",
      "C:\\Users\\Pravin Bhise\\AppData\\Local\\Temp\\ipykernel_7712\\2608815035.py:25: FutureWarning: Pass y=[-0.00027466 -0.00024414 -0.00027466 ... -0.00015259 -0.00021362\n",
      " -0.00024414] as keyword args. From version 0.10 passing these as positional arguments will result in an error\n",
      "  mel=np.mean(librosa.feature.melspectrogram(X, sr=sample_rate).T,axis=0)\n"
     ]
    },
    {
     "name": "stdout",
     "output_type": "stream",
     "text": [
      "File name = 03-01-03-02-02-01-03.wav , emotion = happy\n",
      "File name = 03-01-03-02-02-02-03.wav , emotion = happy\n"
     ]
    },
    {
     "name": "stderr",
     "output_type": "stream",
     "text": [
      "C:\\Users\\Pravin Bhise\\AppData\\Local\\Temp\\ipykernel_7712\\2608815035.py:25: FutureWarning: Pass y=[-9.1552734e-05 -9.1552734e-04 -1.0986328e-03 ...  2.7465820e-04\n",
      "  3.0517578e-04  3.6621094e-04] as keyword args. From version 0.10 passing these as positional arguments will result in an error\n",
      "  mel=np.mean(librosa.feature.melspectrogram(X, sr=sample_rate).T,axis=0)\n",
      "C:\\Users\\Pravin Bhise\\AppData\\Local\\Temp\\ipykernel_7712\\2608815035.py:25: FutureWarning: Pass y=[ 0.          0.          0.         ... -0.00021362 -0.00033569\n",
      " -0.00042725] as keyword args. From version 0.10 passing these as positional arguments will result in an error\n",
      "  mel=np.mean(librosa.feature.melspectrogram(X, sr=sample_rate).T,axis=0)\n"
     ]
    },
    {
     "name": "stdout",
     "output_type": "stream",
     "text": [
      "File name = 03-01-04-01-01-01-03.wav , emotion = sad\n",
      "File name = 03-01-04-01-01-02-03.wav , emotion = sad\n",
      "File name = 03-01-04-01-02-01-03.wav , emotion = sad\n",
      "File name = 03-01-04-01-02-02-03.wav , emotion = sad\n",
      "File name = 03-01-04-02-01-01-03.wav , emotion = sad\n",
      "File name = 03-01-04-02-01-02-03.wav , emotion = sad\n",
      "File name = 03-01-04-02-02-01-03.wav , emotion = sad\n",
      "File name = 03-01-04-02-02-02-03.wav , emotion = sad\n",
      "File name = 03-01-05-01-01-01-03.wav , emotion = angry\n",
      "File name = 03-01-05-01-01-02-03.wav , emotion = angry\n",
      "File name = 03-01-05-01-02-01-03.wav , emotion = angry\n",
      "File name = 03-01-05-01-02-02-03.wav , emotion = angry\n",
      "File name = 03-01-05-02-01-01-03.wav , emotion = angry\n",
      "File name = 03-01-05-02-01-02-03.wav , emotion = angry\n",
      "File name = 03-01-05-02-02-01-03.wav , emotion = angry\n",
      "File name = 03-01-05-02-02-02-03.wav , emotion = angry\n",
      "File name = 03-01-06-01-01-01-03.wav , emotion = fearful\n",
      "File name = 03-01-06-01-01-02-03.wav , emotion = fearful\n"
     ]
    },
    {
     "name": "stderr",
     "output_type": "stream",
     "text": [
      "C:\\Users\\Pravin Bhise\\AppData\\Local\\Temp\\ipykernel_7712\\2608815035.py:25: FutureWarning: Pass y=[0.0000000e+00 0.0000000e+00 0.0000000e+00 ... 3.0517578e-05 3.0517578e-05\n",
      " 0.0000000e+00] as keyword args. From version 0.10 passing these as positional arguments will result in an error\n",
      "  mel=np.mean(librosa.feature.melspectrogram(X, sr=sample_rate).T,axis=0)\n",
      "C:\\Users\\Pravin Bhise\\AppData\\Local\\Temp\\ipykernel_7712\\2608815035.py:25: FutureWarning: Pass y=[ 0.0000000e+00  0.0000000e+00 -3.0517578e-05 ... -1.5258789e-04\n",
      " -1.5258789e-04 -3.0517578e-05] as keyword args. From version 0.10 passing these as positional arguments will result in an error\n",
      "  mel=np.mean(librosa.feature.melspectrogram(X, sr=sample_rate).T,axis=0)\n"
     ]
    },
    {
     "name": "stdout",
     "output_type": "stream",
     "text": [
      "File name = 03-01-06-01-02-01-03.wav , emotion = fearful\n",
      "File name = 03-01-06-01-02-02-03.wav , emotion = fearful\n"
     ]
    },
    {
     "name": "stderr",
     "output_type": "stream",
     "text": [
      "C:\\Users\\Pravin Bhise\\AppData\\Local\\Temp\\ipykernel_7712\\2608815035.py:25: FutureWarning: Pass y=[ 0.          0.          0.         ... -0.0005188  -0.0005188\n",
      " -0.00054932] as keyword args. From version 0.10 passing these as positional arguments will result in an error\n",
      "  mel=np.mean(librosa.feature.melspectrogram(X, sr=sample_rate).T,axis=0)\n",
      "C:\\Users\\Pravin Bhise\\AppData\\Local\\Temp\\ipykernel_7712\\2608815035.py:25: FutureWarning: Pass y=[ 0.00018311  0.00018311  0.00018311 ...  0.00027466  0.00021362\n",
      " -0.00061035] as keyword args. From version 0.10 passing these as positional arguments will result in an error\n",
      "  mel=np.mean(librosa.feature.melspectrogram(X, sr=sample_rate).T,axis=0)\n"
     ]
    },
    {
     "name": "stdout",
     "output_type": "stream",
     "text": [
      "File name = 03-01-06-02-01-01-03.wav , emotion = fearful\n",
      "File name = 03-01-06-02-01-02-03.wav , emotion = fearful\n"
     ]
    },
    {
     "name": "stderr",
     "output_type": "stream",
     "text": [
      "C:\\Users\\Pravin Bhise\\AppData\\Local\\Temp\\ipykernel_7712\\2608815035.py:25: FutureWarning: Pass y=[-0.01373291 -0.01370239 -0.01379395 ... -0.00057983 -0.00180054\n",
      " -0.00396729] as keyword args. From version 0.10 passing these as positional arguments will result in an error\n",
      "  mel=np.mean(librosa.feature.melspectrogram(X, sr=sample_rate).T,axis=0)\n",
      "C:\\Users\\Pravin Bhise\\AppData\\Local\\Temp\\ipykernel_7712\\2608815035.py:25: FutureWarning: Pass y=[-0.00033569 -0.00045776 -0.00042725 ... -0.00082397 -0.00082397\n",
      " -0.00061035] as keyword args. From version 0.10 passing these as positional arguments will result in an error\n",
      "  mel=np.mean(librosa.feature.melspectrogram(X, sr=sample_rate).T,axis=0)\n"
     ]
    },
    {
     "name": "stdout",
     "output_type": "stream",
     "text": [
      "File name = 03-01-06-02-02-01-03.wav , emotion = fearful\n",
      "File name = 03-01-06-02-02-02-03.wav , emotion = fearful\n"
     ]
    },
    {
     "name": "stderr",
     "output_type": "stream",
     "text": [
      "C:\\Users\\Pravin Bhise\\AppData\\Local\\Temp\\ipykernel_7712\\2608815035.py:25: FutureWarning: Pass y=[-0.00210571 -0.00375366 -0.00332642 ... -0.00073242 -0.0007019\n",
      " -0.00057983] as keyword args. From version 0.10 passing these as positional arguments will result in an error\n",
      "  mel=np.mean(librosa.feature.melspectrogram(X, sr=sample_rate).T,axis=0)\n",
      "C:\\Users\\Pravin Bhise\\AppData\\Local\\Temp\\ipykernel_7712\\2608815035.py:25: FutureWarning: Pass y=[-1.5258789e-04  5.1879883e-04  1.5258789e-03 ... -1.2207031e-04\n",
      " -1.5258789e-04  9.1552734e-05] as keyword args. From version 0.10 passing these as positional arguments will result in an error\n",
      "  mel=np.mean(librosa.feature.melspectrogram(X, sr=sample_rate).T,axis=0)\n"
     ]
    },
    {
     "name": "stdout",
     "output_type": "stream",
     "text": [
      "File name = 03-01-07-01-01-01-03.wav , emotion = disgust\n",
      "File name = 03-01-07-01-01-02-03.wav , emotion = disgust\n",
      "File name = 03-01-07-01-02-01-03.wav , emotion = disgust\n",
      "File name = 03-01-07-01-02-02-03.wav , emotion = disgust\n"
     ]
    },
    {
     "name": "stderr",
     "output_type": "stream",
     "text": [
      "C:\\Users\\Pravin Bhise\\AppData\\Local\\Temp\\ipykernel_7712\\2608815035.py:25: FutureWarning: Pass y=[-1.5258789e-04 -2.7465820e-04 -3.3569336e-04 ...  0.0000000e+00\n",
      "  3.0517578e-05  3.0517578e-05] as keyword args. From version 0.10 passing these as positional arguments will result in an error\n",
      "  mel=np.mean(librosa.feature.melspectrogram(X, sr=sample_rate).T,axis=0)\n",
      "C:\\Users\\Pravin Bhise\\AppData\\Local\\Temp\\ipykernel_7712\\2608815035.py:25: FutureWarning: Pass y=[ 0.          0.          0.         ... -0.00015259 -0.00036621\n",
      " -0.00048828] as keyword args. From version 0.10 passing these as positional arguments will result in an error\n",
      "  mel=np.mean(librosa.feature.melspectrogram(X, sr=sample_rate).T,axis=0)\n"
     ]
    },
    {
     "name": "stdout",
     "output_type": "stream",
     "text": [
      "File name = 03-01-07-02-01-01-03.wav , emotion = disgust\n",
      "File name = 03-01-07-02-01-02-03.wav , emotion = disgust\n"
     ]
    },
    {
     "name": "stderr",
     "output_type": "stream",
     "text": [
      "C:\\Users\\Pravin Bhise\\AppData\\Local\\Temp\\ipykernel_7712\\2608815035.py:25: FutureWarning: Pass y=[-6.1035156e-05 -3.0517578e-05 -3.0517578e-05 ...  5.4931641e-04\n",
      "  3.9672852e-04  2.4414062e-04] as keyword args. From version 0.10 passing these as positional arguments will result in an error\n",
      "  mel=np.mean(librosa.feature.melspectrogram(X, sr=sample_rate).T,axis=0)\n",
      "C:\\Users\\Pravin Bhise\\AppData\\Local\\Temp\\ipykernel_7712\\2608815035.py:25: FutureWarning: Pass y=[-9.1552734e-05 -6.4086914e-04 -5.1879883e-04 ... -6.1035156e-05\n",
      "  2.4414062e-04  1.8310547e-04] as keyword args. From version 0.10 passing these as positional arguments will result in an error\n",
      "  mel=np.mean(librosa.feature.melspectrogram(X, sr=sample_rate).T,axis=0)\n"
     ]
    },
    {
     "name": "stdout",
     "output_type": "stream",
     "text": [
      "File name = 03-01-07-02-02-01-03.wav , emotion = disgust\n",
      "File name = 03-01-07-02-02-02-03.wav , emotion = disgust\n"
     ]
    },
    {
     "name": "stderr",
     "output_type": "stream",
     "text": [
      "C:\\Users\\Pravin Bhise\\AppData\\Local\\Temp\\ipykernel_7712\\2608815035.py:25: FutureWarning: Pass y=[ 0.0007019   0.0012207   0.00125122 ...  0.          0.00039673\n",
      " -0.00048828] as keyword args. From version 0.10 passing these as positional arguments will result in an error\n",
      "  mel=np.mean(librosa.feature.melspectrogram(X, sr=sample_rate).T,axis=0)\n"
     ]
    },
    {
     "name": "stdout",
     "output_type": "stream",
     "text": [
      "File name = 03-01-08-01-01-01-03.wav , emotion = surprised\n",
      "File name = 03-01-08-01-01-02-03.wav , emotion = surprised\n",
      "File name = 03-01-08-01-02-01-03.wav , emotion = surprised\n",
      "File name = 03-01-08-01-02-02-03.wav , emotion = surprised\n",
      "File name = 03-01-08-02-01-01-03.wav , emotion = surprised\n",
      "File name = 03-01-08-02-01-02-03.wav , emotion = surprised\n",
      "File name = 03-01-08-02-02-01-03.wav , emotion = surprised\n",
      "File name = 03-01-08-02-02-02-03.wav , emotion = surprised\n",
      "File name = 03-01-01-01-01-01-04.wav , emotion = neutral\n",
      "File name = 03-01-01-01-01-02-04.wav , emotion = neutral\n",
      "File name = 03-01-01-01-02-01-04.wav , emotion = neutral\n",
      "File name = 03-01-01-01-02-02-04.wav , emotion = neutral\n",
      "File name = 03-01-02-01-01-01-04.wav , emotion = calm\n",
      "File name = 03-01-02-01-01-02-04.wav , emotion = calm\n",
      "File name = 03-01-02-01-02-01-04.wav , emotion = calm\n",
      "File name = 03-01-02-01-02-02-04.wav , emotion = calm\n"
     ]
    },
    {
     "name": "stderr",
     "output_type": "stream",
     "text": [
      "C:\\Users\\Pravin Bhise\\AppData\\Local\\Temp\\ipykernel_7712\\2608815035.py:25: FutureWarning: Pass y=[0.0000000e+00 0.0000000e+00 0.0000000e+00 ... 6.1035156e-05 9.1552734e-05\n",
      " 6.1035156e-05] as keyword args. From version 0.10 passing these as positional arguments will result in an error\n",
      "  mel=np.mean(librosa.feature.melspectrogram(X, sr=sample_rate).T,axis=0)\n",
      "C:\\Users\\Pravin Bhise\\AppData\\Local\\Temp\\ipykernel_7712\\2608815035.py:25: FutureWarning: Pass y=[ 0.0000000e+00  0.0000000e+00  0.0000000e+00 ... -6.1035156e-05\n",
      " -3.0517578e-05  0.0000000e+00] as keyword args. From version 0.10 passing these as positional arguments will result in an error\n",
      "  mel=np.mean(librosa.feature.melspectrogram(X, sr=sample_rate).T,axis=0)\n"
     ]
    },
    {
     "name": "stdout",
     "output_type": "stream",
     "text": [
      "File name = 03-01-02-02-01-01-04.wav , emotion = calm\n",
      "File name = 03-01-02-02-01-02-04.wav , emotion = calm\n",
      "File name = 03-01-02-02-02-01-04.wav , emotion = calm\n",
      "File name = 03-01-02-02-02-02-04.wav , emotion = calm\n",
      "File name = 03-01-03-01-01-01-04.wav , emotion = happy\n",
      "File name = 03-01-03-01-01-02-04.wav , emotion = happy\n",
      "File name = 03-01-03-01-02-01-04.wav , emotion = happy\n",
      "File name = 03-01-03-01-02-02-04.wav , emotion = happy\n",
      "File name = 03-01-03-02-01-01-04.wav , emotion = happy\n",
      "File name = 03-01-03-02-01-02-04.wav , emotion = happy\n"
     ]
    },
    {
     "name": "stderr",
     "output_type": "stream",
     "text": [
      "C:\\Users\\Pravin Bhise\\AppData\\Local\\Temp\\ipykernel_7712\\2608815035.py:25: FutureWarning: Pass y=[0.0000000e+00 0.0000000e+00 0.0000000e+00 ... 6.1035156e-05 0.0000000e+00\n",
      " 0.0000000e+00] as keyword args. From version 0.10 passing these as positional arguments will result in an error\n",
      "  mel=np.mean(librosa.feature.melspectrogram(X, sr=sample_rate).T,axis=0)\n",
      "C:\\Users\\Pravin Bhise\\AppData\\Local\\Temp\\ipykernel_7712\\2608815035.py:25: FutureWarning: Pass y=[ 0.0000000e+00  0.0000000e+00  0.0000000e+00 ... -3.0517578e-05\n",
      "  0.0000000e+00  0.0000000e+00] as keyword args. From version 0.10 passing these as positional arguments will result in an error\n",
      "  mel=np.mean(librosa.feature.melspectrogram(X, sr=sample_rate).T,axis=0)\n"
     ]
    },
    {
     "name": "stdout",
     "output_type": "stream",
     "text": [
      "File name = 03-01-03-02-02-01-04.wav , emotion = happy\n",
      "File name = 03-01-03-02-02-02-04.wav , emotion = happy\n"
     ]
    },
    {
     "name": "stderr",
     "output_type": "stream",
     "text": [
      "C:\\Users\\Pravin Bhise\\AppData\\Local\\Temp\\ipykernel_7712\\2608815035.py:25: FutureWarning: Pass y=[3.0517578e-05 0.0000000e+00 0.0000000e+00 ... 0.0000000e+00 0.0000000e+00\n",
      " 0.0000000e+00] as keyword args. From version 0.10 passing these as positional arguments will result in an error\n",
      "  mel=np.mean(librosa.feature.melspectrogram(X, sr=sample_rate).T,axis=0)\n"
     ]
    },
    {
     "name": "stdout",
     "output_type": "stream",
     "text": [
      "File name = 03-01-04-01-01-01-04.wav , emotion = sad\n",
      "File name = 03-01-04-01-01-02-04.wav , emotion = sad\n",
      "File name = 03-01-04-01-02-01-04.wav , emotion = sad\n",
      "File name = 03-01-04-01-02-02-04.wav , emotion = sad\n",
      "File name = 03-01-04-02-01-01-04.wav , emotion = sad\n",
      "File name = 03-01-04-02-01-02-04.wav , emotion = sad\n",
      "File name = 03-01-04-02-02-01-04.wav , emotion = sad\n",
      "File name = 03-01-04-02-02-02-04.wav , emotion = sad\n",
      "File name = 03-01-05-01-01-01-04.wav , emotion = angry\n",
      "File name = 03-01-05-01-01-02-04.wav , emotion = angry\n",
      "File name = 03-01-05-01-02-01-04.wav , emotion = angry\n",
      "File name = 03-01-05-01-02-02-04.wav , emotion = angry\n",
      "File name = 03-01-05-02-01-01-04.wav , emotion = angry\n",
      "File name = 03-01-05-02-01-02-04.wav , emotion = angry\n",
      "File name = 03-01-05-02-02-01-04.wav , emotion = angry\n",
      "File name = 03-01-05-02-02-02-04.wav , emotion = angry\n",
      "File name = 03-01-06-01-01-01-04.wav , emotion = fearful\n",
      "File name = 03-01-06-01-01-02-04.wav , emotion = fearful\n"
     ]
    },
    {
     "name": "stderr",
     "output_type": "stream",
     "text": [
      "C:\\Users\\Pravin Bhise\\AppData\\Local\\Temp\\ipykernel_7712\\2608815035.py:25: FutureWarning: Pass y=[ 0.0000000e+00  0.0000000e+00  0.0000000e+00 ... -6.1035156e-05\n",
      " -6.1035156e-05 -6.1035156e-05] as keyword args. From version 0.10 passing these as positional arguments will result in an error\n",
      "  mel=np.mean(librosa.feature.melspectrogram(X, sr=sample_rate).T,axis=0)\n"
     ]
    },
    {
     "name": "stdout",
     "output_type": "stream",
     "text": [
      "File name = 03-01-06-01-02-01-04.wav , emotion = fearful\n",
      "File name = 03-01-06-01-02-02-04.wav , emotion = fearful\n"
     ]
    },
    {
     "name": "stderr",
     "output_type": "stream",
     "text": [
      "C:\\Users\\Pravin Bhise\\AppData\\Local\\Temp\\ipykernel_7712\\2608815035.py:25: FutureWarning: Pass y=[0.0000000e+00 0.0000000e+00 0.0000000e+00 ... 6.1035156e-05 3.0517578e-05\n",
      " 3.0517578e-05] as keyword args. From version 0.10 passing these as positional arguments will result in an error\n",
      "  mel=np.mean(librosa.feature.melspectrogram(X, sr=sample_rate).T,axis=0)\n"
     ]
    },
    {
     "name": "stdout",
     "output_type": "stream",
     "text": [
      "File name = 03-01-06-02-01-01-04.wav , emotion = fearful\n",
      "File name = 03-01-06-02-01-02-04.wav , emotion = fearful\n",
      "File name = 03-01-06-02-02-01-04.wav , emotion = fearful\n",
      "File name = 03-01-06-02-02-02-04.wav , emotion = fearful\n",
      "File name = 03-01-07-01-01-01-04.wav , emotion = disgust\n",
      "File name = 03-01-07-01-01-02-04.wav , emotion = disgust\n",
      "File name = 03-01-07-01-02-01-04.wav , emotion = disgust\n",
      "File name = 03-01-07-01-02-02-04.wav , emotion = disgust\n",
      "File name = 03-01-07-02-01-01-04.wav , emotion = disgust\n",
      "File name = 03-01-07-02-01-02-04.wav , emotion = disgust\n"
     ]
    },
    {
     "name": "stderr",
     "output_type": "stream",
     "text": [
      "C:\\Users\\Pravin Bhise\\AppData\\Local\\Temp\\ipykernel_7712\\2608815035.py:25: FutureWarning: Pass y=[0.0000000e+00 0.0000000e+00 0.0000000e+00 ... 3.0517578e-05 3.0517578e-05\n",
      " 3.0517578e-05] as keyword args. From version 0.10 passing these as positional arguments will result in an error\n",
      "  mel=np.mean(librosa.feature.melspectrogram(X, sr=sample_rate).T,axis=0)\n"
     ]
    },
    {
     "name": "stdout",
     "output_type": "stream",
     "text": [
      "File name = 03-01-07-02-02-01-04.wav , emotion = disgust\n",
      "File name = 03-01-07-02-02-02-04.wav , emotion = disgust\n"
     ]
    },
    {
     "name": "stderr",
     "output_type": "stream",
     "text": [
      "C:\\Users\\Pravin Bhise\\AppData\\Local\\Temp\\ipykernel_7712\\2608815035.py:25: FutureWarning: Pass y=[ 0.0000000e+00  0.0000000e+00  0.0000000e+00 ...  3.0517578e-05\n",
      " -3.0517578e-05 -6.1035156e-05] as keyword args. From version 0.10 passing these as positional arguments will result in an error\n",
      "  mel=np.mean(librosa.feature.melspectrogram(X, sr=sample_rate).T,axis=0)\n",
      "C:\\Users\\Pravin Bhise\\AppData\\Local\\Temp\\ipykernel_7712\\2608815035.py:25: FutureWarning: Pass y=[ 0.0000000e+00  0.0000000e+00  0.0000000e+00 ... -3.0517578e-05\n",
      " -1.8310547e-04  0.0000000e+00] as keyword args. From version 0.10 passing these as positional arguments will result in an error\n",
      "  mel=np.mean(librosa.feature.melspectrogram(X, sr=sample_rate).T,axis=0)\n"
     ]
    },
    {
     "name": "stdout",
     "output_type": "stream",
     "text": [
      "File name = 03-01-08-01-01-01-04.wav , emotion = surprised\n",
      "File name = 03-01-08-01-01-02-04.wav , emotion = surprised\n",
      "File name = 03-01-08-01-02-01-04.wav , emotion = surprised\n",
      "File name = 03-01-08-01-02-02-04.wav , emotion = surprised\n",
      "File name = 03-01-08-02-01-01-04.wav , emotion = surprised\n",
      "File name = 03-01-08-02-01-02-04.wav , emotion = surprised\n",
      "File name = 03-01-08-02-02-01-04.wav , emotion = surprised\n",
      "File name = 03-01-08-02-02-02-04.wav , emotion = surprised\n",
      "File name = 03-01-01-01-01-01-05.wav , emotion = neutral\n",
      "File name = 03-01-01-01-01-02-05.wav , emotion = neutral\n",
      "File name = 03-01-01-01-02-01-05.wav , emotion = neutral\n",
      "File name = 03-01-01-01-02-02-05.wav , emotion = neutral\n",
      "File name = 03-01-02-01-01-01-05.wav , emotion = calm\n",
      "File name = 03-01-02-01-01-02-05.wav , emotion = calm\n",
      "File name = 03-01-02-01-02-01-05.wav , emotion = calm\n",
      "File name = 03-01-02-01-02-02-05.wav , emotion = calm\n"
     ]
    },
    {
     "name": "stderr",
     "output_type": "stream",
     "text": [
      "C:\\Users\\Pravin Bhise\\AppData\\Local\\Temp\\ipykernel_7712\\2608815035.py:25: FutureWarning: Pass y=[6.1035156e-05 6.1035156e-05 6.1035156e-05 ... 0.0000000e+00 0.0000000e+00\n",
      " 0.0000000e+00] as keyword args. From version 0.10 passing these as positional arguments will result in an error\n",
      "  mel=np.mean(librosa.feature.melspectrogram(X, sr=sample_rate).T,axis=0)\n",
      "C:\\Users\\Pravin Bhise\\AppData\\Local\\Temp\\ipykernel_7712\\2608815035.py:25: FutureWarning: Pass y=[ 0.0000000e+00  3.0517578e-05  3.0517578e-05 ... -3.0517578e-05\n",
      " -3.0517578e-05 -6.1035156e-05] as keyword args. From version 0.10 passing these as positional arguments will result in an error\n",
      "  mel=np.mean(librosa.feature.melspectrogram(X, sr=sample_rate).T,axis=0)\n"
     ]
    },
    {
     "name": "stdout",
     "output_type": "stream",
     "text": [
      "File name = 03-01-02-02-01-01-05.wav , emotion = calm\n",
      "File name = 03-01-02-02-01-02-05.wav , emotion = calm\n",
      "File name = 03-01-02-02-02-01-05.wav , emotion = calm\n",
      "File name = 03-01-02-02-02-02-05.wav , emotion = calm\n"
     ]
    },
    {
     "name": "stderr",
     "output_type": "stream",
     "text": [
      "C:\\Users\\Pravin Bhise\\AppData\\Local\\Temp\\ipykernel_7712\\2608815035.py:25: FutureWarning: Pass y=[-3.0517578e-05  0.0000000e+00  0.0000000e+00 ...  0.0000000e+00\n",
      "  0.0000000e+00  0.0000000e+00] as keyword args. From version 0.10 passing these as positional arguments will result in an error\n",
      "  mel=np.mean(librosa.feature.melspectrogram(X, sr=sample_rate).T,axis=0)\n"
     ]
    },
    {
     "name": "stdout",
     "output_type": "stream",
     "text": [
      "File name = 03-01-03-01-01-01-05.wav , emotion = happy\n",
      "File name = 03-01-03-01-01-02-05.wav , emotion = happy\n",
      "File name = 03-01-03-01-02-01-05.wav , emotion = happy\n",
      "File name = 03-01-03-01-02-02-05.wav , emotion = happy\n"
     ]
    },
    {
     "name": "stderr",
     "output_type": "stream",
     "text": [
      "C:\\Users\\Pravin Bhise\\AppData\\Local\\Temp\\ipykernel_7712\\2608815035.py:25: FutureWarning: Pass y=[ 0.0000000e+00  0.0000000e+00  0.0000000e+00 ... -3.0517578e-05\n",
      " -6.1035156e-05 -3.0517578e-05] as keyword args. From version 0.10 passing these as positional arguments will result in an error\n",
      "  mel=np.mean(librosa.feature.melspectrogram(X, sr=sample_rate).T,axis=0)\n"
     ]
    },
    {
     "name": "stdout",
     "output_type": "stream",
     "text": [
      "File name = 03-01-03-02-01-01-05.wav , emotion = happy\n",
      "File name = 03-01-03-02-01-02-05.wav , emotion = happy\n"
     ]
    },
    {
     "name": "stderr",
     "output_type": "stream",
     "text": [
      "C:\\Users\\Pravin Bhise\\AppData\\Local\\Temp\\ipykernel_7712\\2608815035.py:25: FutureWarning: Pass y=[0.0000000e+00 0.0000000e+00 0.0000000e+00 ... 3.0517578e-05 6.1035156e-05\n",
      " 9.1552734e-05] as keyword args. From version 0.10 passing these as positional arguments will result in an error\n",
      "  mel=np.mean(librosa.feature.melspectrogram(X, sr=sample_rate).T,axis=0)\n",
      "C:\\Users\\Pravin Bhise\\AppData\\Local\\Temp\\ipykernel_7712\\2608815035.py:25: FutureWarning: Pass y=[-1.5258789e-04 -1.5258789e-04 -1.5258789e-04 ...  0.0000000e+00\n",
      "  3.0517578e-05  3.0517578e-05] as keyword args. From version 0.10 passing these as positional arguments will result in an error\n",
      "  mel=np.mean(librosa.feature.melspectrogram(X, sr=sample_rate).T,axis=0)\n"
     ]
    },
    {
     "name": "stdout",
     "output_type": "stream",
     "text": [
      "File name = 03-01-03-02-02-01-05.wav , emotion = happy\n",
      "File name = 03-01-03-02-02-02-05.wav , emotion = happy\n"
     ]
    },
    {
     "name": "stderr",
     "output_type": "stream",
     "text": [
      "C:\\Users\\Pravin Bhise\\AppData\\Local\\Temp\\ipykernel_7712\\2608815035.py:25: FutureWarning: Pass y=[-3.0517578e-05 -3.0517578e-05 -3.0517578e-05 ...  3.0517578e-05\n",
      "  6.1035156e-05  6.1035156e-05] as keyword args. From version 0.10 passing these as positional arguments will result in an error\n",
      "  mel=np.mean(librosa.feature.melspectrogram(X, sr=sample_rate).T,axis=0)\n",
      "C:\\Users\\Pravin Bhise\\AppData\\Local\\Temp\\ipykernel_7712\\2608815035.py:25: FutureWarning: Pass y=[-3.0517578e-05 -6.1035156e-05 -3.0517578e-05 ...  3.0517578e-05\n",
      "  0.0000000e+00  0.0000000e+00] as keyword args. From version 0.10 passing these as positional arguments will result in an error\n",
      "  mel=np.mean(librosa.feature.melspectrogram(X, sr=sample_rate).T,axis=0)\n"
     ]
    },
    {
     "name": "stdout",
     "output_type": "stream",
     "text": [
      "File name = 03-01-04-01-01-01-05.wav , emotion = sad\n",
      "File name = 03-01-04-01-01-02-05.wav , emotion = sad\n",
      "File name = 03-01-04-01-02-01-05.wav , emotion = sad\n",
      "File name = 03-01-04-01-02-02-05.wav , emotion = sad\n",
      "File name = 03-01-04-02-01-01-05.wav , emotion = sad\n",
      "File name = 03-01-04-02-01-02-05.wav , emotion = sad\n",
      "File name = 03-01-04-02-02-01-05.wav , emotion = sad\n",
      "File name = 03-01-04-02-02-02-05.wav , emotion = sad\n",
      "File name = 03-01-05-01-01-01-05.wav , emotion = angry\n",
      "File name = 03-01-05-01-01-02-05.wav , emotion = angry\n",
      "File name = 03-01-05-01-02-01-05.wav , emotion = angry\n",
      "File name = 03-01-05-01-02-02-05.wav , emotion = angry\n",
      "File name = 03-01-05-02-01-01-05.wav , emotion = angry\n",
      "File name = 03-01-05-02-01-02-05.wav , emotion = angry\n",
      "File name = 03-01-05-02-02-01-05.wav , emotion = angry\n",
      "File name = 03-01-05-02-02-02-05.wav , emotion = angry\n",
      "File name = 03-01-06-01-01-01-05.wav , emotion = fearful\n",
      "File name = 03-01-06-01-01-02-05.wav , emotion = fearful\n",
      "File name = 03-01-06-01-02-01-05.wav , emotion = fearful\n",
      "File name = 03-01-06-01-02-02-05.wav , emotion = fearful\n"
     ]
    },
    {
     "name": "stderr",
     "output_type": "stream",
     "text": [
      "C:\\Users\\Pravin Bhise\\AppData\\Local\\Temp\\ipykernel_7712\\2608815035.py:25: FutureWarning: Pass y=[ 0.0000000e+00  0.0000000e+00  0.0000000e+00 ... -6.1035156e-05\n",
      " -3.0517578e-05 -3.0517578e-05] as keyword args. From version 0.10 passing these as positional arguments will result in an error\n",
      "  mel=np.mean(librosa.feature.melspectrogram(X, sr=sample_rate).T,axis=0)\n"
     ]
    },
    {
     "name": "stdout",
     "output_type": "stream",
     "text": [
      "File name = 03-01-06-02-01-01-05.wav , emotion = fearful\n",
      "File name = 03-01-06-02-01-02-05.wav , emotion = fearful\n"
     ]
    },
    {
     "name": "stderr",
     "output_type": "stream",
     "text": [
      "C:\\Users\\Pravin Bhise\\AppData\\Local\\Temp\\ipykernel_7712\\2608815035.py:25: FutureWarning: Pass y=[-6.1035156e-05 -6.1035156e-05 -6.1035156e-05 ...  0.0000000e+00\n",
      "  0.0000000e+00  0.0000000e+00] as keyword args. From version 0.10 passing these as positional arguments will result in an error\n",
      "  mel=np.mean(librosa.feature.melspectrogram(X, sr=sample_rate).T,axis=0)\n",
      "C:\\Users\\Pravin Bhise\\AppData\\Local\\Temp\\ipykernel_7712\\2608815035.py:25: FutureWarning: Pass y=[ 0.0000000e+00 -3.0517578e-05 -1.2207031e-04 ... -3.0517578e-05\n",
      " -6.1035156e-05 -3.0517578e-05] as keyword args. From version 0.10 passing these as positional arguments will result in an error\n",
      "  mel=np.mean(librosa.feature.melspectrogram(X, sr=sample_rate).T,axis=0)\n"
     ]
    },
    {
     "name": "stdout",
     "output_type": "stream",
     "text": [
      "File name = 03-01-06-02-02-01-05.wav , emotion = fearful\n",
      "File name = 03-01-06-02-02-02-05.wav , emotion = fearful\n"
     ]
    },
    {
     "name": "stderr",
     "output_type": "stream",
     "text": [
      "C:\\Users\\Pravin Bhise\\AppData\\Local\\Temp\\ipykernel_7712\\2608815035.py:25: FutureWarning: Pass y=[-2.4414062e-04 -2.4414062e-04 -2.4414062e-04 ...  6.1035156e-05\n",
      "  3.0517578e-05  3.0517578e-05] as keyword args. From version 0.10 passing these as positional arguments will result in an error\n",
      "  mel=np.mean(librosa.feature.melspectrogram(X, sr=sample_rate).T,axis=0)\n",
      "C:\\Users\\Pravin Bhise\\AppData\\Local\\Temp\\ipykernel_7712\\2608815035.py:25: FutureWarning: Pass y=[ 7.6293945e-04 -3.0517578e-05  0.0000000e+00 ... -1.2207031e-04\n",
      " -1.5258789e-04 -1.2207031e-04] as keyword args. From version 0.10 passing these as positional arguments will result in an error\n",
      "  mel=np.mean(librosa.feature.melspectrogram(X, sr=sample_rate).T,axis=0)\n"
     ]
    },
    {
     "name": "stdout",
     "output_type": "stream",
     "text": [
      "File name = 03-01-07-01-01-01-05.wav , emotion = disgust\n",
      "File name = 03-01-07-01-01-02-05.wav , emotion = disgust\n",
      "File name = 03-01-07-01-02-01-05.wav , emotion = disgust\n",
      "File name = 03-01-07-01-02-02-05.wav , emotion = disgust\n",
      "File name = 03-01-07-02-01-01-05.wav , emotion = disgust\n",
      "File name = 03-01-07-02-01-02-05.wav , emotion = disgust\n"
     ]
    },
    {
     "name": "stderr",
     "output_type": "stream",
     "text": [
      "C:\\Users\\Pravin Bhise\\AppData\\Local\\Temp\\ipykernel_7712\\2608815035.py:25: FutureWarning: Pass y=[-3.0517578e-05 -3.0517578e-05 -3.0517578e-05 ...  0.0000000e+00\n",
      " -3.0517578e-05  0.0000000e+00] as keyword args. From version 0.10 passing these as positional arguments will result in an error\n",
      "  mel=np.mean(librosa.feature.melspectrogram(X, sr=sample_rate).T,axis=0)\n",
      "C:\\Users\\Pravin Bhise\\AppData\\Local\\Temp\\ipykernel_7712\\2608815035.py:25: FutureWarning: Pass y=[-3.0517578e-05 -3.0517578e-05  0.0000000e+00 ...  0.0000000e+00\n",
      "  0.0000000e+00  0.0000000e+00] as keyword args. From version 0.10 passing these as positional arguments will result in an error\n",
      "  mel=np.mean(librosa.feature.melspectrogram(X, sr=sample_rate).T,axis=0)\n"
     ]
    },
    {
     "name": "stdout",
     "output_type": "stream",
     "text": [
      "File name = 03-01-07-02-02-01-05.wav , emotion = disgust\n",
      "File name = 03-01-07-02-02-02-05.wav , emotion = disgust\n"
     ]
    },
    {
     "name": "stderr",
     "output_type": "stream",
     "text": [
      "C:\\Users\\Pravin Bhise\\AppData\\Local\\Temp\\ipykernel_7712\\2608815035.py:25: FutureWarning: Pass y=[-3.0517578e-05 -6.1035156e-05 -3.0517578e-05 ...  9.1552734e-05\n",
      "  1.2207031e-04  9.1552734e-05] as keyword args. From version 0.10 passing these as positional arguments will result in an error\n",
      "  mel=np.mean(librosa.feature.melspectrogram(X, sr=sample_rate).T,axis=0)\n"
     ]
    },
    {
     "name": "stdout",
     "output_type": "stream",
     "text": [
      "File name = 03-01-08-01-01-01-05.wav , emotion = surprised\n",
      "File name = 03-01-08-01-01-02-05.wav , emotion = surprised\n",
      "File name = 03-01-08-01-02-01-05.wav , emotion = surprised\n",
      "File name = 03-01-08-01-02-02-05.wav , emotion = surprised\n",
      "File name = 03-01-08-02-01-01-05.wav , emotion = surprised\n",
      "File name = 03-01-08-02-01-02-05.wav , emotion = surprised\n",
      "File name = 03-01-08-02-02-01-05.wav , emotion = surprised\n",
      "File name = 03-01-08-02-02-02-05.wav , emotion = surprised\n",
      "File name = 03-01-01-01-01-01-06.wav , emotion = neutral\n",
      "File name = 03-01-01-01-01-02-06.wav , emotion = neutral\n",
      "File name = 03-01-01-01-02-01-06.wav , emotion = neutral\n",
      "File name = 03-01-01-01-02-02-06.wav , emotion = neutral\n",
      "File name = 03-01-02-01-01-01-06.wav , emotion = calm\n",
      "File name = 03-01-02-01-01-02-06.wav , emotion = calm\n"
     ]
    },
    {
     "name": "stderr",
     "output_type": "stream",
     "text": [
      "C:\\Users\\Pravin Bhise\\AppData\\Local\\Temp\\ipykernel_7712\\2608815035.py:25: FutureWarning: Pass y=[0.0000000e+00 0.0000000e+00 3.0517578e-05 ... 6.1035156e-05 9.1552734e-05\n",
      " 6.1035156e-05] as keyword args. From version 0.10 passing these as positional arguments will result in an error\n",
      "  mel=np.mean(librosa.feature.melspectrogram(X, sr=sample_rate).T,axis=0)\n"
     ]
    },
    {
     "name": "stdout",
     "output_type": "stream",
     "text": [
      "File name = 03-01-02-01-02-01-06.wav , emotion = calm\n",
      "File name = 03-01-02-01-02-02-06.wav , emotion = calm\n",
      "File name = 03-01-02-02-01-01-06.wav , emotion = calm\n",
      "File name = 03-01-02-02-01-02-06.wav , emotion = calm\n"
     ]
    },
    {
     "name": "stderr",
     "output_type": "stream",
     "text": [
      "C:\\Users\\Pravin Bhise\\AppData\\Local\\Temp\\ipykernel_7712\\2608815035.py:25: FutureWarning: Pass y=[ 0.          0.          0.         ... -0.00018311 -0.00015259\n",
      " -0.00015259] as keyword args. From version 0.10 passing these as positional arguments will result in an error\n",
      "  mel=np.mean(librosa.feature.melspectrogram(X, sr=sample_rate).T,axis=0)\n",
      "C:\\Users\\Pravin Bhise\\AppData\\Local\\Temp\\ipykernel_7712\\2608815035.py:25: FutureWarning: Pass y=[ 0.0000000e+00 -6.1035156e-05 -9.1552734e-05 ...  0.0000000e+00\n",
      "  0.0000000e+00  0.0000000e+00] as keyword args. From version 0.10 passing these as positional arguments will result in an error\n",
      "  mel=np.mean(librosa.feature.melspectrogram(X, sr=sample_rate).T,axis=0)\n"
     ]
    },
    {
     "name": "stdout",
     "output_type": "stream",
     "text": [
      "File name = 03-01-02-02-02-01-06.wav , emotion = calm\n",
      "File name = 03-01-02-02-02-02-06.wav , emotion = calm\n"
     ]
    },
    {
     "name": "stderr",
     "output_type": "stream",
     "text": [
      "C:\\Users\\Pravin Bhise\\AppData\\Local\\Temp\\ipykernel_7712\\2608815035.py:25: FutureWarning: Pass y=[ 3.0517578e-05  0.0000000e+00  0.0000000e+00 ... -6.1035156e-05\n",
      " -3.0517578e-05  0.0000000e+00] as keyword args. From version 0.10 passing these as positional arguments will result in an error\n",
      "  mel=np.mean(librosa.feature.melspectrogram(X, sr=sample_rate).T,axis=0)\n"
     ]
    },
    {
     "name": "stdout",
     "output_type": "stream",
     "text": [
      "File name = 03-01-03-01-01-01-06.wav , emotion = happy\n",
      "File name = 03-01-03-01-01-02-06.wav , emotion = happy\n",
      "File name = 03-01-03-01-02-01-06.wav , emotion = happy\n",
      "File name = 03-01-03-01-02-02-06.wav , emotion = happy\n"
     ]
    },
    {
     "name": "stderr",
     "output_type": "stream",
     "text": [
      "C:\\Users\\Pravin Bhise\\AppData\\Local\\Temp\\ipykernel_7712\\2608815035.py:25: FutureWarning: Pass y=[ 6.1035156e-05  6.1035156e-05  3.0517578e-05 ...  0.0000000e+00\n",
      "  0.0000000e+00 -3.0517578e-05] as keyword args. From version 0.10 passing these as positional arguments will result in an error\n",
      "  mel=np.mean(librosa.feature.melspectrogram(X, sr=sample_rate).T,axis=0)\n",
      "C:\\Users\\Pravin Bhise\\AppData\\Local\\Temp\\ipykernel_7712\\2608815035.py:25: FutureWarning: Pass y=[ 0.0000000e+00  0.0000000e+00  0.0000000e+00 ...  3.0517578e-05\n",
      " -3.0517578e-05  1.2207031e-04] as keyword args. From version 0.10 passing these as positional arguments will result in an error\n",
      "  mel=np.mean(librosa.feature.melspectrogram(X, sr=sample_rate).T,axis=0)\n"
     ]
    },
    {
     "name": "stdout",
     "output_type": "stream",
     "text": [
      "File name = 03-01-03-02-01-01-06.wav , emotion = happy\n",
      "File name = 03-01-03-02-01-02-06.wav , emotion = happy\n",
      "File name = 03-01-03-02-02-01-06.wav , emotion = happy\n",
      "File name = 03-01-03-02-02-02-06.wav , emotion = happy\n"
     ]
    },
    {
     "name": "stderr",
     "output_type": "stream",
     "text": [
      "C:\\Users\\Pravin Bhise\\AppData\\Local\\Temp\\ipykernel_7712\\2608815035.py:25: FutureWarning: Pass y=[ 0.0000000e+00  0.0000000e+00 -3.0517578e-05 ...  0.0000000e+00\n",
      "  0.0000000e+00  0.0000000e+00] as keyword args. From version 0.10 passing these as positional arguments will result in an error\n",
      "  mel=np.mean(librosa.feature.melspectrogram(X, sr=sample_rate).T,axis=0)\n",
      "C:\\Users\\Pravin Bhise\\AppData\\Local\\Temp\\ipykernel_7712\\2608815035.py:25: FutureWarning: Pass y=[3.0517578e-05 6.1035156e-05 3.0517578e-05 ... 6.1035156e-04 6.1035156e-04\n",
      " 5.7983398e-04] as keyword args. From version 0.10 passing these as positional arguments will result in an error\n",
      "  mel=np.mean(librosa.feature.melspectrogram(X, sr=sample_rate).T,axis=0)\n"
     ]
    },
    {
     "name": "stdout",
     "output_type": "stream",
     "text": [
      "File name = 03-01-04-01-01-01-06.wav , emotion = sad\n",
      "File name = 03-01-04-01-01-02-06.wav , emotion = sad\n",
      "File name = 03-01-04-01-02-01-06.wav , emotion = sad\n",
      "File name = 03-01-04-01-02-02-06.wav , emotion = sad\n",
      "File name = 03-01-04-02-01-01-06.wav , emotion = sad\n",
      "File name = 03-01-04-02-01-02-06.wav , emotion = sad\n",
      "File name = 03-01-04-02-02-01-06.wav , emotion = sad\n",
      "File name = 03-01-04-02-02-02-06.wav , emotion = sad\n",
      "File name = 03-01-05-01-01-01-06.wav , emotion = angry\n",
      "File name = 03-01-05-01-01-02-06.wav , emotion = angry\n",
      "File name = 03-01-05-01-02-01-06.wav , emotion = angry\n",
      "File name = 03-01-05-01-02-02-06.wav , emotion = angry\n",
      "File name = 03-01-05-02-01-01-06.wav , emotion = angry\n",
      "File name = 03-01-05-02-01-02-06.wav , emotion = angry\n",
      "File name = 03-01-05-02-02-01-06.wav , emotion = angry\n",
      "File name = 03-01-05-02-02-02-06.wav , emotion = angry\n",
      "File name = 03-01-06-01-01-01-06.wav , emotion = fearful\n",
      "File name = 03-01-06-01-01-02-06.wav , emotion = fearful\n"
     ]
    },
    {
     "name": "stderr",
     "output_type": "stream",
     "text": [
      "C:\\Users\\Pravin Bhise\\AppData\\Local\\Temp\\ipykernel_7712\\2608815035.py:25: FutureWarning: Pass y=[6.1035156e-05 6.1035156e-05 3.0517578e-05 ... 0.0000000e+00 0.0000000e+00\n",
      " 0.0000000e+00] as keyword args. From version 0.10 passing these as positional arguments will result in an error\n",
      "  mel=np.mean(librosa.feature.melspectrogram(X, sr=sample_rate).T,axis=0)\n"
     ]
    },
    {
     "name": "stdout",
     "output_type": "stream",
     "text": [
      "File name = 03-01-06-01-02-01-06.wav , emotion = fearful\n",
      "File name = 03-01-06-01-02-02-06.wav , emotion = fearful\n",
      "File name = 03-01-06-02-01-01-06.wav , emotion = fearful\n",
      "File name = 03-01-06-02-01-02-06.wav , emotion = fearful\n"
     ]
    },
    {
     "name": "stderr",
     "output_type": "stream",
     "text": [
      "C:\\Users\\Pravin Bhise\\AppData\\Local\\Temp\\ipykernel_7712\\2608815035.py:25: FutureWarning: Pass y=[-1.2817383e-03 -1.6479492e-03 -3.0517578e-05 ...  4.2724609e-04\n",
      "  5.1879883e-04 -9.1552734e-05] as keyword args. From version 0.10 passing these as positional arguments will result in an error\n",
      "  mel=np.mean(librosa.feature.melspectrogram(X, sr=sample_rate).T,axis=0)\n",
      "C:\\Users\\Pravin Bhise\\AppData\\Local\\Temp\\ipykernel_7712\\2608815035.py:25: FutureWarning: Pass y=[ 3.6621094e-04  2.4414062e-04 -3.6621094e-04 ...  3.0517578e-05\n",
      " -6.1035156e-05 -1.2207031e-04] as keyword args. From version 0.10 passing these as positional arguments will result in an error\n",
      "  mel=np.mean(librosa.feature.melspectrogram(X, sr=sample_rate).T,axis=0)\n"
     ]
    },
    {
     "name": "stdout",
     "output_type": "stream",
     "text": [
      "File name = 03-01-06-02-02-01-06.wav , emotion = fearful\n",
      "File name = 03-01-06-02-02-02-06.wav , emotion = fearful\n"
     ]
    },
    {
     "name": "stderr",
     "output_type": "stream",
     "text": [
      "C:\\Users\\Pravin Bhise\\AppData\\Local\\Temp\\ipykernel_7712\\2608815035.py:25: FutureWarning: Pass y=[ 2.1362305e-04  1.5258789e-04 -3.0517578e-05 ...  4.8828125e-04\n",
      "  3.0517578e-05 -3.0517578e-04] as keyword args. From version 0.10 passing these as positional arguments will result in an error\n",
      "  mel=np.mean(librosa.feature.melspectrogram(X, sr=sample_rate).T,axis=0)\n",
      "C:\\Users\\Pravin Bhise\\AppData\\Local\\Temp\\ipykernel_7712\\2608815035.py:25: FutureWarning: Pass y=[ 3.0517578e-05  6.1035156e-05  3.0517578e-05 ... -2.0751953e-03\n",
      "  8.2397461e-04 -6.7138672e-04] as keyword args. From version 0.10 passing these as positional arguments will result in an error\n",
      "  mel=np.mean(librosa.feature.melspectrogram(X, sr=sample_rate).T,axis=0)\n"
     ]
    },
    {
     "name": "stdout",
     "output_type": "stream",
     "text": [
      "File name = 03-01-07-01-01-01-06.wav , emotion = disgust\n",
      "File name = 03-01-07-01-01-02-06.wav , emotion = disgust\n",
      "File name = 03-01-07-01-02-01-06.wav , emotion = disgust\n",
      "File name = 03-01-07-01-02-02-06.wav , emotion = disgust\n",
      "File name = 03-01-07-02-01-01-06.wav , emotion = disgust\n",
      "File name = 03-01-07-02-01-02-06.wav , emotion = disgust\n",
      "File name = 03-01-07-02-02-01-06.wav , emotion = disgust\n",
      "File name = 03-01-07-02-02-02-06.wav , emotion = disgust\n",
      "File name = 03-01-08-01-01-01-06.wav , emotion = surprised\n",
      "File name = 03-01-08-01-01-02-06.wav , emotion = surprised\n",
      "File name = 03-01-08-01-02-01-06.wav , emotion = surprised\n",
      "File name = 03-01-08-01-02-02-06.wav , emotion = surprised\n",
      "File name = 03-01-08-02-01-01-06.wav , emotion = surprised\n",
      "File name = 03-01-08-02-01-02-06.wav , emotion = surprised\n",
      "File name = 03-01-08-02-02-01-06.wav , emotion = surprised\n",
      "File name = 03-01-08-02-02-02-06.wav , emotion = surprised\n",
      "File name = 03-01-01-01-01-01-07.wav , emotion = neutral\n",
      "File name = 03-01-01-01-01-02-07.wav , emotion = neutral\n",
      "File name = 03-01-01-01-02-01-07.wav , emotion = neutral\n",
      "File name = 03-01-01-01-02-02-07.wav , emotion = neutral\n",
      "File name = 03-01-02-01-01-01-07.wav , emotion = calm\n",
      "File name = 03-01-02-01-01-02-07.wav , emotion = calm\n",
      "File name = 03-01-02-01-02-01-07.wav , emotion = calm\n",
      "File name = 03-01-02-01-02-02-07.wav , emotion = calm\n"
     ]
    },
    {
     "name": "stderr",
     "output_type": "stream",
     "text": [
      "C:\\Users\\Pravin Bhise\\AppData\\Local\\Temp\\ipykernel_7712\\2608815035.py:25: FutureWarning: Pass y=[ 9.1552734e-05  9.1552734e-05  9.1552734e-05 ... -1.5258789e-04\n",
      " -1.5258789e-04 -1.2207031e-04] as keyword args. From version 0.10 passing these as positional arguments will result in an error\n",
      "  mel=np.mean(librosa.feature.melspectrogram(X, sr=sample_rate).T,axis=0)\n"
     ]
    },
    {
     "name": "stdout",
     "output_type": "stream",
     "text": [
      "File name = 03-01-02-02-01-01-07.wav , emotion = calm\n",
      "File name = 03-01-02-02-01-02-07.wav , emotion = calm\n"
     ]
    },
    {
     "name": "stderr",
     "output_type": "stream",
     "text": [
      "C:\\Users\\Pravin Bhise\\AppData\\Local\\Temp\\ipykernel_7712\\2608815035.py:25: FutureWarning: Pass y=[ 3.0517578e-04 -3.0517578e-05  6.1035156e-05 ... -1.0375977e-03\n",
      " -9.7656250e-04 -1.0375977e-03] as keyword args. From version 0.10 passing these as positional arguments will result in an error\n",
      "  mel=np.mean(librosa.feature.melspectrogram(X, sr=sample_rate).T,axis=0)\n",
      "C:\\Users\\Pravin Bhise\\AppData\\Local\\Temp\\ipykernel_7712\\2608815035.py:25: FutureWarning: Pass y=[ 6.1035156e-05 -2.4414062e-04 -3.0517578e-05 ...  0.0000000e+00\n",
      "  0.0000000e+00  0.0000000e+00] as keyword args. From version 0.10 passing these as positional arguments will result in an error\n",
      "  mel=np.mean(librosa.feature.melspectrogram(X, sr=sample_rate).T,axis=0)\n"
     ]
    },
    {
     "name": "stdout",
     "output_type": "stream",
     "text": [
      "File name = 03-01-02-02-02-01-07.wav , emotion = calm\n",
      "File name = 03-01-02-02-02-02-07.wav , emotion = calm\n"
     ]
    },
    {
     "name": "stderr",
     "output_type": "stream",
     "text": [
      "C:\\Users\\Pravin Bhise\\AppData\\Local\\Temp\\ipykernel_7712\\2608815035.py:25: FutureWarning: Pass y=[ 0.0000000e+00 -3.0517578e-05 -1.2207031e-04 ... -6.1035156e-05\n",
      " -6.1035156e-05 -3.0517578e-05] as keyword args. From version 0.10 passing these as positional arguments will result in an error\n",
      "  mel=np.mean(librosa.feature.melspectrogram(X, sr=sample_rate).T,axis=0)\n",
      "C:\\Users\\Pravin Bhise\\AppData\\Local\\Temp\\ipykernel_7712\\2608815035.py:25: FutureWarning: Pass y=[6.1035156e-05 6.1035156e-05 6.1035156e-05 ... 9.1552734e-05 9.1552734e-05\n",
      " 6.1035156e-05] as keyword args. From version 0.10 passing these as positional arguments will result in an error\n",
      "  mel=np.mean(librosa.feature.melspectrogram(X, sr=sample_rate).T,axis=0)\n"
     ]
    },
    {
     "name": "stdout",
     "output_type": "stream",
     "text": [
      "File name = 03-01-03-01-01-01-07.wav , emotion = happy\n",
      "File name = 03-01-03-01-01-02-07.wav , emotion = happy\n",
      "File name = 03-01-03-01-02-01-07.wav , emotion = happy\n",
      "File name = 03-01-03-01-02-02-07.wav , emotion = happy\n"
     ]
    },
    {
     "name": "stderr",
     "output_type": "stream",
     "text": [
      "C:\\Users\\Pravin Bhise\\AppData\\Local\\Temp\\ipykernel_7712\\2608815035.py:25: FutureWarning: Pass y=[-6.1035156e-05  0.0000000e+00  3.0517578e-05 ...  2.7465820e-04\n",
      "  2.4414062e-04  2.7465820e-04] as keyword args. From version 0.10 passing these as positional arguments will result in an error\n",
      "  mel=np.mean(librosa.feature.melspectrogram(X, sr=sample_rate).T,axis=0)\n"
     ]
    },
    {
     "name": "stdout",
     "output_type": "stream",
     "text": [
      "File name = 03-01-03-02-01-01-07.wav , emotion = happy\n",
      "File name = 03-01-03-02-01-02-07.wav , emotion = happy\n"
     ]
    },
    {
     "name": "stderr",
     "output_type": "stream",
     "text": [
      "C:\\Users\\Pravin Bhise\\AppData\\Local\\Temp\\ipykernel_7712\\2608815035.py:25: FutureWarning: Pass y=[ 0.0000000e+00 -3.0517578e-05 -3.0517578e-05 ...  6.1035156e-05\n",
      "  9.1552734e-05  9.1552734e-05] as keyword args. From version 0.10 passing these as positional arguments will result in an error\n",
      "  mel=np.mean(librosa.feature.melspectrogram(X, sr=sample_rate).T,axis=0)\n",
      "C:\\Users\\Pravin Bhise\\AppData\\Local\\Temp\\ipykernel_7712\\2608815035.py:25: FutureWarning: Pass y=[ 2.1362305e-04  7.9345703e-04 -1.2207031e-04 ...  6.1035156e-05\n",
      "  6.1035156e-05  0.0000000e+00] as keyword args. From version 0.10 passing these as positional arguments will result in an error\n",
      "  mel=np.mean(librosa.feature.melspectrogram(X, sr=sample_rate).T,axis=0)\n"
     ]
    },
    {
     "name": "stdout",
     "output_type": "stream",
     "text": [
      "File name = 03-01-03-02-02-01-07.wav , emotion = happy\n",
      "File name = 03-01-03-02-02-02-07.wav , emotion = happy\n"
     ]
    },
    {
     "name": "stderr",
     "output_type": "stream",
     "text": [
      "C:\\Users\\Pravin Bhise\\AppData\\Local\\Temp\\ipykernel_7712\\2608815035.py:25: FutureWarning: Pass y=[-6.1035156e-05 -3.0517578e-05 -6.1035156e-05 ... -3.3569336e-04\n",
      " -3.9672852e-04 -4.2724609e-04] as keyword args. From version 0.10 passing these as positional arguments will result in an error\n",
      "  mel=np.mean(librosa.feature.melspectrogram(X, sr=sample_rate).T,axis=0)\n",
      "C:\\Users\\Pravin Bhise\\AppData\\Local\\Temp\\ipykernel_7712\\2608815035.py:25: FutureWarning: Pass y=[-3.0517578e-05  4.2724609e-04  6.4086914e-04 ...  1.2207031e-04\n",
      "  9.1552734e-05  1.5258789e-04] as keyword args. From version 0.10 passing these as positional arguments will result in an error\n",
      "  mel=np.mean(librosa.feature.melspectrogram(X, sr=sample_rate).T,axis=0)\n"
     ]
    },
    {
     "name": "stdout",
     "output_type": "stream",
     "text": [
      "File name = 03-01-04-01-01-01-07.wav , emotion = sad\n",
      "File name = 03-01-04-01-01-02-07.wav , emotion = sad\n",
      "File name = 03-01-04-01-02-01-07.wav , emotion = sad\n",
      "File name = 03-01-04-01-02-02-07.wav , emotion = sad\n",
      "File name = 03-01-04-02-01-01-07.wav , emotion = sad\n",
      "File name = 03-01-04-02-01-02-07.wav , emotion = sad\n",
      "File name = 03-01-04-02-02-01-07.wav , emotion = sad\n",
      "File name = 03-01-04-02-02-02-07.wav , emotion = sad\n",
      "File name = 03-01-05-01-01-01-07.wav , emotion = angry\n",
      "File name = 03-01-05-01-01-02-07.wav , emotion = angry\n",
      "File name = 03-01-05-01-02-01-07.wav , emotion = angry\n",
      "File name = 03-01-05-01-02-02-07.wav , emotion = angry\n",
      "File name = 03-01-05-02-01-01-07.wav , emotion = angry\n",
      "File name = 03-01-05-02-01-02-07.wav , emotion = angry\n",
      "File name = 03-01-05-02-02-01-07.wav , emotion = angry\n",
      "File name = 03-01-05-02-02-02-07.wav , emotion = angry\n",
      "File name = 03-01-06-01-01-01-07.wav , emotion = fearful\n",
      "File name = 03-01-06-01-01-02-07.wav , emotion = fearful\n"
     ]
    },
    {
     "name": "stderr",
     "output_type": "stream",
     "text": [
      "C:\\Users\\Pravin Bhise\\AppData\\Local\\Temp\\ipykernel_7712\\2608815035.py:25: FutureWarning: Pass y=[-6.1035156e-04 -5.7983398e-04 -5.7983398e-04 ... -3.0517578e-05\n",
      "  0.0000000e+00  0.0000000e+00] as keyword args. From version 0.10 passing these as positional arguments will result in an error\n",
      "  mel=np.mean(librosa.feature.melspectrogram(X, sr=sample_rate).T,axis=0)\n",
      "C:\\Users\\Pravin Bhise\\AppData\\Local\\Temp\\ipykernel_7712\\2608815035.py:25: FutureWarning: Pass y=[9.1552734e-05 9.1552734e-05 9.1552734e-05 ... 2.7465820e-04 2.4414062e-04\n",
      " 2.4414062e-04] as keyword args. From version 0.10 passing these as positional arguments will result in an error\n",
      "  mel=np.mean(librosa.feature.melspectrogram(X, sr=sample_rate).T,axis=0)\n"
     ]
    },
    {
     "name": "stdout",
     "output_type": "stream",
     "text": [
      "File name = 03-01-06-01-02-01-07.wav , emotion = fearful\n",
      "File name = 03-01-06-01-02-02-07.wav , emotion = fearful\n",
      "File name = 03-01-06-02-01-01-07.wav , emotion = fearful\n",
      "File name = 03-01-06-02-01-02-07.wav , emotion = fearful\n"
     ]
    },
    {
     "name": "stderr",
     "output_type": "stream",
     "text": [
      "C:\\Users\\Pravin Bhise\\AppData\\Local\\Temp\\ipykernel_7712\\2608815035.py:25: FutureWarning: Pass y=[0.0000000e+00 0.0000000e+00 0.0000000e+00 ... 0.0000000e+00 6.1035156e-05\n",
      " 3.0517578e-05] as keyword args. From version 0.10 passing these as positional arguments will result in an error\n",
      "  mel=np.mean(librosa.feature.melspectrogram(X, sr=sample_rate).T,axis=0)\n",
      "C:\\Users\\Pravin Bhise\\AppData\\Local\\Temp\\ipykernel_7712\\2608815035.py:25: FutureWarning: Pass y=[9.1552734e-05 6.1035156e-05 0.0000000e+00 ... 0.0000000e+00 0.0000000e+00\n",
      " 0.0000000e+00] as keyword args. From version 0.10 passing these as positional arguments will result in an error\n",
      "  mel=np.mean(librosa.feature.melspectrogram(X, sr=sample_rate).T,axis=0)\n"
     ]
    },
    {
     "name": "stdout",
     "output_type": "stream",
     "text": [
      "File name = 03-01-06-02-02-01-07.wav , emotion = fearful\n",
      "File name = 03-01-06-02-02-02-07.wav , emotion = fearful\n"
     ]
    },
    {
     "name": "stderr",
     "output_type": "stream",
     "text": [
      "C:\\Users\\Pravin Bhise\\AppData\\Local\\Temp\\ipykernel_7712\\2608815035.py:25: FutureWarning: Pass y=[0.         0.         0.         ... 0.00012207 0.00012207 0.00012207] as keyword args. From version 0.10 passing these as positional arguments will result in an error\n",
      "  mel=np.mean(librosa.feature.melspectrogram(X, sr=sample_rate).T,axis=0)\n"
     ]
    },
    {
     "name": "stdout",
     "output_type": "stream",
     "text": [
      "File name = 03-01-07-01-01-01-07.wav , emotion = disgust\n",
      "File name = 03-01-07-01-01-02-07.wav , emotion = disgust\n",
      "File name = 03-01-07-01-02-01-07.wav , emotion = disgust\n",
      "File name = 03-01-07-01-02-02-07.wav , emotion = disgust\n",
      "File name = 03-01-07-02-01-01-07.wav , emotion = disgust\n",
      "File name = 03-01-07-02-01-02-07.wav , emotion = disgust\n"
     ]
    },
    {
     "name": "stderr",
     "output_type": "stream",
     "text": [
      "C:\\Users\\Pravin Bhise\\AppData\\Local\\Temp\\ipykernel_7712\\2608815035.py:25: FutureWarning: Pass y=[3.0517578e-05 6.1035156e-05 6.1035156e-05 ... 0.0000000e+00 0.0000000e+00\n",
      " 3.0517578e-05] as keyword args. From version 0.10 passing these as positional arguments will result in an error\n",
      "  mel=np.mean(librosa.feature.melspectrogram(X, sr=sample_rate).T,axis=0)\n",
      "C:\\Users\\Pravin Bhise\\AppData\\Local\\Temp\\ipykernel_7712\\2608815035.py:25: FutureWarning: Pass y=[6.1035156e-05 9.1552734e-05 9.1552734e-05 ... 0.0000000e+00 0.0000000e+00\n",
      " 0.0000000e+00] as keyword args. From version 0.10 passing these as positional arguments will result in an error\n",
      "  mel=np.mean(librosa.feature.melspectrogram(X, sr=sample_rate).T,axis=0)\n"
     ]
    },
    {
     "name": "stdout",
     "output_type": "stream",
     "text": [
      "File name = 03-01-07-02-02-01-07.wav , emotion = disgust\n",
      "File name = 03-01-07-02-02-02-07.wav , emotion = disgust\n",
      "File name = 03-01-08-01-01-01-07.wav , emotion = surprised\n",
      "File name = 03-01-08-01-01-02-07.wav , emotion = surprised\n",
      "File name = 03-01-08-01-02-01-07.wav , emotion = surprised\n",
      "File name = 03-01-08-01-02-02-07.wav , emotion = surprised\n",
      "File name = 03-01-08-02-01-01-07.wav , emotion = surprised\n",
      "File name = 03-01-08-02-01-02-07.wav , emotion = surprised\n",
      "File name = 03-01-08-02-02-01-07.wav , emotion = surprised\n",
      "File name = 03-01-08-02-02-02-07.wav , emotion = surprised\n",
      "File name = 03-01-01-01-01-01-08.wav , emotion = neutral\n",
      "File name = 03-01-01-01-01-02-08.wav , emotion = neutral\n",
      "File name = 03-01-01-01-02-01-08.wav , emotion = neutral\n",
      "File name = 03-01-01-01-02-02-08.wav , emotion = neutral\n",
      "File name = 03-01-02-01-01-01-08.wav , emotion = calm\n",
      "File name = 03-01-02-01-01-02-08.wav , emotion = calm\n"
     ]
    },
    {
     "name": "stderr",
     "output_type": "stream",
     "text": [
      "C:\\Users\\Pravin Bhise\\AppData\\Local\\Temp\\ipykernel_7712\\2608815035.py:25: FutureWarning: Pass y=[6.1035156e-05 3.0517578e-05 3.0517578e-05 ... 0.0000000e+00 0.0000000e+00\n",
      " 0.0000000e+00] as keyword args. From version 0.10 passing these as positional arguments will result in an error\n",
      "  mel=np.mean(librosa.feature.melspectrogram(X, sr=sample_rate).T,axis=0)\n",
      "C:\\Users\\Pravin Bhise\\AppData\\Local\\Temp\\ipykernel_7712\\2608815035.py:25: FutureWarning: Pass y=[0.0000000e+00 0.0000000e+00 0.0000000e+00 ... 9.1552734e-05 9.1552734e-05\n",
      " 9.1552734e-05] as keyword args. From version 0.10 passing these as positional arguments will result in an error\n",
      "  mel=np.mean(librosa.feature.melspectrogram(X, sr=sample_rate).T,axis=0)\n"
     ]
    },
    {
     "name": "stdout",
     "output_type": "stream",
     "text": [
      "File name = 03-01-02-01-02-01-08.wav , emotion = calm\n",
      "File name = 03-01-02-01-02-02-08.wav , emotion = calm\n"
     ]
    },
    {
     "name": "stderr",
     "output_type": "stream",
     "text": [
      "C:\\Users\\Pravin Bhise\\AppData\\Local\\Temp\\ipykernel_7712\\2608815035.py:25: FutureWarning: Pass y=[-1.8310547e-04 -2.1362305e-04 -1.8310547e-04 ...  3.0517578e-05\n",
      "  3.0517578e-05  3.0517578e-05] as keyword args. From version 0.10 passing these as positional arguments will result in an error\n",
      "  mel=np.mean(librosa.feature.melspectrogram(X, sr=sample_rate).T,axis=0)\n",
      "C:\\Users\\Pravin Bhise\\AppData\\Local\\Temp\\ipykernel_7712\\2608815035.py:25: FutureWarning: Pass y=[0.00015259 0.00015259 0.00015259 ... 0.         0.         0.        ] as keyword args. From version 0.10 passing these as positional arguments will result in an error\n",
      "  mel=np.mean(librosa.feature.melspectrogram(X, sr=sample_rate).T,axis=0)\n"
     ]
    },
    {
     "name": "stdout",
     "output_type": "stream",
     "text": [
      "File name = 03-01-02-02-01-01-08.wav , emotion = calm\n",
      "File name = 03-01-02-02-01-02-08.wav , emotion = calm\n"
     ]
    },
    {
     "name": "stderr",
     "output_type": "stream",
     "text": [
      "C:\\Users\\Pravin Bhise\\AppData\\Local\\Temp\\ipykernel_7712\\2608815035.py:25: FutureWarning: Pass y=[-9.1552734e-05 -9.1552734e-05 -9.1552734e-05 ... -3.0517578e-05\n",
      " -6.1035156e-05 -6.1035156e-05] as keyword args. From version 0.10 passing these as positional arguments will result in an error\n",
      "  mel=np.mean(librosa.feature.melspectrogram(X, sr=sample_rate).T,axis=0)\n",
      "C:\\Users\\Pravin Bhise\\AppData\\Local\\Temp\\ipykernel_7712\\2608815035.py:25: FutureWarning: Pass y=[-1.5258789e-04 -1.5258789e-04 -1.5258789e-04 ... -1.2207031e-04\n",
      " -1.2207031e-04 -9.1552734e-05] as keyword args. From version 0.10 passing these as positional arguments will result in an error\n",
      "  mel=np.mean(librosa.feature.melspectrogram(X, sr=sample_rate).T,axis=0)\n"
     ]
    },
    {
     "name": "stdout",
     "output_type": "stream",
     "text": [
      "File name = 03-01-02-02-02-01-08.wav , emotion = calm\n",
      "File name = 03-01-02-02-02-02-08.wav , emotion = calm\n"
     ]
    },
    {
     "name": "stderr",
     "output_type": "stream",
     "text": [
      "C:\\Users\\Pravin Bhise\\AppData\\Local\\Temp\\ipykernel_7712\\2608815035.py:25: FutureWarning: Pass y=[-6.1035156e-05 -6.1035156e-05 -6.1035156e-05 ...  1.2207031e-04\n",
      "  1.2207031e-04  1.2207031e-04] as keyword args. From version 0.10 passing these as positional arguments will result in an error\n",
      "  mel=np.mean(librosa.feature.melspectrogram(X, sr=sample_rate).T,axis=0)\n",
      "C:\\Users\\Pravin Bhise\\AppData\\Local\\Temp\\ipykernel_7712\\2608815035.py:25: FutureWarning: Pass y=[6.1035156e-05 6.1035156e-05 6.1035156e-05 ... 9.1552734e-05 6.1035156e-05\n",
      " 6.1035156e-05] as keyword args. From version 0.10 passing these as positional arguments will result in an error\n",
      "  mel=np.mean(librosa.feature.melspectrogram(X, sr=sample_rate).T,axis=0)\n"
     ]
    },
    {
     "name": "stdout",
     "output_type": "stream",
     "text": [
      "File name = 03-01-03-01-01-01-08.wav , emotion = happy\n",
      "File name = 03-01-03-01-01-02-08.wav , emotion = happy\n"
     ]
    },
    {
     "name": "stderr",
     "output_type": "stream",
     "text": [
      "C:\\Users\\Pravin Bhise\\AppData\\Local\\Temp\\ipykernel_7712\\2608815035.py:25: FutureWarning: Pass y=[ 0.0000000e+00 -3.0517578e-05 -3.0517578e-05 ...  3.0517578e-05\n",
      "  3.0517578e-05  6.1035156e-05] as keyword args. From version 0.10 passing these as positional arguments will result in an error\n",
      "  mel=np.mean(librosa.feature.melspectrogram(X, sr=sample_rate).T,axis=0)\n",
      "C:\\Users\\Pravin Bhise\\AppData\\Local\\Temp\\ipykernel_7712\\2608815035.py:25: FutureWarning: Pass y=[ 6.1035156e-05  6.1035156e-05  3.0517578e-05 ... -1.5258789e-04\n",
      " -1.2207031e-04 -1.5258789e-04] as keyword args. From version 0.10 passing these as positional arguments will result in an error\n",
      "  mel=np.mean(librosa.feature.melspectrogram(X, sr=sample_rate).T,axis=0)\n"
     ]
    },
    {
     "name": "stdout",
     "output_type": "stream",
     "text": [
      "File name = 03-01-03-01-02-01-08.wav , emotion = happy\n",
      "File name = 03-01-03-01-02-02-08.wav , emotion = happy\n"
     ]
    },
    {
     "name": "stderr",
     "output_type": "stream",
     "text": [
      "C:\\Users\\Pravin Bhise\\AppData\\Local\\Temp\\ipykernel_7712\\2608815035.py:25: FutureWarning: Pass y=[3.0517578e-05 6.1035156e-05 3.0517578e-05 ... 0.0000000e+00 0.0000000e+00\n",
      " 0.0000000e+00] as keyword args. From version 0.10 passing these as positional arguments will result in an error\n",
      "  mel=np.mean(librosa.feature.melspectrogram(X, sr=sample_rate).T,axis=0)\n",
      "C:\\Users\\Pravin Bhise\\AppData\\Local\\Temp\\ipykernel_7712\\2608815035.py:25: FutureWarning: Pass y=[-9.1552734e-05 -6.1035156e-05 -6.1035156e-05 ...  6.1035156e-05\n",
      "  3.0517578e-05 -6.1035156e-05] as keyword args. From version 0.10 passing these as positional arguments will result in an error\n",
      "  mel=np.mean(librosa.feature.melspectrogram(X, sr=sample_rate).T,axis=0)\n"
     ]
    },
    {
     "name": "stdout",
     "output_type": "stream",
     "text": [
      "File name = 03-01-03-02-01-01-08.wav , emotion = happy\n",
      "File name = 03-01-03-02-01-02-08.wav , emotion = happy\n",
      "File name = 03-01-03-02-02-01-08.wav , emotion = happy\n",
      "File name = 03-01-03-02-02-02-08.wav , emotion = happy\n"
     ]
    },
    {
     "name": "stderr",
     "output_type": "stream",
     "text": [
      "C:\\Users\\Pravin Bhise\\AppData\\Local\\Temp\\ipykernel_7712\\2608815035.py:25: FutureWarning: Pass y=[ 9.1552734e-05  9.1552734e-05  9.1552734e-05 ... -3.6621094e-04\n",
      " -3.6621094e-04 -3.6621094e-04] as keyword args. From version 0.10 passing these as positional arguments will result in an error\n",
      "  mel=np.mean(librosa.feature.melspectrogram(X, sr=sample_rate).T,axis=0)\n",
      "C:\\Users\\Pravin Bhise\\AppData\\Local\\Temp\\ipykernel_7712\\2608815035.py:25: FutureWarning: Pass y=[-6.1035156e-05 -3.0517578e-05 -6.1035156e-05 ... -2.7465820e-04\n",
      " -2.1362305e-04 -1.5258789e-04] as keyword args. From version 0.10 passing these as positional arguments will result in an error\n",
      "  mel=np.mean(librosa.feature.melspectrogram(X, sr=sample_rate).T,axis=0)\n"
     ]
    },
    {
     "name": "stdout",
     "output_type": "stream",
     "text": [
      "File name = 03-01-04-01-01-01-08.wav , emotion = sad\n",
      "File name = 03-01-04-01-01-02-08.wav , emotion = sad\n",
      "File name = 03-01-04-01-02-01-08.wav , emotion = sad\n",
      "File name = 03-01-04-01-02-02-08.wav , emotion = sad\n",
      "File name = 03-01-04-02-01-01-08.wav , emotion = sad\n",
      "File name = 03-01-04-02-01-02-08.wav , emotion = sad\n",
      "File name = 03-01-04-02-02-01-08.wav , emotion = sad\n",
      "File name = 03-01-04-02-02-02-08.wav , emotion = sad\n",
      "File name = 03-01-05-01-01-01-08.wav , emotion = angry\n",
      "File name = 03-01-05-01-01-02-08.wav , emotion = angry\n",
      "File name = 03-01-05-01-02-01-08.wav , emotion = angry\n",
      "File name = 03-01-05-01-02-02-08.wav , emotion = angry\n",
      "File name = 03-01-05-02-01-01-08.wav , emotion = angry\n",
      "File name = 03-01-05-02-01-02-08.wav , emotion = angry\n",
      "File name = 03-01-05-02-02-01-08.wav , emotion = angry\n",
      "File name = 03-01-05-02-02-02-08.wav , emotion = angry\n",
      "File name = 03-01-06-01-01-01-08.wav , emotion = fearful\n",
      "File name = 03-01-06-01-01-02-08.wav , emotion = fearful\n"
     ]
    },
    {
     "name": "stderr",
     "output_type": "stream",
     "text": [
      "C:\\Users\\Pravin Bhise\\AppData\\Local\\Temp\\ipykernel_7712\\2608815035.py:25: FutureWarning: Pass y=[ 3.0517578e-05  0.0000000e+00  0.0000000e+00 ... -1.8310547e-04\n",
      " -1.8310547e-04 -1.2207031e-04] as keyword args. From version 0.10 passing these as positional arguments will result in an error\n",
      "  mel=np.mean(librosa.feature.melspectrogram(X, sr=sample_rate).T,axis=0)\n",
      "C:\\Users\\Pravin Bhise\\AppData\\Local\\Temp\\ipykernel_7712\\2608815035.py:25: FutureWarning: Pass y=[-1.5258789e-04 -1.5258789e-04 -1.5258789e-04 ... -3.0517578e-05\n",
      "  0.0000000e+00  0.0000000e+00] as keyword args. From version 0.10 passing these as positional arguments will result in an error\n",
      "  mel=np.mean(librosa.feature.melspectrogram(X, sr=sample_rate).T,axis=0)\n"
     ]
    },
    {
     "name": "stdout",
     "output_type": "stream",
     "text": [
      "File name = 03-01-06-01-02-01-08.wav , emotion = fearful\n",
      "File name = 03-01-06-01-02-02-08.wav , emotion = fearful\n"
     ]
    },
    {
     "name": "stderr",
     "output_type": "stream",
     "text": [
      "C:\\Users\\Pravin Bhise\\AppData\\Local\\Temp\\ipykernel_7712\\2608815035.py:25: FutureWarning: Pass y=[ 1.5258789e-04  1.5258789e-04  1.2207031e-04 ... -9.1552734e-05\n",
      " -6.1035156e-05  0.0000000e+00] as keyword args. From version 0.10 passing these as positional arguments will result in an error\n",
      "  mel=np.mean(librosa.feature.melspectrogram(X, sr=sample_rate).T,axis=0)\n",
      "C:\\Users\\Pravin Bhise\\AppData\\Local\\Temp\\ipykernel_7712\\2608815035.py:25: FutureWarning: Pass y=[-1.2207031e-04 -1.2207031e-04 -1.2207031e-04 ...  3.0517578e-05\n",
      "  6.1035156e-05  3.0517578e-05] as keyword args. From version 0.10 passing these as positional arguments will result in an error\n",
      "  mel=np.mean(librosa.feature.melspectrogram(X, sr=sample_rate).T,axis=0)\n"
     ]
    },
    {
     "name": "stdout",
     "output_type": "stream",
     "text": [
      "File name = 03-01-06-02-01-01-08.wav , emotion = fearful\n",
      "File name = 03-01-06-02-01-02-08.wav , emotion = fearful\n"
     ]
    },
    {
     "name": "stderr",
     "output_type": "stream",
     "text": [
      "C:\\Users\\Pravin Bhise\\AppData\\Local\\Temp\\ipykernel_7712\\2608815035.py:25: FutureWarning: Pass y=[ 0.00018311  0.00018311  0.00015259 ... -0.00189209 -0.00192261\n",
      " -0.00195312] as keyword args. From version 0.10 passing these as positional arguments will result in an error\n",
      "  mel=np.mean(librosa.feature.melspectrogram(X, sr=sample_rate).T,axis=0)\n",
      "C:\\Users\\Pravin Bhise\\AppData\\Local\\Temp\\ipykernel_7712\\2608815035.py:25: FutureWarning: Pass y=[1.2207031e-04 9.1552734e-05 9.1552734e-05 ... 0.0000000e+00 0.0000000e+00\n",
      " 0.0000000e+00] as keyword args. From version 0.10 passing these as positional arguments will result in an error\n",
      "  mel=np.mean(librosa.feature.melspectrogram(X, sr=sample_rate).T,axis=0)\n"
     ]
    },
    {
     "name": "stdout",
     "output_type": "stream",
     "text": [
      "File name = 03-01-06-02-02-01-08.wav , emotion = fearful\n",
      "File name = 03-01-06-02-02-02-08.wav , emotion = fearful\n"
     ]
    },
    {
     "name": "stderr",
     "output_type": "stream",
     "text": [
      "C:\\Users\\Pravin Bhise\\AppData\\Local\\Temp\\ipykernel_7712\\2608815035.py:25: FutureWarning: Pass y=[ 6.1035156e-05  6.1035156e-05  6.1035156e-05 ... -6.9274902e-03\n",
      " -6.9580078e-03 -6.9274902e-03] as keyword args. From version 0.10 passing these as positional arguments will result in an error\n",
      "  mel=np.mean(librosa.feature.melspectrogram(X, sr=sample_rate).T,axis=0)\n",
      "C:\\Users\\Pravin Bhise\\AppData\\Local\\Temp\\ipykernel_7712\\2608815035.py:25: FutureWarning: Pass y=[ 6.1035156e-05  6.1035156e-05  6.1035156e-05 ... -6.1035156e-05\n",
      " -3.0517578e-05 -6.1035156e-05] as keyword args. From version 0.10 passing these as positional arguments will result in an error\n",
      "  mel=np.mean(librosa.feature.melspectrogram(X, sr=sample_rate).T,axis=0)\n"
     ]
    },
    {
     "name": "stdout",
     "output_type": "stream",
     "text": [
      "File name = 03-01-07-01-01-01-08.wav , emotion = disgust\n",
      "File name = 03-01-07-01-01-02-08.wav , emotion = disgust\n"
     ]
    },
    {
     "name": "stderr",
     "output_type": "stream",
     "text": [
      "C:\\Users\\Pravin Bhise\\AppData\\Local\\Temp\\ipykernel_7712\\2608815035.py:25: FutureWarning: Pass y=[-0.00021362 -0.00021362 -0.00018311 ...  0.00015259  0.00012207\n",
      "  0.00012207] as keyword args. From version 0.10 passing these as positional arguments will result in an error\n",
      "  mel=np.mean(librosa.feature.melspectrogram(X, sr=sample_rate).T,axis=0)\n",
      "C:\\Users\\Pravin Bhise\\AppData\\Local\\Temp\\ipykernel_7712\\2608815035.py:25: FutureWarning: Pass y=[0.00018311 0.00018311 0.00021362 ... 0.         0.         0.        ] as keyword args. From version 0.10 passing these as positional arguments will result in an error\n",
      "  mel=np.mean(librosa.feature.melspectrogram(X, sr=sample_rate).T,axis=0)\n"
     ]
    },
    {
     "name": "stdout",
     "output_type": "stream",
     "text": [
      "File name = 03-01-07-01-02-01-08.wav , emotion = disgust\n",
      "File name = 03-01-07-01-02-02-08.wav , emotion = disgust\n"
     ]
    },
    {
     "name": "stderr",
     "output_type": "stream",
     "text": [
      "C:\\Users\\Pravin Bhise\\AppData\\Local\\Temp\\ipykernel_7712\\2608815035.py:25: FutureWarning: Pass y=[-6.1035156e-05 -6.1035156e-05 -9.1552734e-05 ... -6.1035156e-05\n",
      " -6.1035156e-05 -6.1035156e-05] as keyword args. From version 0.10 passing these as positional arguments will result in an error\n",
      "  mel=np.mean(librosa.feature.melspectrogram(X, sr=sample_rate).T,axis=0)\n",
      "C:\\Users\\Pravin Bhise\\AppData\\Local\\Temp\\ipykernel_7712\\2608815035.py:25: FutureWarning: Pass y=[-3.0517578e-05 -3.0517578e-05 -6.1035156e-05 ... -1.2207031e-04\n",
      "  6.4086914e-04  2.4414062e-04] as keyword args. From version 0.10 passing these as positional arguments will result in an error\n",
      "  mel=np.mean(librosa.feature.melspectrogram(X, sr=sample_rate).T,axis=0)\n"
     ]
    },
    {
     "name": "stdout",
     "output_type": "stream",
     "text": [
      "File name = 03-01-07-02-01-01-08.wav , emotion = disgust\n",
      "File name = 03-01-07-02-01-02-08.wav , emotion = disgust\n"
     ]
    },
    {
     "name": "stderr",
     "output_type": "stream",
     "text": [
      "C:\\Users\\Pravin Bhise\\AppData\\Local\\Temp\\ipykernel_7712\\2608815035.py:25: FutureWarning: Pass y=[ 0.0000000e+00  0.0000000e+00  0.0000000e+00 ... -1.2207031e-04\n",
      " -9.1552734e-05 -1.2207031e-04] as keyword args. From version 0.10 passing these as positional arguments will result in an error\n",
      "  mel=np.mean(librosa.feature.melspectrogram(X, sr=sample_rate).T,axis=0)\n"
     ]
    },
    {
     "name": "stdout",
     "output_type": "stream",
     "text": [
      "File name = 03-01-07-02-02-01-08.wav , emotion = disgust\n",
      "File name = 03-01-07-02-02-02-08.wav , emotion = disgust\n"
     ]
    },
    {
     "name": "stderr",
     "output_type": "stream",
     "text": [
      "C:\\Users\\Pravin Bhise\\AppData\\Local\\Temp\\ipykernel_7712\\2608815035.py:25: FutureWarning: Pass y=[0.0000000e+00 0.0000000e+00 0.0000000e+00 ... 6.1035156e-05 3.0517578e-05\n",
      " 6.1035156e-05] as keyword args. From version 0.10 passing these as positional arguments will result in an error\n",
      "  mel=np.mean(librosa.feature.melspectrogram(X, sr=sample_rate).T,axis=0)\n"
     ]
    },
    {
     "name": "stdout",
     "output_type": "stream",
     "text": [
      "File name = 03-01-08-01-01-01-08.wav , emotion = surprised\n",
      "File name = 03-01-08-01-01-02-08.wav , emotion = surprised\n",
      "File name = 03-01-08-01-02-01-08.wav , emotion = surprised\n",
      "File name = 03-01-08-01-02-02-08.wav , emotion = surprised\n",
      "File name = 03-01-08-02-01-01-08.wav , emotion = surprised\n",
      "File name = 03-01-08-02-01-02-08.wav , emotion = surprised\n",
      "File name = 03-01-08-02-02-01-08.wav , emotion = surprised\n",
      "File name = 03-01-08-02-02-02-08.wav , emotion = surprised\n",
      "File name = 03-01-01-01-01-01-09.wav , emotion = neutral\n",
      "File name = 03-01-01-01-01-02-09.wav , emotion = neutral\n",
      "File name = 03-01-01-01-02-01-09.wav , emotion = neutral\n",
      "File name = 03-01-01-01-02-02-09.wav , emotion = neutral\n",
      "File name = 03-01-02-01-01-01-09.wav , emotion = calm\n",
      "File name = 03-01-02-01-01-02-09.wav , emotion = calm\n"
     ]
    },
    {
     "name": "stderr",
     "output_type": "stream",
     "text": [
      "C:\\Users\\Pravin Bhise\\AppData\\Local\\Temp\\ipykernel_7712\\2608815035.py:25: FutureWarning: Pass y=[-3.0517578e-05  0.0000000e+00  0.0000000e+00 ...  3.0517578e-05\n",
      "  0.0000000e+00  3.0517578e-05] as keyword args. From version 0.10 passing these as positional arguments will result in an error\n",
      "  mel=np.mean(librosa.feature.melspectrogram(X, sr=sample_rate).T,axis=0)\n",
      "C:\\Users\\Pravin Bhise\\AppData\\Local\\Temp\\ipykernel_7712\\2608815035.py:25: FutureWarning: Pass y=[0.         0.         0.         ... 0.00033569 0.00036621 0.00036621] as keyword args. From version 0.10 passing these as positional arguments will result in an error\n",
      "  mel=np.mean(librosa.feature.melspectrogram(X, sr=sample_rate).T,axis=0)\n"
     ]
    },
    {
     "name": "stdout",
     "output_type": "stream",
     "text": [
      "File name = 03-01-02-01-02-01-09.wav , emotion = calm\n",
      "File name = 03-01-02-01-02-02-09.wav , emotion = calm\n",
      "File name = 03-01-02-02-01-01-09.wav , emotion = calm\n",
      "File name = 03-01-02-02-01-02-09.wav , emotion = calm\n"
     ]
    },
    {
     "name": "stderr",
     "output_type": "stream",
     "text": [
      "C:\\Users\\Pravin Bhise\\AppData\\Local\\Temp\\ipykernel_7712\\2608815035.py:25: FutureWarning: Pass y=[ 0.          0.          0.         ... -0.00100708 -0.00100708\n",
      " -0.00100708] as keyword args. From version 0.10 passing these as positional arguments will result in an error\n",
      "  mel=np.mean(librosa.feature.melspectrogram(X, sr=sample_rate).T,axis=0)\n"
     ]
    },
    {
     "name": "stdout",
     "output_type": "stream",
     "text": [
      "File name = 03-01-02-02-02-01-09.wav , emotion = calm\n",
      "File name = 03-01-02-02-02-02-09.wav , emotion = calm\n"
     ]
    },
    {
     "name": "stderr",
     "output_type": "stream",
     "text": [
      "C:\\Users\\Pravin Bhise\\AppData\\Local\\Temp\\ipykernel_7712\\2608815035.py:25: FutureWarning: Pass y=[ 0.0000000e+00 -3.0517578e-05 -3.0517578e-05 ... -3.0517578e-04\n",
      " -2.4414062e-04 -2.4414062e-04] as keyword args. From version 0.10 passing these as positional arguments will result in an error\n",
      "  mel=np.mean(librosa.feature.melspectrogram(X, sr=sample_rate).T,axis=0)\n",
      "C:\\Users\\Pravin Bhise\\AppData\\Local\\Temp\\ipykernel_7712\\2608815035.py:25: FutureWarning: Pass y=[ 0.0000000e+00  0.0000000e+00  0.0000000e+00 ... -9.1552734e-05\n",
      " -9.1552734e-05 -9.1552734e-05] as keyword args. From version 0.10 passing these as positional arguments will result in an error\n",
      "  mel=np.mean(librosa.feature.melspectrogram(X, sr=sample_rate).T,axis=0)\n"
     ]
    },
    {
     "name": "stdout",
     "output_type": "stream",
     "text": [
      "File name = 03-01-03-01-01-01-09.wav , emotion = happy\n",
      "File name = 03-01-03-01-01-02-09.wav , emotion = happy\n"
     ]
    },
    {
     "name": "stderr",
     "output_type": "stream",
     "text": [
      "C:\\Users\\Pravin Bhise\\AppData\\Local\\Temp\\ipykernel_7712\\2608815035.py:25: FutureWarning: Pass y=[ 9.1552734e-05  1.2207031e-04  1.2207031e-04 ... -3.0517578e-05\n",
      " -6.1035156e-05  0.0000000e+00] as keyword args. From version 0.10 passing these as positional arguments will result in an error\n",
      "  mel=np.mean(librosa.feature.melspectrogram(X, sr=sample_rate).T,axis=0)\n"
     ]
    },
    {
     "name": "stdout",
     "output_type": "stream",
     "text": [
      "File name = 03-01-03-01-02-01-09.wav , emotion = happy\n",
      "File name = 03-01-03-01-02-02-09.wav , emotion = happy\n",
      "File name = 03-01-03-02-01-01-09.wav , emotion = happy\n",
      "File name = 03-01-03-02-01-02-09.wav , emotion = happy\n"
     ]
    },
    {
     "name": "stderr",
     "output_type": "stream",
     "text": [
      "C:\\Users\\Pravin Bhise\\AppData\\Local\\Temp\\ipykernel_7712\\2608815035.py:25: FutureWarning: Pass y=[0.0007019  0.00067139 0.00067139 ... 0.         0.         0.        ] as keyword args. From version 0.10 passing these as positional arguments will result in an error\n",
      "  mel=np.mean(librosa.feature.melspectrogram(X, sr=sample_rate).T,axis=0)\n",
      "C:\\Users\\Pravin Bhise\\AppData\\Local\\Temp\\ipykernel_7712\\2608815035.py:25: FutureWarning: Pass y=[-6.1035156e-05 -6.1035156e-05 -3.0517578e-05 ... -1.2207031e-04\n",
      " -1.2207031e-04 -1.2207031e-04] as keyword args. From version 0.10 passing these as positional arguments will result in an error\n",
      "  mel=np.mean(librosa.feature.melspectrogram(X, sr=sample_rate).T,axis=0)\n"
     ]
    },
    {
     "name": "stdout",
     "output_type": "stream",
     "text": [
      "File name = 03-01-03-02-02-01-09.wav , emotion = happy\n",
      "File name = 03-01-03-02-02-02-09.wav , emotion = happy\n"
     ]
    },
    {
     "name": "stderr",
     "output_type": "stream",
     "text": [
      "C:\\Users\\Pravin Bhise\\AppData\\Local\\Temp\\ipykernel_7712\\2608815035.py:25: FutureWarning: Pass y=[ 0.0000000e+00  0.0000000e+00  0.0000000e+00 ... -6.1035156e-05\n",
      " -9.1552734e-05 -9.1552734e-05] as keyword args. From version 0.10 passing these as positional arguments will result in an error\n",
      "  mel=np.mean(librosa.feature.melspectrogram(X, sr=sample_rate).T,axis=0)\n",
      "C:\\Users\\Pravin Bhise\\AppData\\Local\\Temp\\ipykernel_7712\\2608815035.py:25: FutureWarning: Pass y=[-6.1035156e-05  3.0517578e-05  3.0517578e-05 ...  6.1035156e-05\n",
      " -3.0517578e-05 -9.1552734e-05] as keyword args. From version 0.10 passing these as positional arguments will result in an error\n",
      "  mel=np.mean(librosa.feature.melspectrogram(X, sr=sample_rate).T,axis=0)\n"
     ]
    },
    {
     "name": "stdout",
     "output_type": "stream",
     "text": [
      "File name = 03-01-04-01-01-01-09.wav , emotion = sad\n",
      "File name = 03-01-04-01-01-02-09.wav , emotion = sad\n",
      "File name = 03-01-04-01-02-01-09.wav , emotion = sad\n",
      "File name = 03-01-04-01-02-02-09.wav , emotion = sad\n",
      "File name = 03-01-04-02-01-01-09.wav , emotion = sad\n",
      "File name = 03-01-04-02-01-02-09.wav , emotion = sad\n",
      "File name = 03-01-04-02-02-01-09.wav , emotion = sad\n",
      "File name = 03-01-04-02-02-02-09.wav , emotion = sad\n",
      "File name = 03-01-05-01-01-01-09.wav , emotion = angry\n",
      "File name = 03-01-05-01-01-02-09.wav , emotion = angry\n",
      "File name = 03-01-05-01-02-01-09.wav , emotion = angry\n",
      "File name = 03-01-05-01-02-02-09.wav , emotion = angry\n",
      "File name = 03-01-05-02-01-01-09.wav , emotion = angry\n",
      "File name = 03-01-05-02-01-02-09.wav , emotion = angry\n",
      "File name = 03-01-05-02-02-01-09.wav , emotion = angry\n",
      "File name = 03-01-05-02-02-02-09.wav , emotion = angry\n",
      "File name = 03-01-06-01-01-01-09.wav , emotion = fearful\n",
      "File name = 03-01-06-01-01-02-09.wav , emotion = fearful\n",
      "File name = 03-01-06-01-02-01-09.wav , emotion = fearful\n",
      "File name = 03-01-06-01-02-02-09.wav , emotion = fearful\n"
     ]
    },
    {
     "name": "stderr",
     "output_type": "stream",
     "text": [
      "C:\\Users\\Pravin Bhise\\AppData\\Local\\Temp\\ipykernel_7712\\2608815035.py:25: FutureWarning: Pass y=[-9.1552734e-05 -9.1552734e-05 -9.1552734e-05 ...  0.0000000e+00\n",
      "  0.0000000e+00  0.0000000e+00] as keyword args. From version 0.10 passing these as positional arguments will result in an error\n",
      "  mel=np.mean(librosa.feature.melspectrogram(X, sr=sample_rate).T,axis=0)\n"
     ]
    },
    {
     "name": "stdout",
     "output_type": "stream",
     "text": [
      "File name = 03-01-06-02-01-01-09.wav , emotion = fearful\n",
      "File name = 03-01-06-02-01-02-09.wav , emotion = fearful\n"
     ]
    },
    {
     "name": "stderr",
     "output_type": "stream",
     "text": [
      "C:\\Users\\Pravin Bhise\\AppData\\Local\\Temp\\ipykernel_7712\\2608815035.py:25: FutureWarning: Pass y=[3.0517578e-05 6.1035156e-05 6.1035156e-05 ... 9.4604492e-04 8.5449219e-04\n",
      " 8.2397461e-04] as keyword args. From version 0.10 passing these as positional arguments will result in an error\n",
      "  mel=np.mean(librosa.feature.melspectrogram(X, sr=sample_rate).T,axis=0)\n",
      "C:\\Users\\Pravin Bhise\\AppData\\Local\\Temp\\ipykernel_7712\\2608815035.py:25: FutureWarning: Pass y=[0.0000000e+00 0.0000000e+00 0.0000000e+00 ... 9.1552734e-05 6.1035156e-05\n",
      " 9.1552734e-05] as keyword args. From version 0.10 passing these as positional arguments will result in an error\n",
      "  mel=np.mean(librosa.feature.melspectrogram(X, sr=sample_rate).T,axis=0)\n"
     ]
    },
    {
     "name": "stdout",
     "output_type": "stream",
     "text": [
      "File name = 03-01-06-02-02-01-09.wav , emotion = fearful\n",
      "File name = 03-01-06-02-02-02-09.wav , emotion = fearful\n"
     ]
    },
    {
     "name": "stderr",
     "output_type": "stream",
     "text": [
      "C:\\Users\\Pravin Bhise\\AppData\\Local\\Temp\\ipykernel_7712\\2608815035.py:25: FutureWarning: Pass y=[ 0.          0.          0.         ... -0.00015259 -0.00012207\n",
      " -0.00012207] as keyword args. From version 0.10 passing these as positional arguments will result in an error\n",
      "  mel=np.mean(librosa.feature.melspectrogram(X, sr=sample_rate).T,axis=0)\n",
      "C:\\Users\\Pravin Bhise\\AppData\\Local\\Temp\\ipykernel_7712\\2608815035.py:25: FutureWarning: Pass y=[ 3.0517578e-05  3.0517578e-05 -1.5258789e-04 ...  3.0517578e-05\n",
      "  3.0517578e-05  6.1035156e-05] as keyword args. From version 0.10 passing these as positional arguments will result in an error\n",
      "  mel=np.mean(librosa.feature.melspectrogram(X, sr=sample_rate).T,axis=0)\n"
     ]
    },
    {
     "name": "stdout",
     "output_type": "stream",
     "text": [
      "File name = 03-01-07-01-01-01-09.wav , emotion = disgust\n",
      "File name = 03-01-07-01-01-02-09.wav , emotion = disgust\n",
      "File name = 03-01-07-01-02-01-09.wav , emotion = disgust\n",
      "File name = 03-01-07-01-02-02-09.wav , emotion = disgust\n"
     ]
    },
    {
     "name": "stderr",
     "output_type": "stream",
     "text": [
      "C:\\Users\\Pravin Bhise\\AppData\\Local\\Temp\\ipykernel_7712\\2608815035.py:25: FutureWarning: Pass y=[ 0.0000000e+00  0.0000000e+00  0.0000000e+00 ...  0.0000000e+00\n",
      " -3.0517578e-05 -3.0517578e-05] as keyword args. From version 0.10 passing these as positional arguments will result in an error\n",
      "  mel=np.mean(librosa.feature.melspectrogram(X, sr=sample_rate).T,axis=0)\n",
      "C:\\Users\\Pravin Bhise\\AppData\\Local\\Temp\\ipykernel_7712\\2608815035.py:25: FutureWarning: Pass y=[0.0000000e+00 0.0000000e+00 0.0000000e+00 ... 9.1552734e-05 3.0517578e-05\n",
      " 3.0517578e-05] as keyword args. From version 0.10 passing these as positional arguments will result in an error\n",
      "  mel=np.mean(librosa.feature.melspectrogram(X, sr=sample_rate).T,axis=0)\n"
     ]
    },
    {
     "name": "stdout",
     "output_type": "stream",
     "text": [
      "File name = 03-01-07-02-01-01-09.wav , emotion = disgust\n",
      "File name = 03-01-07-02-01-02-09.wav , emotion = disgust\n",
      "File name = 03-01-07-02-02-01-09.wav , emotion = disgust\n",
      "File name = 03-01-07-02-02-02-09.wav , emotion = disgust\n"
     ]
    },
    {
     "name": "stderr",
     "output_type": "stream",
     "text": [
      "C:\\Users\\Pravin Bhise\\AppData\\Local\\Temp\\ipykernel_7712\\2608815035.py:25: FutureWarning: Pass y=[ 0.0000000e+00  3.0517578e-05  0.0000000e+00 ... -3.0517578e-05\n",
      " -3.0517578e-05 -3.0517578e-05] as keyword args. From version 0.10 passing these as positional arguments will result in an error\n",
      "  mel=np.mean(librosa.feature.melspectrogram(X, sr=sample_rate).T,axis=0)\n"
     ]
    },
    {
     "name": "stdout",
     "output_type": "stream",
     "text": [
      "File name = 03-01-08-01-01-01-09.wav , emotion = surprised\n",
      "File name = 03-01-08-01-01-02-09.wav , emotion = surprised\n",
      "File name = 03-01-08-01-02-01-09.wav , emotion = surprised\n",
      "File name = 03-01-08-01-02-02-09.wav , emotion = surprised\n",
      "File name = 03-01-08-02-01-01-09.wav , emotion = surprised\n",
      "File name = 03-01-08-02-01-02-09.wav , emotion = surprised\n",
      "File name = 03-01-08-02-02-01-09.wav , emotion = surprised\n",
      "File name = 03-01-08-02-02-02-09.wav , emotion = surprised\n",
      "File name = 03-01-01-01-01-01-10.wav , emotion = neutral\n",
      "File name = 03-01-01-01-01-02-10.wav , emotion = neutral\n",
      "File name = 03-01-01-01-02-01-10.wav , emotion = neutral\n",
      "File name = 03-01-01-01-02-02-10.wav , emotion = neutral\n",
      "File name = 03-01-02-01-01-01-10.wav , emotion = calm\n",
      "File name = 03-01-02-01-01-02-10.wav , emotion = calm\n"
     ]
    },
    {
     "name": "stderr",
     "output_type": "stream",
     "text": [
      "C:\\Users\\Pravin Bhise\\AppData\\Local\\Temp\\ipykernel_7712\\2608815035.py:25: FutureWarning: Pass y=[ 3.9672852e-04 -9.1552734e-05 -1.8310547e-04 ... -9.1552734e-05\n",
      " -9.1552734e-05 -9.1552734e-05] as keyword args. From version 0.10 passing these as positional arguments will result in an error\n",
      "  mel=np.mean(librosa.feature.melspectrogram(X, sr=sample_rate).T,axis=0)\n",
      "C:\\Users\\Pravin Bhise\\AppData\\Local\\Temp\\ipykernel_7712\\2608815035.py:25: FutureWarning: Pass y=[ 6.1035156e-05 -6.1035156e-05  2.1362305e-04 ...  6.1035156e-05\n",
      "  6.1035156e-05  3.0517578e-05] as keyword args. From version 0.10 passing these as positional arguments will result in an error\n",
      "  mel=np.mean(librosa.feature.melspectrogram(X, sr=sample_rate).T,axis=0)\n"
     ]
    },
    {
     "name": "stdout",
     "output_type": "stream",
     "text": [
      "File name = 03-01-02-01-02-01-10.wav , emotion = calm\n",
      "File name = 03-01-02-01-02-02-10.wav , emotion = calm\n"
     ]
    },
    {
     "name": "stderr",
     "output_type": "stream",
     "text": [
      "C:\\Users\\Pravin Bhise\\AppData\\Local\\Temp\\ipykernel_7712\\2608815035.py:25: FutureWarning: Pass y=[ 2.4414062e-04 -3.0517578e-05 -1.2207031e-04 ...  2.4414062e-04\n",
      "  1.2207031e-04  9.1552734e-05] as keyword args. From version 0.10 passing these as positional arguments will result in an error\n",
      "  mel=np.mean(librosa.feature.melspectrogram(X, sr=sample_rate).T,axis=0)\n",
      "C:\\Users\\Pravin Bhise\\AppData\\Local\\Temp\\ipykernel_7712\\2608815035.py:25: FutureWarning: Pass y=[ 0.0000000e+00  0.0000000e+00  6.1035156e-05 ... -6.1035156e-05\n",
      " -9.1552734e-05  0.0000000e+00] as keyword args. From version 0.10 passing these as positional arguments will result in an error\n",
      "  mel=np.mean(librosa.feature.melspectrogram(X, sr=sample_rate).T,axis=0)\n"
     ]
    },
    {
     "name": "stdout",
     "output_type": "stream",
     "text": [
      "File name = 03-01-02-02-01-01-10.wav , emotion = calm\n",
      "File name = 03-01-02-02-01-02-10.wav , emotion = calm\n"
     ]
    },
    {
     "name": "stderr",
     "output_type": "stream",
     "text": [
      "C:\\Users\\Pravin Bhise\\AppData\\Local\\Temp\\ipykernel_7712\\2608815035.py:25: FutureWarning: Pass y=[-9.1552734e-05 -9.1552734e-05 -6.1035156e-05 ...  3.0517578e-05\n",
      "  6.1035156e-05  3.0517578e-05] as keyword args. From version 0.10 passing these as positional arguments will result in an error\n",
      "  mel=np.mean(librosa.feature.melspectrogram(X, sr=sample_rate).T,axis=0)\n",
      "C:\\Users\\Pravin Bhise\\AppData\\Local\\Temp\\ipykernel_7712\\2608815035.py:25: FutureWarning: Pass y=[ 2.7465820e-04  1.2207031e-04 -1.5258789e-04 ...  9.1552734e-05\n",
      "  3.0517578e-05  6.1035156e-05] as keyword args. From version 0.10 passing these as positional arguments will result in an error\n",
      "  mel=np.mean(librosa.feature.melspectrogram(X, sr=sample_rate).T,axis=0)\n"
     ]
    },
    {
     "name": "stdout",
     "output_type": "stream",
     "text": [
      "File name = 03-01-02-02-02-01-10.wav , emotion = calm\n",
      "File name = 03-01-02-02-02-02-10.wav , emotion = calm\n"
     ]
    },
    {
     "name": "stderr",
     "output_type": "stream",
     "text": [
      "C:\\Users\\Pravin Bhise\\AppData\\Local\\Temp\\ipykernel_7712\\2608815035.py:25: FutureWarning: Pass y=[ 0.0000000e+00  0.0000000e+00  0.0000000e+00 ... -9.1552734e-05\n",
      " -6.1035156e-05 -6.1035156e-05] as keyword args. From version 0.10 passing these as positional arguments will result in an error\n",
      "  mel=np.mean(librosa.feature.melspectrogram(X, sr=sample_rate).T,axis=0)\n",
      "C:\\Users\\Pravin Bhise\\AppData\\Local\\Temp\\ipykernel_7712\\2608815035.py:25: FutureWarning: Pass y=[-6.1035156e-05 -3.0517578e-05 -6.1035156e-05 ...  6.1035156e-05\n",
      "  6.1035156e-05  3.0517578e-05] as keyword args. From version 0.10 passing these as positional arguments will result in an error\n",
      "  mel=np.mean(librosa.feature.melspectrogram(X, sr=sample_rate).T,axis=0)\n"
     ]
    },
    {
     "name": "stdout",
     "output_type": "stream",
     "text": [
      "File name = 03-01-03-01-01-01-10.wav , emotion = happy\n",
      "File name = 03-01-03-01-01-02-10.wav , emotion = happy\n"
     ]
    },
    {
     "name": "stderr",
     "output_type": "stream",
     "text": [
      "C:\\Users\\Pravin Bhise\\AppData\\Local\\Temp\\ipykernel_7712\\2608815035.py:25: FutureWarning: Pass y=[ 3.0517578e-05  0.0000000e+00  0.0000000e+00 ... -6.1035156e-05\n",
      " -6.1035156e-05 -6.1035156e-05] as keyword args. From version 0.10 passing these as positional arguments will result in an error\n",
      "  mel=np.mean(librosa.feature.melspectrogram(X, sr=sample_rate).T,axis=0)\n",
      "C:\\Users\\Pravin Bhise\\AppData\\Local\\Temp\\ipykernel_7712\\2608815035.py:25: FutureWarning: Pass y=[ 3.0517578e-05  0.0000000e+00  3.0517578e-05 ...  0.0000000e+00\n",
      " -9.1552734e-05  3.0517578e-05] as keyword args. From version 0.10 passing these as positional arguments will result in an error\n",
      "  mel=np.mean(librosa.feature.melspectrogram(X, sr=sample_rate).T,axis=0)\n"
     ]
    },
    {
     "name": "stdout",
     "output_type": "stream",
     "text": [
      "File name = 03-01-03-01-02-01-10.wav , emotion = happy\n",
      "File name = 03-01-03-01-02-02-10.wav , emotion = happy\n"
     ]
    },
    {
     "name": "stderr",
     "output_type": "stream",
     "text": [
      "C:\\Users\\Pravin Bhise\\AppData\\Local\\Temp\\ipykernel_7712\\2608815035.py:25: FutureWarning: Pass y=[ 0.0000000e+00  0.0000000e+00  3.0517578e-05 ...  3.9672852e-04\n",
      "  4.5776367e-04 -2.7465820e-04] as keyword args. From version 0.10 passing these as positional arguments will result in an error\n",
      "  mel=np.mean(librosa.feature.melspectrogram(X, sr=sample_rate).T,axis=0)\n",
      "C:\\Users\\Pravin Bhise\\AppData\\Local\\Temp\\ipykernel_7712\\2608815035.py:25: FutureWarning: Pass y=[-2.7465820e-04  1.8310547e-04 -6.1035156e-05 ...  9.1552734e-05\n",
      "  1.2207031e-04  9.1552734e-05] as keyword args. From version 0.10 passing these as positional arguments will result in an error\n",
      "  mel=np.mean(librosa.feature.melspectrogram(X, sr=sample_rate).T,axis=0)\n"
     ]
    },
    {
     "name": "stdout",
     "output_type": "stream",
     "text": [
      "File name = 03-01-03-02-01-01-10.wav , emotion = happy\n",
      "File name = 03-01-03-02-01-02-10.wav , emotion = happy\n"
     ]
    },
    {
     "name": "stderr",
     "output_type": "stream",
     "text": [
      "C:\\Users\\Pravin Bhise\\AppData\\Local\\Temp\\ipykernel_7712\\2608815035.py:25: FutureWarning: Pass y=[-6.1035156e-05 -6.1035156e-05 -3.0517578e-05 ... -3.0517578e-05\n",
      "  0.0000000e+00 -3.0517578e-05] as keyword args. From version 0.10 passing these as positional arguments will result in an error\n",
      "  mel=np.mean(librosa.feature.melspectrogram(X, sr=sample_rate).T,axis=0)\n",
      "C:\\Users\\Pravin Bhise\\AppData\\Local\\Temp\\ipykernel_7712\\2608815035.py:25: FutureWarning: Pass y=[ 3.0517578e-05  3.0517578e-05  3.0517578e-05 ...  0.0000000e+00\n",
      " -3.0517578e-05 -3.0517578e-05] as keyword args. From version 0.10 passing these as positional arguments will result in an error\n",
      "  mel=np.mean(librosa.feature.melspectrogram(X, sr=sample_rate).T,axis=0)\n"
     ]
    },
    {
     "name": "stdout",
     "output_type": "stream",
     "text": [
      "File name = 03-01-03-02-02-01-10.wav , emotion = happy\n",
      "File name = 03-01-03-02-02-02-10.wav , emotion = happy\n"
     ]
    },
    {
     "name": "stderr",
     "output_type": "stream",
     "text": [
      "C:\\Users\\Pravin Bhise\\AppData\\Local\\Temp\\ipykernel_7712\\2608815035.py:25: FutureWarning: Pass y=[-3.0517578e-05 -3.0517578e-05  0.0000000e+00 ...  0.0000000e+00\n",
      "  0.0000000e+00  3.0517578e-05] as keyword args. From version 0.10 passing these as positional arguments will result in an error\n",
      "  mel=np.mean(librosa.feature.melspectrogram(X, sr=sample_rate).T,axis=0)\n",
      "C:\\Users\\Pravin Bhise\\AppData\\Local\\Temp\\ipykernel_7712\\2608815035.py:25: FutureWarning: Pass y=[ 9.1552734e-05  1.2207031e-04  9.1552734e-05 ... -3.0517578e-05\n",
      "  0.0000000e+00  0.0000000e+00] as keyword args. From version 0.10 passing these as positional arguments will result in an error\n",
      "  mel=np.mean(librosa.feature.melspectrogram(X, sr=sample_rate).T,axis=0)\n"
     ]
    },
    {
     "name": "stdout",
     "output_type": "stream",
     "text": [
      "File name = 03-01-04-01-01-01-10.wav , emotion = sad\n",
      "File name = 03-01-04-01-01-02-10.wav , emotion = sad\n",
      "File name = 03-01-04-01-02-01-10.wav , emotion = sad\n",
      "File name = 03-01-04-01-02-02-10.wav , emotion = sad\n",
      "File name = 03-01-04-02-01-01-10.wav , emotion = sad\n",
      "File name = 03-01-04-02-01-02-10.wav , emotion = sad\n",
      "File name = 03-01-04-02-02-01-10.wav , emotion = sad\n",
      "File name = 03-01-04-02-02-02-10.wav , emotion = sad\n",
      "File name = 03-01-05-01-01-01-10.wav , emotion = angry\n",
      "File name = 03-01-05-01-01-02-10.wav , emotion = angry\n",
      "File name = 03-01-05-01-02-01-10.wav , emotion = angry\n",
      "File name = 03-01-05-01-02-02-10.wav , emotion = angry\n",
      "File name = 03-01-05-02-01-01-10.wav , emotion = angry\n",
      "File name = 03-01-05-02-01-02-10.wav , emotion = angry\n",
      "File name = 03-01-05-02-02-01-10.wav , emotion = angry\n",
      "File name = 03-01-05-02-02-02-10.wav , emotion = angry\n",
      "File name = 03-01-06-01-01-01-10.wav , emotion = fearful\n",
      "File name = 03-01-06-01-01-02-10.wav , emotion = fearful\n"
     ]
    },
    {
     "name": "stderr",
     "output_type": "stream",
     "text": [
      "C:\\Users\\Pravin Bhise\\AppData\\Local\\Temp\\ipykernel_7712\\2608815035.py:25: FutureWarning: Pass y=[-3.0517578e-05 -3.0517578e-05 -3.0517578e-05 ...  0.0000000e+00\n",
      " -3.0517578e-05 -3.0517578e-05] as keyword args. From version 0.10 passing these as positional arguments will result in an error\n",
      "  mel=np.mean(librosa.feature.melspectrogram(X, sr=sample_rate).T,axis=0)\n",
      "C:\\Users\\Pravin Bhise\\AppData\\Local\\Temp\\ipykernel_7712\\2608815035.py:25: FutureWarning: Pass y=[ 3.0517578e-05  3.0517578e-05  3.0517578e-05 ... -3.0517578e-05\n",
      " -3.0517578e-05 -3.0517578e-05] as keyword args. From version 0.10 passing these as positional arguments will result in an error\n",
      "  mel=np.mean(librosa.feature.melspectrogram(X, sr=sample_rate).T,axis=0)\n"
     ]
    },
    {
     "name": "stdout",
     "output_type": "stream",
     "text": [
      "File name = 03-01-06-01-02-01-10.wav , emotion = fearful\n",
      "File name = 03-01-06-01-02-02-10.wav , emotion = fearful\n"
     ]
    },
    {
     "name": "stderr",
     "output_type": "stream",
     "text": [
      "C:\\Users\\Pravin Bhise\\AppData\\Local\\Temp\\ipykernel_7712\\2608815035.py:25: FutureWarning: Pass y=[-3.0517578e-05 -6.1035156e-05 -6.1035156e-05 ...  0.0000000e+00\n",
      "  0.0000000e+00  3.0517578e-05] as keyword args. From version 0.10 passing these as positional arguments will result in an error\n",
      "  mel=np.mean(librosa.feature.melspectrogram(X, sr=sample_rate).T,axis=0)\n",
      "C:\\Users\\Pravin Bhise\\AppData\\Local\\Temp\\ipykernel_7712\\2608815035.py:25: FutureWarning: Pass y=[ 0.0000000e+00  0.0000000e+00  3.0517578e-05 ... -1.2207031e-04\n",
      " -9.1552734e-05 -9.1552734e-05] as keyword args. From version 0.10 passing these as positional arguments will result in an error\n",
      "  mel=np.mean(librosa.feature.melspectrogram(X, sr=sample_rate).T,axis=0)\n"
     ]
    },
    {
     "name": "stdout",
     "output_type": "stream",
     "text": [
      "File name = 03-01-06-02-01-01-10.wav , emotion = fearful\n",
      "File name = 03-01-06-02-01-02-10.wav , emotion = fearful\n"
     ]
    },
    {
     "name": "stderr",
     "output_type": "stream",
     "text": [
      "C:\\Users\\Pravin Bhise\\AppData\\Local\\Temp\\ipykernel_7712\\2608815035.py:25: FutureWarning: Pass y=[ 3.0517578e-05  3.0517578e-05  3.0517578e-05 ...  0.0000000e+00\n",
      " -3.0517578e-05  0.0000000e+00] as keyword args. From version 0.10 passing these as positional arguments will result in an error\n",
      "  mel=np.mean(librosa.feature.melspectrogram(X, sr=sample_rate).T,axis=0)\n"
     ]
    },
    {
     "name": "stdout",
     "output_type": "stream",
     "text": [
      "File name = 03-01-06-02-02-01-10.wav , emotion = fearful\n",
      "File name = 03-01-06-02-02-02-10.wav , emotion = fearful\n"
     ]
    },
    {
     "name": "stderr",
     "output_type": "stream",
     "text": [
      "C:\\Users\\Pravin Bhise\\AppData\\Local\\Temp\\ipykernel_7712\\2608815035.py:25: FutureWarning: Pass y=[3.0517578e-05 3.0517578e-05 3.0517578e-05 ... 1.2207031e-04 1.2207031e-04\n",
      " 1.2207031e-04] as keyword args. From version 0.10 passing these as positional arguments will result in an error\n",
      "  mel=np.mean(librosa.feature.melspectrogram(X, sr=sample_rate).T,axis=0)\n",
      "C:\\Users\\Pravin Bhise\\AppData\\Local\\Temp\\ipykernel_7712\\2608815035.py:25: FutureWarning: Pass y=[6.1035156e-05 6.1035156e-05 6.1035156e-05 ... 0.0000000e+00 6.1035156e-05\n",
      " 6.1035156e-05] as keyword args. From version 0.10 passing these as positional arguments will result in an error\n",
      "  mel=np.mean(librosa.feature.melspectrogram(X, sr=sample_rate).T,axis=0)\n"
     ]
    },
    {
     "name": "stdout",
     "output_type": "stream",
     "text": [
      "File name = 03-01-07-01-01-01-10.wav , emotion = disgust\n",
      "File name = 03-01-07-01-01-02-10.wav , emotion = disgust\n",
      "File name = 03-01-07-01-02-01-10.wav , emotion = disgust\n",
      "File name = 03-01-07-01-02-02-10.wav , emotion = disgust\n"
     ]
    },
    {
     "name": "stderr",
     "output_type": "stream",
     "text": [
      "C:\\Users\\Pravin Bhise\\AppData\\Local\\Temp\\ipykernel_7712\\2608815035.py:25: FutureWarning: Pass y=[ 3.0517578e-05  6.1035156e-05  6.1035156e-05 ... -1.2207031e-04\n",
      " -6.1035156e-05  0.0000000e+00] as keyword args. From version 0.10 passing these as positional arguments will result in an error\n",
      "  mel=np.mean(librosa.feature.melspectrogram(X, sr=sample_rate).T,axis=0)\n",
      "C:\\Users\\Pravin Bhise\\AppData\\Local\\Temp\\ipykernel_7712\\2608815035.py:25: FutureWarning: Pass y=[ 0.0000000e+00  9.1552734e-05  1.8310547e-04 ... -1.8310547e-04\n",
      " -6.1035156e-05  6.1035156e-05] as keyword args. From version 0.10 passing these as positional arguments will result in an error\n",
      "  mel=np.mean(librosa.feature.melspectrogram(X, sr=sample_rate).T,axis=0)\n"
     ]
    },
    {
     "name": "stdout",
     "output_type": "stream",
     "text": [
      "File name = 03-01-07-02-01-01-10.wav , emotion = disgust\n",
      "File name = 03-01-07-02-01-02-10.wav , emotion = disgust\n",
      "File name = 03-01-07-02-02-01-10.wav , emotion = disgust\n"
     ]
    },
    {
     "name": "stderr",
     "output_type": "stream",
     "text": [
      "C:\\Users\\Pravin Bhise\\AppData\\Local\\Temp\\ipykernel_7712\\2608815035.py:25: FutureWarning: Pass y=[-3.0517578e-05  0.0000000e+00  1.2207031e-04 ...  6.4086914e-04\n",
      "  6.4086914e-04  3.9672852e-04] as keyword args. From version 0.10 passing these as positional arguments will result in an error\n",
      "  mel=np.mean(librosa.feature.melspectrogram(X, sr=sample_rate).T,axis=0)\n"
     ]
    },
    {
     "name": "stdout",
     "output_type": "stream",
     "text": [
      "File name = 03-01-07-02-02-02-10.wav , emotion = disgust\n",
      "File name = 03-01-08-01-01-01-10.wav , emotion = surprised\n",
      "File name = 03-01-08-01-01-02-10.wav , emotion = surprised\n",
      "File name = 03-01-08-01-02-01-10.wav , emotion = surprised\n",
      "File name = 03-01-08-01-02-02-10.wav , emotion = surprised\n",
      "File name = 03-01-08-02-01-01-10.wav , emotion = surprised\n",
      "File name = 03-01-08-02-01-02-10.wav , emotion = surprised\n",
      "File name = 03-01-08-02-02-01-10.wav , emotion = surprised\n",
      "File name = 03-01-08-02-02-02-10.wav , emotion = surprised\n",
      "File name = 03-01-01-01-01-01-11.wav , emotion = neutral\n",
      "File name = 03-01-01-01-01-02-11.wav , emotion = neutral\n",
      "File name = 03-01-01-01-02-01-11.wav , emotion = neutral\n",
      "File name = 03-01-01-01-02-02-11.wav , emotion = neutral\n",
      "File name = 03-01-02-01-01-01-11.wav , emotion = calm\n"
     ]
    },
    {
     "name": "stderr",
     "output_type": "stream",
     "text": [
      "C:\\Users\\Pravin Bhise\\AppData\\Local\\Temp\\ipykernel_7712\\2608815035.py:25: FutureWarning: Pass y=[ 3.0517578e-05  0.0000000e+00  3.0517578e-05 ... -2.1362305e-04\n",
      " -1.2207031e-04  9.1552734e-05] as keyword args. From version 0.10 passing these as positional arguments will result in an error\n",
      "  mel=np.mean(librosa.feature.melspectrogram(X, sr=sample_rate).T,axis=0)\n",
      "C:\\Users\\Pravin Bhise\\AppData\\Local\\Temp\\ipykernel_7712\\2608815035.py:25: FutureWarning: Pass y=[ 1.2207031e-04  1.2207031e-04  1.2207031e-04 ... -9.1552734e-05\n",
      " -9.1552734e-05 -9.1552734e-05] as keyword args. From version 0.10 passing these as positional arguments will result in an error\n",
      "  mel=np.mean(librosa.feature.melspectrogram(X, sr=sample_rate).T,axis=0)\n"
     ]
    },
    {
     "name": "stdout",
     "output_type": "stream",
     "text": [
      "File name = 03-01-02-01-01-02-11.wav , emotion = calm\n",
      "File name = 03-01-02-01-02-01-11.wav , emotion = calm\n"
     ]
    },
    {
     "name": "stderr",
     "output_type": "stream",
     "text": [
      "C:\\Users\\Pravin Bhise\\AppData\\Local\\Temp\\ipykernel_7712\\2608815035.py:25: FutureWarning: Pass y=[ 0.0000000e+00 -3.0517578e-05  0.0000000e+00 ...  0.0000000e+00\n",
      "  0.0000000e+00  0.0000000e+00] as keyword args. From version 0.10 passing these as positional arguments will result in an error\n",
      "  mel=np.mean(librosa.feature.melspectrogram(X, sr=sample_rate).T,axis=0)\n",
      "C:\\Users\\Pravin Bhise\\AppData\\Local\\Temp\\ipykernel_7712\\2608815035.py:25: FutureWarning: Pass y=[6.1035156e-05 9.1552734e-05 6.1035156e-05 ... 3.0517578e-05 6.1035156e-05\n",
      " 6.1035156e-05] as keyword args. From version 0.10 passing these as positional arguments will result in an error\n",
      "  mel=np.mean(librosa.feature.melspectrogram(X, sr=sample_rate).T,axis=0)\n"
     ]
    },
    {
     "name": "stdout",
     "output_type": "stream",
     "text": [
      "File name = 03-01-02-01-02-02-11.wav , emotion = calm\n",
      "File name = 03-01-02-02-01-01-11.wav , emotion = calm\n"
     ]
    },
    {
     "name": "stderr",
     "output_type": "stream",
     "text": [
      "C:\\Users\\Pravin Bhise\\AppData\\Local\\Temp\\ipykernel_7712\\2608815035.py:25: FutureWarning: Pass y=[-1.2207031e-04 -6.1035156e-05 -9.1552734e-05 ... -3.0517578e-05\n",
      " -6.1035156e-05 -6.1035156e-05] as keyword args. From version 0.10 passing these as positional arguments will result in an error\n",
      "  mel=np.mean(librosa.feature.melspectrogram(X, sr=sample_rate).T,axis=0)\n"
     ]
    },
    {
     "name": "stdout",
     "output_type": "stream",
     "text": [
      "File name = 03-01-02-02-01-02-11.wav , emotion = calm\n",
      "File name = 03-01-02-02-02-01-11.wav , emotion = calm\n"
     ]
    },
    {
     "name": "stderr",
     "output_type": "stream",
     "text": [
      "C:\\Users\\Pravin Bhise\\AppData\\Local\\Temp\\ipykernel_7712\\2608815035.py:25: FutureWarning: Pass y=[ 0.00018311  0.00018311  0.00018311 ... -0.00015259 -0.00015259\n",
      " -0.00018311] as keyword args. From version 0.10 passing these as positional arguments will result in an error\n",
      "  mel=np.mean(librosa.feature.melspectrogram(X, sr=sample_rate).T,axis=0)\n",
      "C:\\Users\\Pravin Bhise\\AppData\\Local\\Temp\\ipykernel_7712\\2608815035.py:25: FutureWarning: Pass y=[-0.00012207 -0.00012207 -0.00012207 ...  0.          0.\n",
      "  0.        ] as keyword args. From version 0.10 passing these as positional arguments will result in an error\n",
      "  mel=np.mean(librosa.feature.melspectrogram(X, sr=sample_rate).T,axis=0)\n"
     ]
    },
    {
     "name": "stdout",
     "output_type": "stream",
     "text": [
      "File name = 03-01-02-02-02-02-11.wav , emotion = calm\n",
      "File name = 03-01-03-01-01-01-11.wav , emotion = happy\n"
     ]
    },
    {
     "name": "stderr",
     "output_type": "stream",
     "text": [
      "C:\\Users\\Pravin Bhise\\AppData\\Local\\Temp\\ipykernel_7712\\2608815035.py:25: FutureWarning: Pass y=[3.0517578e-05 6.1035156e-05 6.1035156e-05 ... 3.0517578e-05 3.0517578e-05\n",
      " 3.0517578e-05] as keyword args. From version 0.10 passing these as positional arguments will result in an error\n",
      "  mel=np.mean(librosa.feature.melspectrogram(X, sr=sample_rate).T,axis=0)\n",
      "C:\\Users\\Pravin Bhise\\AppData\\Local\\Temp\\ipykernel_7712\\2608815035.py:25: FutureWarning: Pass y=[-9.1552734e-05 -9.1552734e-05 -6.1035156e-05 ... -3.0517578e-05\n",
      " -6.1035156e-05 -6.1035156e-05] as keyword args. From version 0.10 passing these as positional arguments will result in an error\n",
      "  mel=np.mean(librosa.feature.melspectrogram(X, sr=sample_rate).T,axis=0)\n"
     ]
    },
    {
     "name": "stdout",
     "output_type": "stream",
     "text": [
      "File name = 03-01-03-01-01-02-11.wav , emotion = happy\n",
      "File name = 03-01-03-01-02-01-11.wav , emotion = happy\n"
     ]
    },
    {
     "name": "stderr",
     "output_type": "stream",
     "text": [
      "C:\\Users\\Pravin Bhise\\AppData\\Local\\Temp\\ipykernel_7712\\2608815035.py:25: FutureWarning: Pass y=[ 0.0000000e+00  3.0517578e-05  3.0517578e-05 ... -3.0517578e-05\n",
      " -3.0517578e-05 -3.0517578e-05] as keyword args. From version 0.10 passing these as positional arguments will result in an error\n",
      "  mel=np.mean(librosa.feature.melspectrogram(X, sr=sample_rate).T,axis=0)\n",
      "C:\\Users\\Pravin Bhise\\AppData\\Local\\Temp\\ipykernel_7712\\2608815035.py:25: FutureWarning: Pass y=[3.0517578e-05 3.0517578e-05 3.0517578e-05 ... 6.1035156e-05 6.1035156e-05\n",
      " 6.1035156e-05] as keyword args. From version 0.10 passing these as positional arguments will result in an error\n",
      "  mel=np.mean(librosa.feature.melspectrogram(X, sr=sample_rate).T,axis=0)\n"
     ]
    },
    {
     "name": "stdout",
     "output_type": "stream",
     "text": [
      "File name = 03-01-03-01-02-02-11.wav , emotion = happy\n",
      "File name = 03-01-03-02-01-01-11.wav , emotion = happy\n",
      "File name = 03-01-03-02-01-02-11.wav , emotion = happy\n",
      "File name = 03-01-03-02-02-01-11.wav , emotion = happy\n"
     ]
    },
    {
     "name": "stderr",
     "output_type": "stream",
     "text": [
      "C:\\Users\\Pravin Bhise\\AppData\\Local\\Temp\\ipykernel_7712\\2608815035.py:25: FutureWarning: Pass y=[ 0.0000000e+00 -3.0517578e-05 -3.0517578e-05 ...  3.0517578e-05\n",
      "  2.1362305e-04  1.2207031e-04] as keyword args. From version 0.10 passing these as positional arguments will result in an error\n",
      "  mel=np.mean(librosa.feature.melspectrogram(X, sr=sample_rate).T,axis=0)\n"
     ]
    },
    {
     "name": "stdout",
     "output_type": "stream",
     "text": [
      "File name = 03-01-03-02-02-02-11.wav , emotion = happy\n",
      "File name = 03-01-04-01-01-01-11.wav , emotion = sad\n",
      "File name = 03-01-04-01-01-02-11.wav , emotion = sad\n",
      "File name = 03-01-04-01-02-01-11.wav , emotion = sad\n",
      "File name = 03-01-04-01-02-02-11.wav , emotion = sad\n",
      "File name = 03-01-04-02-01-01-11.wav , emotion = sad\n",
      "File name = 03-01-04-02-01-02-11.wav , emotion = sad\n",
      "File name = 03-01-04-02-02-01-11.wav , emotion = sad\n",
      "File name = 03-01-04-02-02-02-11.wav , emotion = sad\n",
      "File name = 03-01-05-01-01-01-11.wav , emotion = angry\n",
      "File name = 03-01-05-01-01-02-11.wav , emotion = angry\n",
      "File name = 03-01-05-01-02-01-11.wav , emotion = angry\n",
      "File name = 03-01-05-01-02-02-11.wav , emotion = angry\n",
      "File name = 03-01-05-02-01-01-11.wav , emotion = angry\n",
      "File name = 03-01-05-02-01-02-11.wav , emotion = angry\n",
      "File name = 03-01-05-02-02-01-11.wav , emotion = angry\n",
      "File name = 03-01-05-02-02-02-11.wav , emotion = angry\n",
      "File name = 03-01-06-01-01-01-11.wav , emotion = fearful\n"
     ]
    },
    {
     "name": "stderr",
     "output_type": "stream",
     "text": [
      "C:\\Users\\Pravin Bhise\\AppData\\Local\\Temp\\ipykernel_7712\\2608815035.py:25: FutureWarning: Pass y=[1.2207031e-04 9.1552734e-05 9.1552734e-05 ... 1.8310547e-04 1.8310547e-04\n",
      " 1.8310547e-04] as keyword args. From version 0.10 passing these as positional arguments will result in an error\n",
      "  mel=np.mean(librosa.feature.melspectrogram(X, sr=sample_rate).T,axis=0)\n"
     ]
    },
    {
     "name": "stdout",
     "output_type": "stream",
     "text": [
      "File name = 03-01-06-01-01-02-11.wav , emotion = fearful\n",
      "File name = 03-01-06-01-02-01-11.wav , emotion = fearful\n"
     ]
    },
    {
     "name": "stderr",
     "output_type": "stream",
     "text": [
      "C:\\Users\\Pravin Bhise\\AppData\\Local\\Temp\\ipykernel_7712\\2608815035.py:25: FutureWarning: Pass y=[0.         0.         0.         ... 0.00015259 0.00015259 0.00012207] as keyword args. From version 0.10 passing these as positional arguments will result in an error\n",
      "  mel=np.mean(librosa.feature.melspectrogram(X, sr=sample_rate).T,axis=0)\n"
     ]
    },
    {
     "name": "stdout",
     "output_type": "stream",
     "text": [
      "File name = 03-01-06-01-02-02-11.wav , emotion = fearful\n",
      "File name = 03-01-06-02-01-01-11.wav , emotion = fearful\n"
     ]
    },
    {
     "name": "stderr",
     "output_type": "stream",
     "text": [
      "C:\\Users\\Pravin Bhise\\AppData\\Local\\Temp\\ipykernel_7712\\2608815035.py:25: FutureWarning: Pass y=[0.0000000e+00 0.0000000e+00 3.0517578e-05 ... 3.0517578e-05 3.0517578e-05\n",
      " 3.0517578e-05] as keyword args. From version 0.10 passing these as positional arguments will result in an error\n",
      "  mel=np.mean(librosa.feature.melspectrogram(X, sr=sample_rate).T,axis=0)\n",
      "C:\\Users\\Pravin Bhise\\AppData\\Local\\Temp\\ipykernel_7712\\2608815035.py:25: FutureWarning: Pass y=[ 0.0000000e+00  0.0000000e+00  0.0000000e+00 ... -2.1362305e-04\n",
      "  3.0517578e-05  0.0000000e+00] as keyword args. From version 0.10 passing these as positional arguments will result in an error\n",
      "  mel=np.mean(librosa.feature.melspectrogram(X, sr=sample_rate).T,axis=0)\n"
     ]
    },
    {
     "name": "stdout",
     "output_type": "stream",
     "text": [
      "File name = 03-01-06-02-01-02-11.wav , emotion = fearful\n",
      "File name = 03-01-06-02-02-01-11.wav , emotion = fearful\n"
     ]
    },
    {
     "name": "stderr",
     "output_type": "stream",
     "text": [
      "C:\\Users\\Pravin Bhise\\AppData\\Local\\Temp\\ipykernel_7712\\2608815035.py:25: FutureWarning: Pass y=[-1.5258789e-04 -9.1552734e-05  6.1035156e-05 ...  9.1552734e-05\n",
      "  9.1552734e-05  6.1035156e-05] as keyword args. From version 0.10 passing these as positional arguments will result in an error\n",
      "  mel=np.mean(librosa.feature.melspectrogram(X, sr=sample_rate).T,axis=0)\n",
      "C:\\Users\\Pravin Bhise\\AppData\\Local\\Temp\\ipykernel_7712\\2608815035.py:25: FutureWarning: Pass y=[6.1035156e-05 9.1552734e-05 1.2207031e-04 ... 3.3569336e-04 2.4414062e-04\n",
      " 2.7465820e-04] as keyword args. From version 0.10 passing these as positional arguments will result in an error\n",
      "  mel=np.mean(librosa.feature.melspectrogram(X, sr=sample_rate).T,axis=0)\n"
     ]
    },
    {
     "name": "stdout",
     "output_type": "stream",
     "text": [
      "File name = 03-01-06-02-02-02-11.wav , emotion = fearful\n",
      "File name = 03-01-07-01-01-01-11.wav , emotion = disgust\n"
     ]
    },
    {
     "name": "stderr",
     "output_type": "stream",
     "text": [
      "C:\\Users\\Pravin Bhise\\AppData\\Local\\Temp\\ipykernel_7712\\2608815035.py:25: FutureWarning: Pass y=[ 0.0000000e+00  3.0517578e-05  3.0517578e-05 ... -1.8310547e-04\n",
      " -1.2207031e-04 -1.8310547e-04] as keyword args. From version 0.10 passing these as positional arguments will result in an error\n",
      "  mel=np.mean(librosa.feature.melspectrogram(X, sr=sample_rate).T,axis=0)\n"
     ]
    },
    {
     "name": "stdout",
     "output_type": "stream",
     "text": [
      "File name = 03-01-07-01-01-02-11.wav , emotion = disgust\n",
      "File name = 03-01-07-01-02-01-11.wav , emotion = disgust\n",
      "File name = 03-01-07-01-02-02-11.wav , emotion = disgust\n",
      "File name = 03-01-07-02-01-01-11.wav , emotion = disgust\n"
     ]
    },
    {
     "name": "stderr",
     "output_type": "stream",
     "text": [
      "C:\\Users\\Pravin Bhise\\AppData\\Local\\Temp\\ipykernel_7712\\2608815035.py:25: FutureWarning: Pass y=[3.0517578e-05 3.0517578e-05 6.1035156e-05 ... 3.0517578e-05 0.0000000e+00\n",
      " 3.0517578e-05] as keyword args. From version 0.10 passing these as positional arguments will result in an error\n",
      "  mel=np.mean(librosa.feature.melspectrogram(X, sr=sample_rate).T,axis=0)\n",
      "C:\\Users\\Pravin Bhise\\AppData\\Local\\Temp\\ipykernel_7712\\2608815035.py:25: FutureWarning: Pass y=[-3.0517578e-05 -3.0517578e-05 -3.0517578e-05 ... -1.5258789e-04\n",
      " -1.2207031e-04 -1.2207031e-04] as keyword args. From version 0.10 passing these as positional arguments will result in an error\n",
      "  mel=np.mean(librosa.feature.melspectrogram(X, sr=sample_rate).T,axis=0)\n"
     ]
    },
    {
     "name": "stdout",
     "output_type": "stream",
     "text": [
      "File name = 03-01-07-02-01-02-11.wav , emotion = disgust\n",
      "File name = 03-01-07-02-02-01-11.wav , emotion = disgust\n"
     ]
    },
    {
     "name": "stderr",
     "output_type": "stream",
     "text": [
      "C:\\Users\\Pravin Bhise\\AppData\\Local\\Temp\\ipykernel_7712\\2608815035.py:25: FutureWarning: Pass y=[ 9.1552734e-05  6.1035156e-05  6.1035156e-05 ... -8.2702637e-03\n",
      " -8.2397461e-03 -8.1787109e-03] as keyword args. From version 0.10 passing these as positional arguments will result in an error\n",
      "  mel=np.mean(librosa.feature.melspectrogram(X, sr=sample_rate).T,axis=0)\n",
      "C:\\Users\\Pravin Bhise\\AppData\\Local\\Temp\\ipykernel_7712\\2608815035.py:25: FutureWarning: Pass y=[-9.1552734e-05 -9.1552734e-05 -1.2207031e-04 ...  0.0000000e+00\n",
      "  0.0000000e+00  0.0000000e+00] as keyword args. From version 0.10 passing these as positional arguments will result in an error\n",
      "  mel=np.mean(librosa.feature.melspectrogram(X, sr=sample_rate).T,axis=0)\n"
     ]
    },
    {
     "name": "stdout",
     "output_type": "stream",
     "text": [
      "File name = 03-01-07-02-02-02-11.wav , emotion = disgust\n",
      "File name = 03-01-08-01-01-01-11.wav , emotion = surprised\n",
      "File name = 03-01-08-01-01-02-11.wav , emotion = surprised\n",
      "File name = 03-01-08-01-02-01-11.wav , emotion = surprised\n",
      "File name = 03-01-08-01-02-02-11.wav , emotion = surprised\n",
      "File name = 03-01-08-02-01-01-11.wav , emotion = surprised\n",
      "File name = 03-01-08-02-01-02-11.wav , emotion = surprised\n",
      "File name = 03-01-08-02-02-01-11.wav , emotion = surprised\n",
      "File name = 03-01-08-02-02-02-11.wav , emotion = surprised\n",
      "File name = 03-01-01-01-01-01-12.wav , emotion = neutral\n",
      "File name = 03-01-01-01-01-02-12.wav , emotion = neutral\n",
      "File name = 03-01-01-01-02-01-12.wav , emotion = neutral\n",
      "File name = 03-01-01-01-02-02-12.wav , emotion = neutral\n",
      "File name = 03-01-02-01-01-01-12.wav , emotion = calm\n"
     ]
    },
    {
     "name": "stderr",
     "output_type": "stream",
     "text": [
      "C:\\Users\\Pravin Bhise\\AppData\\Local\\Temp\\ipykernel_7712\\2608815035.py:25: FutureWarning: Pass y=[ 3.0517578e-05  3.0517578e-05  3.0517578e-05 ... -3.0517578e-05\n",
      " -3.0517578e-05  0.0000000e+00] as keyword args. From version 0.10 passing these as positional arguments will result in an error\n",
      "  mel=np.mean(librosa.feature.melspectrogram(X, sr=sample_rate).T,axis=0)\n"
     ]
    },
    {
     "name": "stdout",
     "output_type": "stream",
     "text": [
      "File name = 03-01-02-01-01-02-12.wav , emotion = calm\n",
      "File name = 03-01-02-01-02-01-12.wav , emotion = calm\n",
      "File name = 03-01-02-01-02-02-12.wav , emotion = calm\n",
      "File name = 03-01-02-02-01-01-12.wav , emotion = calm\n"
     ]
    },
    {
     "name": "stderr",
     "output_type": "stream",
     "text": [
      "C:\\Users\\Pravin Bhise\\AppData\\Local\\Temp\\ipykernel_7712\\2608815035.py:25: FutureWarning: Pass y=[ 0.0000000e+00  0.0000000e+00  0.0000000e+00 ...  0.0000000e+00\n",
      " -3.0517578e-05  0.0000000e+00] as keyword args. From version 0.10 passing these as positional arguments will result in an error\n",
      "  mel=np.mean(librosa.feature.melspectrogram(X, sr=sample_rate).T,axis=0)\n"
     ]
    },
    {
     "name": "stdout",
     "output_type": "stream",
     "text": [
      "File name = 03-01-02-02-01-02-12.wav , emotion = calm\n",
      "File name = 03-01-02-02-02-01-12.wav , emotion = calm\n"
     ]
    },
    {
     "name": "stderr",
     "output_type": "stream",
     "text": [
      "C:\\Users\\Pravin Bhise\\AppData\\Local\\Temp\\ipykernel_7712\\2608815035.py:25: FutureWarning: Pass y=[-6.1035156e-05 -6.1035156e-05 -3.0517578e-05 ... -6.1035156e-05\n",
      " -9.1552734e-05 -3.0517578e-05] as keyword args. From version 0.10 passing these as positional arguments will result in an error\n",
      "  mel=np.mean(librosa.feature.melspectrogram(X, sr=sample_rate).T,axis=0)\n",
      "C:\\Users\\Pravin Bhise\\AppData\\Local\\Temp\\ipykernel_7712\\2608815035.py:25: FutureWarning: Pass y=[ 0.0000000e+00  0.0000000e+00  0.0000000e+00 ... -3.0517578e-05\n",
      " -6.1035156e-05 -6.1035156e-05] as keyword args. From version 0.10 passing these as positional arguments will result in an error\n",
      "  mel=np.mean(librosa.feature.melspectrogram(X, sr=sample_rate).T,axis=0)\n"
     ]
    },
    {
     "name": "stdout",
     "output_type": "stream",
     "text": [
      "File name = 03-01-02-02-02-02-12.wav , emotion = calm\n",
      "File name = 03-01-03-01-01-01-12.wav , emotion = happy\n",
      "File name = 03-01-03-01-01-02-12.wav , emotion = happy\n",
      "File name = 03-01-03-01-02-01-12.wav , emotion = happy\n",
      "File name = 03-01-03-01-02-02-12.wav , emotion = happy\n",
      "File name = 03-01-03-02-01-01-12.wav , emotion = happy\n"
     ]
    },
    {
     "name": "stderr",
     "output_type": "stream",
     "text": [
      "C:\\Users\\Pravin Bhise\\AppData\\Local\\Temp\\ipykernel_7712\\2608815035.py:25: FutureWarning: Pass y=[0.0000000e+00 0.0000000e+00 0.0000000e+00 ... 3.0517578e-05 3.0517578e-05\n",
      " 6.1035156e-05] as keyword args. From version 0.10 passing these as positional arguments will result in an error\n",
      "  mel=np.mean(librosa.feature.melspectrogram(X, sr=sample_rate).T,axis=0)\n",
      "C:\\Users\\Pravin Bhise\\AppData\\Local\\Temp\\ipykernel_7712\\2608815035.py:25: FutureWarning: Pass y=[ 0.0000000e+00 -3.0517578e-05  0.0000000e+00 ...  3.0517578e-05\n",
      "  3.0517578e-05  3.0517578e-05] as keyword args. From version 0.10 passing these as positional arguments will result in an error\n",
      "  mel=np.mean(librosa.feature.melspectrogram(X, sr=sample_rate).T,axis=0)\n"
     ]
    },
    {
     "name": "stdout",
     "output_type": "stream",
     "text": [
      "File name = 03-01-03-02-01-02-12.wav , emotion = happy\n",
      "File name = 03-01-03-02-02-01-12.wav , emotion = happy\n"
     ]
    },
    {
     "name": "stderr",
     "output_type": "stream",
     "text": [
      "C:\\Users\\Pravin Bhise\\AppData\\Local\\Temp\\ipykernel_7712\\2608815035.py:25: FutureWarning: Pass y=[ 0.          0.          0.         ... -0.00021362 -0.00024414\n",
      " -0.00018311] as keyword args. From version 0.10 passing these as positional arguments will result in an error\n",
      "  mel=np.mean(librosa.feature.melspectrogram(X, sr=sample_rate).T,axis=0)\n"
     ]
    },
    {
     "name": "stdout",
     "output_type": "stream",
     "text": [
      "File name = 03-01-03-02-02-02-12.wav , emotion = happy\n",
      "File name = 03-01-04-01-01-01-12.wav , emotion = sad\n",
      "File name = 03-01-04-01-01-02-12.wav , emotion = sad\n",
      "File name = 03-01-04-01-02-01-12.wav , emotion = sad\n",
      "File name = 03-01-04-01-02-02-12.wav , emotion = sad\n",
      "File name = 03-01-04-02-01-01-12.wav , emotion = sad\n",
      "File name = 03-01-04-02-01-02-12.wav , emotion = sad\n",
      "File name = 03-01-04-02-02-01-12.wav , emotion = sad\n",
      "File name = 03-01-04-02-02-02-12.wav , emotion = sad\n",
      "File name = 03-01-05-01-01-01-12.wav , emotion = angry\n",
      "File name = 03-01-05-01-01-02-12.wav , emotion = angry\n",
      "File name = 03-01-05-01-02-01-12.wav , emotion = angry\n",
      "File name = 03-01-05-01-02-02-12.wav , emotion = angry\n",
      "File name = 03-01-05-02-01-01-12.wav , emotion = angry\n",
      "File name = 03-01-05-02-01-02-12.wav , emotion = angry\n",
      "File name = 03-01-05-02-02-01-12.wav , emotion = angry\n",
      "File name = 03-01-05-02-02-02-12.wav , emotion = angry\n",
      "File name = 03-01-06-01-01-01-12.wav , emotion = fearful\n"
     ]
    },
    {
     "name": "stderr",
     "output_type": "stream",
     "text": [
      "C:\\Users\\Pravin Bhise\\AppData\\Local\\Temp\\ipykernel_7712\\2608815035.py:25: FutureWarning: Pass y=[ 0.          0.          0.         ... -0.00161743 -0.00164795\n",
      " -0.00161743] as keyword args. From version 0.10 passing these as positional arguments will result in an error\n",
      "  mel=np.mean(librosa.feature.melspectrogram(X, sr=sample_rate).T,axis=0)\n",
      "C:\\Users\\Pravin Bhise\\AppData\\Local\\Temp\\ipykernel_7712\\2608815035.py:25: FutureWarning: Pass y=[ 0.0000000e+00  0.0000000e+00  0.0000000e+00 ... -1.2207031e-04\n",
      " -1.2207031e-04 -9.1552734e-05] as keyword args. From version 0.10 passing these as positional arguments will result in an error\n",
      "  mel=np.mean(librosa.feature.melspectrogram(X, sr=sample_rate).T,axis=0)\n"
     ]
    },
    {
     "name": "stdout",
     "output_type": "stream",
     "text": [
      "File name = 03-01-06-01-01-02-12.wav , emotion = fearful\n",
      "File name = 03-01-06-01-02-01-12.wav , emotion = fearful\n",
      "File name = 03-01-06-01-02-02-12.wav , emotion = fearful\n",
      "File name = 03-01-06-02-01-01-12.wav , emotion = fearful\n"
     ]
    },
    {
     "name": "stderr",
     "output_type": "stream",
     "text": [
      "C:\\Users\\Pravin Bhise\\AppData\\Local\\Temp\\ipykernel_7712\\2608815035.py:25: FutureWarning: Pass y=[-6.1035156e-05 -6.1035156e-05 -3.0517578e-05 ...  0.0000000e+00\n",
      " -3.0517578e-05 -3.0517578e-05] as keyword args. From version 0.10 passing these as positional arguments will result in an error\n",
      "  mel=np.mean(librosa.feature.melspectrogram(X, sr=sample_rate).T,axis=0)\n",
      "C:\\Users\\Pravin Bhise\\AppData\\Local\\Temp\\ipykernel_7712\\2608815035.py:25: FutureWarning: Pass y=[ 0.          0.          0.         ... -0.00085449 -0.00088501\n",
      " -0.00091553] as keyword args. From version 0.10 passing these as positional arguments will result in an error\n",
      "  mel=np.mean(librosa.feature.melspectrogram(X, sr=sample_rate).T,axis=0)\n"
     ]
    },
    {
     "name": "stdout",
     "output_type": "stream",
     "text": [
      "File name = 03-01-06-02-01-02-12.wav , emotion = fearful\n",
      "File name = 03-01-06-02-02-01-12.wav , emotion = fearful\n"
     ]
    },
    {
     "name": "stderr",
     "output_type": "stream",
     "text": [
      "C:\\Users\\Pravin Bhise\\AppData\\Local\\Temp\\ipykernel_7712\\2608815035.py:25: FutureWarning: Pass y=[ 0.          0.          0.         ... -0.00042725 -0.00042725\n",
      " -0.00039673] as keyword args. From version 0.10 passing these as positional arguments will result in an error\n",
      "  mel=np.mean(librosa.feature.melspectrogram(X, sr=sample_rate).T,axis=0)\n"
     ]
    },
    {
     "name": "stdout",
     "output_type": "stream",
     "text": [
      "File name = 03-01-06-02-02-02-12.wav , emotion = fearful\n",
      "File name = 03-01-07-01-01-01-12.wav , emotion = disgust\n"
     ]
    },
    {
     "name": "stderr",
     "output_type": "stream",
     "text": [
      "C:\\Users\\Pravin Bhise\\AppData\\Local\\Temp\\ipykernel_7712\\2608815035.py:25: FutureWarning: Pass y=[ 0.0000000e+00  0.0000000e+00  0.0000000e+00 ... -9.1552734e-05\n",
      " -1.2207031e-04 -1.2207031e-04] as keyword args. From version 0.10 passing these as positional arguments will result in an error\n",
      "  mel=np.mean(librosa.feature.melspectrogram(X, sr=sample_rate).T,axis=0)\n",
      "C:\\Users\\Pravin Bhise\\AppData\\Local\\Temp\\ipykernel_7712\\2608815035.py:25: FutureWarning: Pass y=[6.1035156e-05 6.1035156e-05 6.1035156e-05 ... 3.0517578e-05 0.0000000e+00\n",
      " 0.0000000e+00] as keyword args. From version 0.10 passing these as positional arguments will result in an error\n",
      "  mel=np.mean(librosa.feature.melspectrogram(X, sr=sample_rate).T,axis=0)\n"
     ]
    },
    {
     "name": "stdout",
     "output_type": "stream",
     "text": [
      "File name = 03-01-07-01-01-02-12.wav , emotion = disgust\n",
      "File name = 03-01-07-01-02-01-12.wav , emotion = disgust\n"
     ]
    },
    {
     "name": "stderr",
     "output_type": "stream",
     "text": [
      "C:\\Users\\Pravin Bhise\\AppData\\Local\\Temp\\ipykernel_7712\\2608815035.py:25: FutureWarning: Pass y=[0.00170898 0.00170898 0.00167847 ... 0.         0.         0.        ] as keyword args. From version 0.10 passing these as positional arguments will result in an error\n",
      "  mel=np.mean(librosa.feature.melspectrogram(X, sr=sample_rate).T,axis=0)\n",
      "C:\\Users\\Pravin Bhise\\AppData\\Local\\Temp\\ipykernel_7712\\2608815035.py:25: FutureWarning: Pass y=[ 0.0000000e+00 -3.0517578e-05  0.0000000e+00 ... -3.0517578e-05\n",
      "  0.0000000e+00  0.0000000e+00] as keyword args. From version 0.10 passing these as positional arguments will result in an error\n",
      "  mel=np.mean(librosa.feature.melspectrogram(X, sr=sample_rate).T,axis=0)\n"
     ]
    },
    {
     "name": "stdout",
     "output_type": "stream",
     "text": [
      "File name = 03-01-07-01-02-02-12.wav , emotion = disgust\n",
      "File name = 03-01-07-02-01-01-12.wav , emotion = disgust\n"
     ]
    },
    {
     "name": "stderr",
     "output_type": "stream",
     "text": [
      "C:\\Users\\Pravin Bhise\\AppData\\Local\\Temp\\ipykernel_7712\\2608815035.py:25: FutureWarning: Pass y=[ 0.0000000e+00  0.0000000e+00  0.0000000e+00 ... -6.1035156e-05\n",
      " -6.1035156e-05  0.0000000e+00] as keyword args. From version 0.10 passing these as positional arguments will result in an error\n",
      "  mel=np.mean(librosa.feature.melspectrogram(X, sr=sample_rate).T,axis=0)\n"
     ]
    },
    {
     "name": "stdout",
     "output_type": "stream",
     "text": [
      "File name = 03-01-07-02-01-02-12.wav , emotion = disgust\n",
      "File name = 03-01-07-02-02-01-12.wav , emotion = disgust\n"
     ]
    },
    {
     "name": "stderr",
     "output_type": "stream",
     "text": [
      "C:\\Users\\Pravin Bhise\\AppData\\Local\\Temp\\ipykernel_7712\\2608815035.py:25: FutureWarning: Pass y=[ 0.0000000e+00  0.0000000e+00 -3.0517578e-05 ...  6.1035156e-05\n",
      "  3.0517578e-05  3.0517578e-05] as keyword args. From version 0.10 passing these as positional arguments will result in an error\n",
      "  mel=np.mean(librosa.feature.melspectrogram(X, sr=sample_rate).T,axis=0)\n",
      "C:\\Users\\Pravin Bhise\\AppData\\Local\\Temp\\ipykernel_7712\\2608815035.py:25: FutureWarning: Pass y=[-6.1035156e-05 -6.1035156e-05 -6.1035156e-05 ...  3.9672852e-04\n",
      "  3.6621094e-04  3.6621094e-04] as keyword args. From version 0.10 passing these as positional arguments will result in an error\n",
      "  mel=np.mean(librosa.feature.melspectrogram(X, sr=sample_rate).T,axis=0)\n"
     ]
    },
    {
     "name": "stdout",
     "output_type": "stream",
     "text": [
      "File name = 03-01-07-02-02-02-12.wav , emotion = disgust\n",
      "File name = 03-01-08-01-01-01-12.wav , emotion = surprised\n",
      "File name = 03-01-08-01-01-02-12.wav , emotion = surprised\n",
      "File name = 03-01-08-01-02-01-12.wav , emotion = surprised\n",
      "File name = 03-01-08-01-02-02-12.wav , emotion = surprised\n",
      "File name = 03-01-08-02-01-01-12.wav , emotion = surprised\n",
      "File name = 03-01-08-02-01-02-12.wav , emotion = surprised\n",
      "File name = 03-01-08-02-02-01-12.wav , emotion = surprised\n",
      "File name = 03-01-08-02-02-02-12.wav , emotion = surprised\n",
      "File name = 03-01-01-01-01-01-13.wav , emotion = neutral\n",
      "File name = 03-01-01-01-01-02-13.wav , emotion = neutral\n",
      "File name = 03-01-01-01-02-01-13.wav , emotion = neutral\n",
      "File name = 03-01-01-01-02-02-13.wav , emotion = neutral\n",
      "File name = 03-01-02-01-01-01-13.wav , emotion = calm\n"
     ]
    },
    {
     "name": "stderr",
     "output_type": "stream",
     "text": [
      "C:\\Users\\Pravin Bhise\\AppData\\Local\\Temp\\ipykernel_7712\\2608815035.py:25: FutureWarning: Pass y=[-1.2207031e-04 -1.2207031e-04 -9.1552734e-05 ...  0.0000000e+00\n",
      "  0.0000000e+00  0.0000000e+00] as keyword args. From version 0.10 passing these as positional arguments will result in an error\n",
      "  mel=np.mean(librosa.feature.melspectrogram(X, sr=sample_rate).T,axis=0)\n"
     ]
    },
    {
     "name": "stdout",
     "output_type": "stream",
     "text": [
      "File name = 03-01-02-01-01-02-13.wav , emotion = calm\n",
      "File name = 03-01-02-01-02-01-13.wav , emotion = calm\n"
     ]
    },
    {
     "name": "stderr",
     "output_type": "stream",
     "text": [
      "C:\\Users\\Pravin Bhise\\AppData\\Local\\Temp\\ipykernel_7712\\2608815035.py:25: FutureWarning: Pass y=[-3.0517578e-05  0.0000000e+00  0.0000000e+00 ...  3.0517578e-05\n",
      "  3.0517578e-05  3.0517578e-05] as keyword args. From version 0.10 passing these as positional arguments will result in an error\n",
      "  mel=np.mean(librosa.feature.melspectrogram(X, sr=sample_rate).T,axis=0)\n"
     ]
    },
    {
     "name": "stdout",
     "output_type": "stream",
     "text": [
      "File name = 03-01-02-01-02-02-13.wav , emotion = calm\n",
      "File name = 03-01-02-02-01-01-13.wav , emotion = calm\n",
      "File name = 03-01-02-02-01-02-13.wav , emotion = calm\n",
      "File name = 03-01-02-02-02-01-13.wav , emotion = calm\n",
      "File name = 03-01-02-02-02-02-13.wav , emotion = calm\n",
      "File name = 03-01-03-01-01-01-13.wav , emotion = happy\n",
      "File name = 03-01-03-01-01-02-13.wav , emotion = happy\n",
      "File name = 03-01-03-01-02-01-13.wav , emotion = happy\n",
      "File name = 03-01-03-01-02-02-13.wav , emotion = happy\n",
      "File name = 03-01-03-02-01-01-13.wav , emotion = happy\n",
      "File name = 03-01-03-02-01-02-13.wav , emotion = happy\n",
      "File name = 03-01-03-02-02-01-13.wav , emotion = happy\n"
     ]
    },
    {
     "name": "stderr",
     "output_type": "stream",
     "text": [
      "C:\\Users\\Pravin Bhise\\AppData\\Local\\Temp\\ipykernel_7712\\2608815035.py:25: FutureWarning: Pass y=[ 6.1035156e-05  3.0517578e-05  3.0517578e-05 ... -6.1035156e-05\n",
      " -9.1552734e-05 -6.1035156e-05] as keyword args. From version 0.10 passing these as positional arguments will result in an error\n",
      "  mel=np.mean(librosa.feature.melspectrogram(X, sr=sample_rate).T,axis=0)\n"
     ]
    },
    {
     "name": "stdout",
     "output_type": "stream",
     "text": [
      "File name = 03-01-03-02-02-02-13.wav , emotion = happy\n",
      "File name = 03-01-04-01-01-01-13.wav , emotion = sad\n",
      "File name = 03-01-04-01-01-02-13.wav , emotion = sad\n",
      "File name = 03-01-04-01-02-01-13.wav , emotion = sad\n",
      "File name = 03-01-04-01-02-02-13.wav , emotion = sad\n",
      "File name = 03-01-04-02-01-01-13.wav , emotion = sad\n",
      "File name = 03-01-04-02-01-02-13.wav , emotion = sad\n",
      "File name = 03-01-04-02-02-01-13.wav , emotion = sad\n",
      "File name = 03-01-04-02-02-02-13.wav , emotion = sad\n",
      "File name = 03-01-05-01-01-01-13.wav , emotion = angry\n",
      "File name = 03-01-05-01-01-02-13.wav , emotion = angry\n",
      "File name = 03-01-05-01-02-01-13.wav , emotion = angry\n",
      "File name = 03-01-05-01-02-02-13.wav , emotion = angry\n",
      "File name = 03-01-05-02-01-01-13.wav , emotion = angry\n",
      "File name = 03-01-05-02-01-02-13.wav , emotion = angry\n",
      "File name = 03-01-05-02-02-01-13.wav , emotion = angry\n",
      "File name = 03-01-05-02-02-02-13.wav , emotion = angry\n",
      "File name = 03-01-06-01-01-01-13.wav , emotion = fearful\n"
     ]
    },
    {
     "name": "stderr",
     "output_type": "stream",
     "text": [
      "C:\\Users\\Pravin Bhise\\AppData\\Local\\Temp\\ipykernel_7712\\2608815035.py:25: FutureWarning: Pass y=[ 0.0000000e+00  0.0000000e+00  0.0000000e+00 ... -6.1035156e-05\n",
      " -3.0517578e-05 -6.1035156e-05] as keyword args. From version 0.10 passing these as positional arguments will result in an error\n",
      "  mel=np.mean(librosa.feature.melspectrogram(X, sr=sample_rate).T,axis=0)\n",
      "C:\\Users\\Pravin Bhise\\AppData\\Local\\Temp\\ipykernel_7712\\2608815035.py:25: FutureWarning: Pass y=[ 3.0517578e-05  3.0517578e-05  3.0517578e-05 ... -6.1035156e-05\n",
      " -6.1035156e-05 -6.1035156e-05] as keyword args. From version 0.10 passing these as positional arguments will result in an error\n",
      "  mel=np.mean(librosa.feature.melspectrogram(X, sr=sample_rate).T,axis=0)\n"
     ]
    },
    {
     "name": "stdout",
     "output_type": "stream",
     "text": [
      "File name = 03-01-06-01-01-02-13.wav , emotion = fearful\n",
      "File name = 03-01-06-01-02-01-13.wav , emotion = fearful\n",
      "File name = 03-01-06-01-02-02-13.wav , emotion = fearful\n",
      "File name = 03-01-06-02-01-01-13.wav , emotion = fearful\n",
      "File name = 03-01-06-02-01-02-13.wav , emotion = fearful\n",
      "File name = 03-01-06-02-02-01-13.wav , emotion = fearful\n",
      "File name = 03-01-06-02-02-02-13.wav , emotion = fearful\n",
      "File name = 03-01-07-01-01-01-13.wav , emotion = disgust\n",
      "File name = 03-01-07-01-01-02-13.wav , emotion = disgust\n",
      "File name = 03-01-07-01-02-01-13.wav , emotion = disgust\n",
      "File name = 03-01-07-01-02-02-13.wav , emotion = disgust\n",
      "File name = 03-01-07-02-01-01-13.wav , emotion = disgust\n"
     ]
    },
    {
     "name": "stderr",
     "output_type": "stream",
     "text": [
      "C:\\Users\\Pravin Bhise\\AppData\\Local\\Temp\\ipykernel_7712\\2608815035.py:25: FutureWarning: Pass y=[ 3.0517578e-05  3.0517578e-05  6.1035156e-05 ... -3.0517578e-05\n",
      " -3.0517578e-05  0.0000000e+00] as keyword args. From version 0.10 passing these as positional arguments will result in an error\n",
      "  mel=np.mean(librosa.feature.melspectrogram(X, sr=sample_rate).T,axis=0)\n",
      "C:\\Users\\Pravin Bhise\\AppData\\Local\\Temp\\ipykernel_7712\\2608815035.py:25: FutureWarning: Pass y=[3.0517578e-05 3.0517578e-05 0.0000000e+00 ... 0.0000000e+00 0.0000000e+00\n",
      " 0.0000000e+00] as keyword args. From version 0.10 passing these as positional arguments will result in an error\n",
      "  mel=np.mean(librosa.feature.melspectrogram(X, sr=sample_rate).T,axis=0)\n"
     ]
    },
    {
     "name": "stdout",
     "output_type": "stream",
     "text": [
      "File name = 03-01-07-02-01-02-13.wav , emotion = disgust\n",
      "File name = 03-01-07-02-02-01-13.wav , emotion = disgust\n",
      "File name = 03-01-07-02-02-02-13.wav , emotion = disgust\n",
      "File name = 03-01-08-01-01-01-13.wav , emotion = surprised\n",
      "File name = 03-01-08-01-01-02-13.wav , emotion = surprised\n",
      "File name = 03-01-08-01-02-01-13.wav , emotion = surprised\n",
      "File name = 03-01-08-01-02-02-13.wav , emotion = surprised\n",
      "File name = 03-01-08-02-01-01-13.wav , emotion = surprised\n",
      "File name = 03-01-08-02-01-02-13.wav , emotion = surprised\n",
      "File name = 03-01-08-02-02-01-13.wav , emotion = surprised\n",
      "File name = 03-01-08-02-02-02-13.wav , emotion = surprised\n",
      "File name = 03-01-01-01-01-01-14.wav , emotion = neutral\n",
      "File name = 03-01-01-01-01-02-14.wav , emotion = neutral\n",
      "File name = 03-01-01-01-02-01-14.wav , emotion = neutral\n",
      "File name = 03-01-01-01-02-02-14.wav , emotion = neutral\n",
      "File name = 03-01-02-01-01-01-14.wav , emotion = calm\n",
      "File name = 03-01-02-01-01-02-14.wav , emotion = calm\n",
      "File name = 03-01-02-01-02-01-14.wav , emotion = calm\n",
      "File name = 03-01-02-01-02-02-14.wav , emotion = calm\n",
      "File name = 03-01-02-02-01-01-14.wav , emotion = calm\n",
      "File name = 03-01-02-02-01-02-14.wav , emotion = calm\n",
      "File name = 03-01-02-02-02-01-14.wav , emotion = calm\n",
      "File name = 03-01-02-02-02-02-14.wav , emotion = calm\n",
      "File name = 03-01-03-01-01-01-14.wav , emotion = happy\n"
     ]
    },
    {
     "name": "stderr",
     "output_type": "stream",
     "text": [
      "C:\\Users\\Pravin Bhise\\AppData\\Local\\Temp\\ipykernel_7712\\2608815035.py:25: FutureWarning: Pass y=[3.0517578e-05 0.0000000e+00 3.0517578e-05 ... 0.0000000e+00 3.0517578e-05\n",
      " 3.0517578e-05] as keyword args. From version 0.10 passing these as positional arguments will result in an error\n",
      "  mel=np.mean(librosa.feature.melspectrogram(X, sr=sample_rate).T,axis=0)\n"
     ]
    },
    {
     "name": "stdout",
     "output_type": "stream",
     "text": [
      "File name = 03-01-03-01-01-02-14.wav , emotion = happy\n",
      "File name = 03-01-03-01-02-01-14.wav , emotion = happy\n",
      "File name = 03-01-03-01-02-02-14.wav , emotion = happy\n",
      "File name = 03-01-03-02-01-01-14.wav , emotion = happy\n"
     ]
    },
    {
     "name": "stderr",
     "output_type": "stream",
     "text": [
      "C:\\Users\\Pravin Bhise\\AppData\\Local\\Temp\\ipykernel_7712\\2608815035.py:25: FutureWarning: Pass y=[ 0.0000000e+00  0.0000000e+00  0.0000000e+00 ... -6.1035156e-05\n",
      "  0.0000000e+00  0.0000000e+00] as keyword args. From version 0.10 passing these as positional arguments will result in an error\n",
      "  mel=np.mean(librosa.feature.melspectrogram(X, sr=sample_rate).T,axis=0)\n"
     ]
    },
    {
     "name": "stdout",
     "output_type": "stream",
     "text": [
      "File name = 03-01-03-02-01-02-14.wav , emotion = happy\n",
      "File name = 03-01-03-02-02-01-14.wav , emotion = happy\n",
      "File name = 03-01-03-02-02-02-14.wav , emotion = happy\n",
      "File name = 03-01-04-01-01-01-14.wav , emotion = sad\n",
      "File name = 03-01-04-01-01-02-14.wav , emotion = sad\n",
      "File name = 03-01-04-01-02-01-14.wav , emotion = sad\n",
      "File name = 03-01-04-01-02-02-14.wav , emotion = sad\n",
      "File name = 03-01-04-02-01-01-14.wav , emotion = sad\n",
      "File name = 03-01-04-02-01-02-14.wav , emotion = sad\n",
      "File name = 03-01-04-02-02-01-14.wav , emotion = sad\n",
      "File name = 03-01-04-02-02-02-14.wav , emotion = sad\n",
      "File name = 03-01-05-01-01-01-14.wav , emotion = angry\n",
      "File name = 03-01-05-01-01-02-14.wav , emotion = angry\n",
      "File name = 03-01-05-01-02-01-14.wav , emotion = angry\n",
      "File name = 03-01-05-01-02-02-14.wav , emotion = angry\n",
      "File name = 03-01-05-02-01-01-14.wav , emotion = angry\n",
      "File name = 03-01-05-02-01-02-14.wav , emotion = angry\n",
      "File name = 03-01-05-02-02-01-14.wav , emotion = angry\n",
      "File name = 03-01-05-02-02-02-14.wav , emotion = angry\n",
      "File name = 03-01-06-01-01-01-14.wav , emotion = fearful\n",
      "File name = 03-01-06-01-01-02-14.wav , emotion = fearful\n",
      "File name = 03-01-06-01-02-01-14.wav , emotion = fearful\n",
      "File name = 03-01-06-01-02-02-14.wav , emotion = fearful\n",
      "File name = 03-01-06-02-01-01-14.wav , emotion = fearful\n",
      "File name = 03-01-06-02-01-02-14.wav , emotion = fearful\n",
      "File name = 03-01-06-02-02-01-14.wav , emotion = fearful\n",
      "File name = 03-01-06-02-02-02-14.wav , emotion = fearful\n",
      "File name = 03-01-07-01-01-01-14.wav , emotion = disgust\n",
      "File name = 03-01-07-01-01-02-14.wav , emotion = disgust\n",
      "File name = 03-01-07-01-02-01-14.wav , emotion = disgust\n",
      "File name = 03-01-07-01-02-02-14.wav , emotion = disgust\n",
      "File name = 03-01-07-02-01-01-14.wav , emotion = disgust\n",
      "File name = 03-01-07-02-01-02-14.wav , emotion = disgust\n",
      "File name = 03-01-07-02-02-01-14.wav , emotion = disgust\n",
      "File name = 03-01-07-02-02-02-14.wav , emotion = disgust\n",
      "File name = 03-01-08-01-01-01-14.wav , emotion = surprised\n",
      "File name = 03-01-08-01-01-02-14.wav , emotion = surprised\n",
      "File name = 03-01-08-01-02-01-14.wav , emotion = surprised\n",
      "File name = 03-01-08-01-02-02-14.wav , emotion = surprised\n",
      "File name = 03-01-08-02-01-01-14.wav , emotion = surprised\n",
      "File name = 03-01-08-02-01-02-14.wav , emotion = surprised\n",
      "File name = 03-01-08-02-02-01-14.wav , emotion = surprised\n",
      "File name = 03-01-08-02-02-02-14.wav , emotion = surprised\n",
      "File name = 03-01-01-01-01-01-15.wav , emotion = neutral\n",
      "File name = 03-01-01-01-01-02-15.wav , emotion = neutral\n",
      "File name = 03-01-01-01-02-01-15.wav , emotion = neutral\n",
      "File name = 03-01-01-01-02-02-15.wav , emotion = neutral\n",
      "File name = 03-01-02-01-01-01-15.wav , emotion = calm\n"
     ]
    },
    {
     "name": "stderr",
     "output_type": "stream",
     "text": [
      "C:\\Users\\Pravin Bhise\\AppData\\Local\\Temp\\ipykernel_7712\\2608815035.py:25: FutureWarning: Pass y=[-9.1552734e-05 -6.1035156e-05  0.0000000e+00 ... -1.8310547e-04\n",
      " -1.8310547e-04 -2.1362305e-04] as keyword args. From version 0.10 passing these as positional arguments will result in an error\n",
      "  mel=np.mean(librosa.feature.melspectrogram(X, sr=sample_rate).T,axis=0)\n"
     ]
    },
    {
     "name": "stdout",
     "output_type": "stream",
     "text": [
      "File name = 03-01-02-01-01-02-15.wav , emotion = calm\n",
      "File name = 03-01-02-01-02-01-15.wav , emotion = calm\n"
     ]
    },
    {
     "name": "stderr",
     "output_type": "stream",
     "text": [
      "C:\\Users\\Pravin Bhise\\AppData\\Local\\Temp\\ipykernel_7712\\2608815035.py:25: FutureWarning: Pass y=[6.1035156e-05 6.1035156e-05 3.0517578e-05 ... 1.8310547e-04 1.8310547e-04\n",
      " 1.8310547e-04] as keyword args. From version 0.10 passing these as positional arguments will result in an error\n",
      "  mel=np.mean(librosa.feature.melspectrogram(X, sr=sample_rate).T,axis=0)\n",
      "C:\\Users\\Pravin Bhise\\AppData\\Local\\Temp\\ipykernel_7712\\2608815035.py:25: FutureWarning: Pass y=[0.         0.         0.         ... 0.00018311 0.00018311 0.00021362] as keyword args. From version 0.10 passing these as positional arguments will result in an error\n",
      "  mel=np.mean(librosa.feature.melspectrogram(X, sr=sample_rate).T,axis=0)\n"
     ]
    },
    {
     "name": "stdout",
     "output_type": "stream",
     "text": [
      "File name = 03-01-02-01-02-02-15.wav , emotion = calm\n",
      "File name = 03-01-02-02-01-01-15.wav , emotion = calm\n",
      "File name = 03-01-02-02-01-02-15.wav , emotion = calm\n",
      "File name = 03-01-02-02-02-01-15.wav , emotion = calm\n"
     ]
    },
    {
     "name": "stderr",
     "output_type": "stream",
     "text": [
      "C:\\Users\\Pravin Bhise\\AppData\\Local\\Temp\\ipykernel_7712\\2608815035.py:25: FutureWarning: Pass y=[6.1035156e-05 6.1035156e-05 9.1552734e-05 ... 0.0000000e+00 0.0000000e+00\n",
      " 0.0000000e+00] as keyword args. From version 0.10 passing these as positional arguments will result in an error\n",
      "  mel=np.mean(librosa.feature.melspectrogram(X, sr=sample_rate).T,axis=0)\n",
      "C:\\Users\\Pravin Bhise\\AppData\\Local\\Temp\\ipykernel_7712\\2608815035.py:25: FutureWarning: Pass y=[-3.0517578e-05  0.0000000e+00  0.0000000e+00 ...  1.2207031e-04\n",
      "  1.2207031e-04  1.2207031e-04] as keyword args. From version 0.10 passing these as positional arguments will result in an error\n",
      "  mel=np.mean(librosa.feature.melspectrogram(X, sr=sample_rate).T,axis=0)\n"
     ]
    },
    {
     "name": "stdout",
     "output_type": "stream",
     "text": [
      "File name = 03-01-02-02-02-02-15.wav , emotion = calm\n",
      "File name = 03-01-03-01-01-01-15.wav , emotion = happy\n",
      "File name = 03-01-03-01-01-02-15.wav , emotion = happy\n",
      "File name = 03-01-03-01-02-01-15.wav , emotion = happy\n"
     ]
    },
    {
     "name": "stderr",
     "output_type": "stream",
     "text": [
      "C:\\Users\\Pravin Bhise\\AppData\\Local\\Temp\\ipykernel_7712\\2608815035.py:25: FutureWarning: Pass y=[ 0.          0.          0.         ... -0.00210571 -0.00216675\n",
      " -0.0020752 ] as keyword args. From version 0.10 passing these as positional arguments will result in an error\n",
      "  mel=np.mean(librosa.feature.melspectrogram(X, sr=sample_rate).T,axis=0)\n",
      "C:\\Users\\Pravin Bhise\\AppData\\Local\\Temp\\ipykernel_7712\\2608815035.py:25: FutureWarning: Pass y=[-3.0517578e-05 -3.0517578e-05 -3.0517578e-05 ... -6.1035156e-05\n",
      " -6.1035156e-05 -6.1035156e-05] as keyword args. From version 0.10 passing these as positional arguments will result in an error\n",
      "  mel=np.mean(librosa.feature.melspectrogram(X, sr=sample_rate).T,axis=0)\n"
     ]
    },
    {
     "name": "stdout",
     "output_type": "stream",
     "text": [
      "File name = 03-01-03-01-02-02-15.wav , emotion = happy\n",
      "File name = 03-01-03-02-01-01-15.wav , emotion = happy\n"
     ]
    },
    {
     "name": "stderr",
     "output_type": "stream",
     "text": [
      "C:\\Users\\Pravin Bhise\\AppData\\Local\\Temp\\ipykernel_7712\\2608815035.py:25: FutureWarning: Pass y=[-3.0517578e-05 -6.1035156e-05 -3.0517578e-05 ...  0.0000000e+00\n",
      "  0.0000000e+00  0.0000000e+00] as keyword args. From version 0.10 passing these as positional arguments will result in an error\n",
      "  mel=np.mean(librosa.feature.melspectrogram(X, sr=sample_rate).T,axis=0)\n"
     ]
    },
    {
     "name": "stdout",
     "output_type": "stream",
     "text": [
      "File name = 03-01-03-02-01-02-15.wav , emotion = happy\n",
      "File name = 03-01-03-02-02-01-15.wav , emotion = happy\n"
     ]
    },
    {
     "name": "stderr",
     "output_type": "stream",
     "text": [
      "C:\\Users\\Pravin Bhise\\AppData\\Local\\Temp\\ipykernel_7712\\2608815035.py:25: FutureWarning: Pass y=[-3.0517578e-05  0.0000000e+00 -3.0517578e-05 ...  0.0000000e+00\n",
      "  0.0000000e+00  3.0517578e-05] as keyword args. From version 0.10 passing these as positional arguments will result in an error\n",
      "  mel=np.mean(librosa.feature.melspectrogram(X, sr=sample_rate).T,axis=0)\n",
      "C:\\Users\\Pravin Bhise\\AppData\\Local\\Temp\\ipykernel_7712\\2608815035.py:25: FutureWarning: Pass y=[6.1035156e-05 0.0000000e+00 3.0517578e-05 ... 1.5258789e-04 1.5258789e-04\n",
      " 1.8310547e-04] as keyword args. From version 0.10 passing these as positional arguments will result in an error\n",
      "  mel=np.mean(librosa.feature.melspectrogram(X, sr=sample_rate).T,axis=0)\n"
     ]
    },
    {
     "name": "stdout",
     "output_type": "stream",
     "text": [
      "File name = 03-01-03-02-02-02-15.wav , emotion = happy\n",
      "File name = 03-01-04-01-01-01-15.wav , emotion = sad\n",
      "File name = 03-01-04-01-01-02-15.wav , emotion = sad\n",
      "File name = 03-01-04-01-02-01-15.wav , emotion = sad\n",
      "File name = 03-01-04-01-02-02-15.wav , emotion = sad\n",
      "File name = 03-01-04-02-01-01-15.wav , emotion = sad\n",
      "File name = 03-01-04-02-01-02-15.wav , emotion = sad\n",
      "File name = 03-01-04-02-02-01-15.wav , emotion = sad\n",
      "File name = 03-01-04-02-02-02-15.wav , emotion = sad\n",
      "File name = 03-01-05-01-01-01-15.wav , emotion = angry\n",
      "File name = 03-01-05-01-01-02-15.wav , emotion = angry\n",
      "File name = 03-01-05-01-02-01-15.wav , emotion = angry\n",
      "File name = 03-01-05-01-02-02-15.wav , emotion = angry\n",
      "File name = 03-01-05-02-01-01-15.wav , emotion = angry\n",
      "File name = 03-01-05-02-01-02-15.wav , emotion = angry\n",
      "File name = 03-01-05-02-02-01-15.wav , emotion = angry\n",
      "File name = 03-01-05-02-02-02-15.wav , emotion = angry\n",
      "File name = 03-01-06-01-01-01-15.wav , emotion = fearful\n"
     ]
    },
    {
     "name": "stderr",
     "output_type": "stream",
     "text": [
      "C:\\Users\\Pravin Bhise\\AppData\\Local\\Temp\\ipykernel_7712\\2608815035.py:25: FutureWarning: Pass y=[-3.0517578e-05 -3.0517578e-05  0.0000000e+00 ... -9.1552734e-05\n",
      " -9.1552734e-05 -9.1552734e-05] as keyword args. From version 0.10 passing these as positional arguments will result in an error\n",
      "  mel=np.mean(librosa.feature.melspectrogram(X, sr=sample_rate).T,axis=0)\n",
      "C:\\Users\\Pravin Bhise\\AppData\\Local\\Temp\\ipykernel_7712\\2608815035.py:25: FutureWarning: Pass y=[3.0517578e-05 3.0517578e-05 3.0517578e-05 ... 3.0517578e-05 3.0517578e-05\n",
      " 0.0000000e+00] as keyword args. From version 0.10 passing these as positional arguments will result in an error\n",
      "  mel=np.mean(librosa.feature.melspectrogram(X, sr=sample_rate).T,axis=0)\n"
     ]
    },
    {
     "name": "stdout",
     "output_type": "stream",
     "text": [
      "File name = 03-01-06-01-01-02-15.wav , emotion = fearful\n",
      "File name = 03-01-06-01-02-01-15.wav , emotion = fearful\n",
      "File name = 03-01-06-01-02-02-15.wav , emotion = fearful\n",
      "File name = 03-01-06-02-01-01-15.wav , emotion = fearful\n"
     ]
    },
    {
     "name": "stderr",
     "output_type": "stream",
     "text": [
      "C:\\Users\\Pravin Bhise\\AppData\\Local\\Temp\\ipykernel_7712\\2608815035.py:25: FutureWarning: Pass y=[0.00082397 0.00082397 0.00073242 ... 0.         0.         0.        ] as keyword args. From version 0.10 passing these as positional arguments will result in an error\n",
      "  mel=np.mean(librosa.feature.melspectrogram(X, sr=sample_rate).T,axis=0)\n",
      "C:\\Users\\Pravin Bhise\\AppData\\Local\\Temp\\ipykernel_7712\\2608815035.py:25: FutureWarning: Pass y=[2.1362305e-04 2.1362305e-04 2.1362305e-04 ... 3.0517578e-05 3.0517578e-05\n",
      " 3.0517578e-05] as keyword args. From version 0.10 passing these as positional arguments will result in an error\n",
      "  mel=np.mean(librosa.feature.melspectrogram(X, sr=sample_rate).T,axis=0)\n"
     ]
    },
    {
     "name": "stdout",
     "output_type": "stream",
     "text": [
      "File name = 03-01-06-02-01-02-15.wav , emotion = fearful\n",
      "File name = 03-01-06-02-02-01-15.wav , emotion = fearful\n"
     ]
    },
    {
     "name": "stderr",
     "output_type": "stream",
     "text": [
      "C:\\Users\\Pravin Bhise\\AppData\\Local\\Temp\\ipykernel_7712\\2608815035.py:25: FutureWarning: Pass y=[0.00039673 0.00042725 0.00039673 ... 0.         0.         0.        ] as keyword args. From version 0.10 passing these as positional arguments will result in an error\n",
      "  mel=np.mean(librosa.feature.melspectrogram(X, sr=sample_rate).T,axis=0)\n",
      "C:\\Users\\Pravin Bhise\\AppData\\Local\\Temp\\ipykernel_7712\\2608815035.py:25: FutureWarning: Pass y=[0.         0.         0.         ... 0.00012207 0.00015259 0.00015259] as keyword args. From version 0.10 passing these as positional arguments will result in an error\n",
      "  mel=np.mean(librosa.feature.melspectrogram(X, sr=sample_rate).T,axis=0)\n"
     ]
    },
    {
     "name": "stdout",
     "output_type": "stream",
     "text": [
      "File name = 03-01-06-02-02-02-15.wav , emotion = fearful\n",
      "File name = 03-01-07-01-01-01-15.wav , emotion = disgust\n"
     ]
    },
    {
     "name": "stderr",
     "output_type": "stream",
     "text": [
      "C:\\Users\\Pravin Bhise\\AppData\\Local\\Temp\\ipykernel_7712\\2608815035.py:25: FutureWarning: Pass y=[0.00021362 0.00021362 0.00021362 ... 0.00030518 0.00033569 0.00033569] as keyword args. From version 0.10 passing these as positional arguments will result in an error\n",
      "  mel=np.mean(librosa.feature.melspectrogram(X, sr=sample_rate).T,axis=0)\n",
      "C:\\Users\\Pravin Bhise\\AppData\\Local\\Temp\\ipykernel_7712\\2608815035.py:25: FutureWarning: Pass y=[0.0005188  0.00054932 0.00036621 ... 0.         0.         0.        ] as keyword args. From version 0.10 passing these as positional arguments will result in an error\n",
      "  mel=np.mean(librosa.feature.melspectrogram(X, sr=sample_rate).T,axis=0)\n"
     ]
    },
    {
     "name": "stdout",
     "output_type": "stream",
     "text": [
      "File name = 03-01-07-01-01-02-15.wav , emotion = disgust\n",
      "File name = 03-01-07-01-02-01-15.wav , emotion = disgust\n"
     ]
    },
    {
     "name": "stderr",
     "output_type": "stream",
     "text": [
      "C:\\Users\\Pravin Bhise\\AppData\\Local\\Temp\\ipykernel_7712\\2608815035.py:25: FutureWarning: Pass y=[0.0000000e+00 0.0000000e+00 0.0000000e+00 ... 1.2207031e-04 1.5258789e-04\n",
      " 9.1552734e-05] as keyword args. From version 0.10 passing these as positional arguments will result in an error\n",
      "  mel=np.mean(librosa.feature.melspectrogram(X, sr=sample_rate).T,axis=0)\n",
      "C:\\Users\\Pravin Bhise\\AppData\\Local\\Temp\\ipykernel_7712\\2608815035.py:25: FutureWarning: Pass y=[1.8310547e-04 2.1362305e-04 2.1362305e-04 ... 6.1035156e-05 6.1035156e-05\n",
      " 9.1552734e-05] as keyword args. From version 0.10 passing these as positional arguments will result in an error\n",
      "  mel=np.mean(librosa.feature.melspectrogram(X, sr=sample_rate).T,axis=0)\n"
     ]
    },
    {
     "name": "stdout",
     "output_type": "stream",
     "text": [
      "File name = 03-01-07-01-02-02-15.wav , emotion = disgust\n",
      "File name = 03-01-07-02-01-01-15.wav , emotion = disgust\n"
     ]
    },
    {
     "name": "stderr",
     "output_type": "stream",
     "text": [
      "C:\\Users\\Pravin Bhise\\AppData\\Local\\Temp\\ipykernel_7712\\2608815035.py:25: FutureWarning: Pass y=[-1.2207031e-04 -1.2207031e-04 -1.2207031e-04 ...  6.1035156e-05\n",
      "  6.1035156e-05  6.1035156e-05] as keyword args. From version 0.10 passing these as positional arguments will result in an error\n",
      "  mel=np.mean(librosa.feature.melspectrogram(X, sr=sample_rate).T,axis=0)\n",
      "C:\\Users\\Pravin Bhise\\AppData\\Local\\Temp\\ipykernel_7712\\2608815035.py:25: FutureWarning: Pass y=[3.0517578e-05 3.0517578e-05 3.0517578e-05 ... 3.0517578e-05 3.0517578e-05\n",
      " 6.1035156e-05] as keyword args. From version 0.10 passing these as positional arguments will result in an error\n",
      "  mel=np.mean(librosa.feature.melspectrogram(X, sr=sample_rate).T,axis=0)\n"
     ]
    },
    {
     "name": "stdout",
     "output_type": "stream",
     "text": [
      "File name = 03-01-07-02-01-02-15.wav , emotion = disgust\n",
      "File name = 03-01-07-02-02-01-15.wav , emotion = disgust\n"
     ]
    },
    {
     "name": "stderr",
     "output_type": "stream",
     "text": [
      "C:\\Users\\Pravin Bhise\\AppData\\Local\\Temp\\ipykernel_7712\\2608815035.py:25: FutureWarning: Pass y=[1.3122559e-03 1.3122559e-03 1.2817383e-03 ... 9.1552734e-05 9.1552734e-05\n",
      " 6.1035156e-05] as keyword args. From version 0.10 passing these as positional arguments will result in an error\n",
      "  mel=np.mean(librosa.feature.melspectrogram(X, sr=sample_rate).T,axis=0)\n",
      "C:\\Users\\Pravin Bhise\\AppData\\Local\\Temp\\ipykernel_7712\\2608815035.py:25: FutureWarning: Pass y=[-6.1035156e-05 -9.1552734e-05 -9.1552734e-05 ...  1.2817383e-03\n",
      "  1.2512207e-03  1.2207031e-03] as keyword args. From version 0.10 passing these as positional arguments will result in an error\n",
      "  mel=np.mean(librosa.feature.melspectrogram(X, sr=sample_rate).T,axis=0)\n"
     ]
    },
    {
     "name": "stdout",
     "output_type": "stream",
     "text": [
      "File name = 03-01-07-02-02-02-15.wav , emotion = disgust\n",
      "File name = 03-01-08-01-01-01-15.wav , emotion = surprised\n",
      "File name = 03-01-08-01-01-02-15.wav , emotion = surprised\n",
      "File name = 03-01-08-01-02-01-15.wav , emotion = surprised\n",
      "File name = 03-01-08-01-02-02-15.wav , emotion = surprised\n",
      "File name = 03-01-08-02-01-01-15.wav , emotion = surprised\n",
      "File name = 03-01-08-02-01-02-15.wav , emotion = surprised\n",
      "File name = 03-01-08-02-02-01-15.wav , emotion = surprised\n",
      "File name = 03-01-08-02-02-02-15.wav , emotion = surprised\n",
      "File name = 03-01-01-01-01-01-16.wav , emotion = neutral\n",
      "File name = 03-01-01-01-01-02-16.wav , emotion = neutral\n",
      "File name = 03-01-01-01-02-01-16.wav , emotion = neutral\n",
      "File name = 03-01-01-01-02-02-16.wav , emotion = neutral\n",
      "File name = 03-01-02-01-01-01-16.wav , emotion = calm\n"
     ]
    },
    {
     "name": "stderr",
     "output_type": "stream",
     "text": [
      "C:\\Users\\Pravin Bhise\\AppData\\Local\\Temp\\ipykernel_7712\\2608815035.py:25: FutureWarning: Pass y=[ 0.00015259  0.00015259  0.00015259 ... -0.00024414 -0.00027466\n",
      " -0.00024414] as keyword args. From version 0.10 passing these as positional arguments will result in an error\n",
      "  mel=np.mean(librosa.feature.melspectrogram(X, sr=sample_rate).T,axis=0)\n"
     ]
    },
    {
     "name": "stdout",
     "output_type": "stream",
     "text": [
      "File name = 03-01-02-01-01-02-16.wav , emotion = calm\n",
      "File name = 03-01-02-01-02-01-16.wav , emotion = calm\n",
      "File name = 03-01-02-01-02-02-16.wav , emotion = calm\n",
      "File name = 03-01-02-02-01-01-16.wav , emotion = calm\n",
      "File name = 03-01-02-02-01-02-16.wav , emotion = calm\n",
      "File name = 03-01-02-02-02-01-16.wav , emotion = calm\n",
      "File name = 03-01-02-02-02-02-16.wav , emotion = calm\n",
      "File name = 03-01-03-01-01-01-16.wav , emotion = happy\n",
      "File name = 03-01-03-01-01-02-16.wav , emotion = happy\n",
      "File name = 03-01-03-01-02-01-16.wav , emotion = happy\n",
      "File name = 03-01-03-01-02-02-16.wav , emotion = happy\n",
      "File name = 03-01-03-02-01-01-16.wav , emotion = happy\n",
      "File name = 03-01-03-02-01-02-16.wav , emotion = happy\n",
      "File name = 03-01-03-02-02-01-16.wav , emotion = happy\n"
     ]
    },
    {
     "name": "stderr",
     "output_type": "stream",
     "text": [
      "C:\\Users\\Pravin Bhise\\AppData\\Local\\Temp\\ipykernel_7712\\2608815035.py:25: FutureWarning: Pass y=[ 0.0000000e+00  0.0000000e+00  0.0000000e+00 ...  0.0000000e+00\n",
      " -6.1035156e-05  0.0000000e+00] as keyword args. From version 0.10 passing these as positional arguments will result in an error\n",
      "  mel=np.mean(librosa.feature.melspectrogram(X, sr=sample_rate).T,axis=0)\n"
     ]
    },
    {
     "name": "stdout",
     "output_type": "stream",
     "text": [
      "File name = 03-01-03-02-02-02-16.wav , emotion = happy\n",
      "File name = 03-01-04-01-01-01-16.wav , emotion = sad\n",
      "File name = 03-01-04-01-01-02-16.wav , emotion = sad\n",
      "File name = 03-01-04-01-02-01-16.wav , emotion = sad\n",
      "File name = 03-01-04-01-02-02-16.wav , emotion = sad\n",
      "File name = 03-01-04-02-01-01-16.wav , emotion = sad\n",
      "File name = 03-01-04-02-01-02-16.wav , emotion = sad\n",
      "File name = 03-01-04-02-02-01-16.wav , emotion = sad\n",
      "File name = 03-01-04-02-02-02-16.wav , emotion = sad\n",
      "File name = 03-01-05-01-01-01-16.wav , emotion = angry\n",
      "File name = 03-01-05-01-01-02-16.wav , emotion = angry\n",
      "File name = 03-01-05-01-02-01-16.wav , emotion = angry\n",
      "File name = 03-01-05-01-02-02-16.wav , emotion = angry\n",
      "File name = 03-01-05-02-01-01-16.wav , emotion = angry\n",
      "File name = 03-01-05-02-01-02-16.wav , emotion = angry\n",
      "File name = 03-01-05-02-02-01-16.wav , emotion = angry\n",
      "File name = 03-01-05-02-02-02-16.wav , emotion = angry\n",
      "File name = 03-01-06-01-01-01-16.wav , emotion = fearful\n"
     ]
    },
    {
     "name": "stderr",
     "output_type": "stream",
     "text": [
      "C:\\Users\\Pravin Bhise\\AppData\\Local\\Temp\\ipykernel_7712\\2608815035.py:25: FutureWarning: Pass y=[ 0.0000000e+00  0.0000000e+00 -3.0517578e-05 ...  0.0000000e+00\n",
      "  0.0000000e+00  3.0517578e-05] as keyword args. From version 0.10 passing these as positional arguments will result in an error\n",
      "  mel=np.mean(librosa.feature.melspectrogram(X, sr=sample_rate).T,axis=0)\n"
     ]
    },
    {
     "name": "stdout",
     "output_type": "stream",
     "text": [
      "File name = 03-01-06-01-01-02-16.wav , emotion = fearful\n",
      "File name = 03-01-06-01-02-01-16.wav , emotion = fearful\n"
     ]
    },
    {
     "name": "stderr",
     "output_type": "stream",
     "text": [
      "C:\\Users\\Pravin Bhise\\AppData\\Local\\Temp\\ipykernel_7712\\2608815035.py:25: FutureWarning: Pass y=[ 0.0000000e+00  0.0000000e+00  0.0000000e+00 ... -9.1552734e-05\n",
      " -6.1035156e-05  9.1552734e-05] as keyword args. From version 0.10 passing these as positional arguments will result in an error\n",
      "  mel=np.mean(librosa.feature.melspectrogram(X, sr=sample_rate).T,axis=0)\n"
     ]
    },
    {
     "name": "stdout",
     "output_type": "stream",
     "text": [
      "File name = 03-01-06-01-02-02-16.wav , emotion = fearful\n",
      "File name = 03-01-06-02-01-01-16.wav , emotion = fearful\n",
      "File name = 03-01-06-02-01-02-16.wav , emotion = fearful\n",
      "File name = 03-01-06-02-02-01-16.wav , emotion = fearful\n"
     ]
    },
    {
     "name": "stderr",
     "output_type": "stream",
     "text": [
      "C:\\Users\\Pravin Bhise\\AppData\\Local\\Temp\\ipykernel_7712\\2608815035.py:25: FutureWarning: Pass y=[ 3.0517578e-05  0.0000000e+00  0.0000000e+00 ...  0.0000000e+00\n",
      " -3.0517578e-05 -3.0517578e-05] as keyword args. From version 0.10 passing these as positional arguments will result in an error\n",
      "  mel=np.mean(librosa.feature.melspectrogram(X, sr=sample_rate).T,axis=0)\n"
     ]
    },
    {
     "name": "stdout",
     "output_type": "stream",
     "text": [
      "File name = 03-01-06-02-02-02-16.wav , emotion = fearful\n",
      "File name = 03-01-07-01-01-01-16.wav , emotion = disgust\n",
      "File name = 03-01-07-01-01-02-16.wav , emotion = disgust\n",
      "File name = 03-01-07-01-02-01-16.wav , emotion = disgust\n",
      "File name = 03-01-07-01-02-02-16.wav , emotion = disgust\n",
      "File name = 03-01-07-02-01-01-16.wav , emotion = disgust\n"
     ]
    },
    {
     "name": "stderr",
     "output_type": "stream",
     "text": [
      "C:\\Users\\Pravin Bhise\\AppData\\Local\\Temp\\ipykernel_7712\\2608815035.py:25: FutureWarning: Pass y=[0.0000000e+00 0.0000000e+00 0.0000000e+00 ... 3.0517578e-05 6.1035156e-05\n",
      " 3.0517578e-05] as keyword args. From version 0.10 passing these as positional arguments will result in an error\n",
      "  mel=np.mean(librosa.feature.melspectrogram(X, sr=sample_rate).T,axis=0)\n"
     ]
    },
    {
     "name": "stdout",
     "output_type": "stream",
     "text": [
      "File name = 03-01-07-02-01-02-16.wav , emotion = disgust\n",
      "File name = 03-01-07-02-02-01-16.wav , emotion = disgust\n"
     ]
    },
    {
     "name": "stderr",
     "output_type": "stream",
     "text": [
      "C:\\Users\\Pravin Bhise\\AppData\\Local\\Temp\\ipykernel_7712\\2608815035.py:25: FutureWarning: Pass y=[ 0.          0.          0.         ... -0.00039673 -0.00042725\n",
      " -0.00057983] as keyword args. From version 0.10 passing these as positional arguments will result in an error\n",
      "  mel=np.mean(librosa.feature.melspectrogram(X, sr=sample_rate).T,axis=0)\n"
     ]
    },
    {
     "name": "stdout",
     "output_type": "stream",
     "text": [
      "File name = 03-01-07-02-02-02-16.wav , emotion = disgust\n",
      "File name = 03-01-08-01-01-01-16.wav , emotion = surprised\n",
      "File name = 03-01-08-01-01-02-16.wav , emotion = surprised\n",
      "File name = 03-01-08-01-02-01-16.wav , emotion = surprised\n",
      "File name = 03-01-08-01-02-02-16.wav , emotion = surprised\n",
      "File name = 03-01-08-02-01-01-16.wav , emotion = surprised\n",
      "File name = 03-01-08-02-01-02-16.wav , emotion = surprised\n",
      "File name = 03-01-08-02-02-01-16.wav , emotion = surprised\n",
      "File name = 03-01-08-02-02-02-16.wav , emotion = surprised\n",
      "File name = 03-01-01-01-01-01-17.wav , emotion = neutral\n",
      "File name = 03-01-01-01-01-02-17.wav , emotion = neutral\n",
      "File name = 03-01-01-01-02-01-17.wav , emotion = neutral\n",
      "File name = 03-01-01-01-02-02-17.wav , emotion = neutral\n",
      "File name = 03-01-02-01-01-01-17.wav , emotion = calm\n"
     ]
    },
    {
     "name": "stderr",
     "output_type": "stream",
     "text": [
      "C:\\Users\\Pravin Bhise\\AppData\\Local\\Temp\\ipykernel_7712\\2608815035.py:25: FutureWarning: Pass y=[ 0.0000000e+00  3.0517578e-05  0.0000000e+00 ... -9.1552734e-05\n",
      " -6.1035156e-05 -9.1552734e-05] as keyword args. From version 0.10 passing these as positional arguments will result in an error\n",
      "  mel=np.mean(librosa.feature.melspectrogram(X, sr=sample_rate).T,axis=0)\n"
     ]
    },
    {
     "name": "stdout",
     "output_type": "stream",
     "text": [
      "File name = 03-01-02-01-01-02-17.wav , emotion = calm\n",
      "File name = 03-01-02-01-02-01-17.wav , emotion = calm\n"
     ]
    },
    {
     "name": "stderr",
     "output_type": "stream",
     "text": [
      "C:\\Users\\Pravin Bhise\\AppData\\Local\\Temp\\ipykernel_7712\\2608815035.py:25: FutureWarning: Pass y=[ 9.1552734e-05  6.1035156e-05  9.1552734e-05 ... -3.0517578e-04\n",
      " -3.0517578e-04 -3.0517578e-04] as keyword args. From version 0.10 passing these as positional arguments will result in an error\n",
      "  mel=np.mean(librosa.feature.melspectrogram(X, sr=sample_rate).T,axis=0)\n",
      "C:\\Users\\Pravin Bhise\\AppData\\Local\\Temp\\ipykernel_7712\\2608815035.py:25: FutureWarning: Pass y=[6.1035156e-05 3.0517578e-05 1.2207031e-04 ... 0.0000000e+00 0.0000000e+00\n",
      " 0.0000000e+00] as keyword args. From version 0.10 passing these as positional arguments will result in an error\n",
      "  mel=np.mean(librosa.feature.melspectrogram(X, sr=sample_rate).T,axis=0)\n"
     ]
    },
    {
     "name": "stdout",
     "output_type": "stream",
     "text": [
      "File name = 03-01-02-01-02-02-17.wav , emotion = calm\n",
      "File name = 03-01-02-02-01-01-17.wav , emotion = calm\n",
      "File name = 03-01-02-02-01-02-17.wav , emotion = calm\n",
      "File name = 03-01-02-02-02-01-17.wav , emotion = calm\n"
     ]
    },
    {
     "name": "stderr",
     "output_type": "stream",
     "text": [
      "C:\\Users\\Pravin Bhise\\AppData\\Local\\Temp\\ipykernel_7712\\2608815035.py:25: FutureWarning: Pass y=[6.1035156e-05 3.0517578e-05 6.1035156e-05 ... 0.0000000e+00 0.0000000e+00\n",
      " 0.0000000e+00] as keyword args. From version 0.10 passing these as positional arguments will result in an error\n",
      "  mel=np.mean(librosa.feature.melspectrogram(X, sr=sample_rate).T,axis=0)\n"
     ]
    },
    {
     "name": "stdout",
     "output_type": "stream",
     "text": [
      "File name = 03-01-02-02-02-02-17.wav , emotion = calm\n",
      "File name = 03-01-03-01-01-01-17.wav , emotion = happy\n"
     ]
    },
    {
     "name": "stderr",
     "output_type": "stream",
     "text": [
      "C:\\Users\\Pravin Bhise\\AppData\\Local\\Temp\\ipykernel_7712\\2608815035.py:25: FutureWarning: Pass y=[ 6.1035156e-05  6.1035156e-05  6.1035156e-05 ... -9.1552734e-05\n",
      " -9.1552734e-05 -6.1035156e-05] as keyword args. From version 0.10 passing these as positional arguments will result in an error\n",
      "  mel=np.mean(librosa.feature.melspectrogram(X, sr=sample_rate).T,axis=0)\n",
      "C:\\Users\\Pravin Bhise\\AppData\\Local\\Temp\\ipykernel_7712\\2608815035.py:25: FutureWarning: Pass y=[-2.1362305e-04 -9.1552734e-05  0.0000000e+00 ... -1.2207031e-04\n",
      " -1.5258789e-04 -1.2207031e-04] as keyword args. From version 0.10 passing these as positional arguments will result in an error\n",
      "  mel=np.mean(librosa.feature.melspectrogram(X, sr=sample_rate).T,axis=0)\n"
     ]
    },
    {
     "name": "stdout",
     "output_type": "stream",
     "text": [
      "File name = 03-01-03-01-01-02-17.wav , emotion = happy\n",
      "File name = 03-01-03-01-02-01-17.wav , emotion = happy\n",
      "File name = 03-01-03-01-02-02-17.wav , emotion = happy\n",
      "File name = 03-01-03-02-01-01-17.wav , emotion = happy\n"
     ]
    },
    {
     "name": "stderr",
     "output_type": "stream",
     "text": [
      "C:\\Users\\Pravin Bhise\\AppData\\Local\\Temp\\ipykernel_7712\\2608815035.py:25: FutureWarning: Pass y=[1.8310547e-04 1.5258789e-04 3.0517578e-05 ... 9.1552734e-05 9.1552734e-05\n",
      " 9.1552734e-05] as keyword args. From version 0.10 passing these as positional arguments will result in an error\n",
      "  mel=np.mean(librosa.feature.melspectrogram(X, sr=sample_rate).T,axis=0)\n",
      "C:\\Users\\Pravin Bhise\\AppData\\Local\\Temp\\ipykernel_7712\\2608815035.py:25: FutureWarning: Pass y=[ 1.2207031e-04  1.2207031e-04  1.5258789e-04 ... -2.4414062e-04\n",
      " -9.1552734e-05  0.0000000e+00] as keyword args. From version 0.10 passing these as positional arguments will result in an error\n",
      "  mel=np.mean(librosa.feature.melspectrogram(X, sr=sample_rate).T,axis=0)\n"
     ]
    },
    {
     "name": "stdout",
     "output_type": "stream",
     "text": [
      "File name = 03-01-03-02-01-02-17.wav , emotion = happy\n",
      "File name = 03-01-03-02-02-01-17.wav , emotion = happy\n"
     ]
    },
    {
     "name": "stderr",
     "output_type": "stream",
     "text": [
      "C:\\Users\\Pravin Bhise\\AppData\\Local\\Temp\\ipykernel_7712\\2608815035.py:25: FutureWarning: Pass y=[-3.3569336e-04 -9.1552734e-05  3.9672852e-04 ...  1.5258789e-04\n",
      "  1.2207031e-04  1.2207031e-04] as keyword args. From version 0.10 passing these as positional arguments will result in an error\n",
      "  mel=np.mean(librosa.feature.melspectrogram(X, sr=sample_rate).T,axis=0)\n",
      "C:\\Users\\Pravin Bhise\\AppData\\Local\\Temp\\ipykernel_7712\\2608815035.py:25: FutureWarning: Pass y=[9.1552734e-05 9.1552734e-05 6.1035156e-05 ... 0.0000000e+00 0.0000000e+00\n",
      " 0.0000000e+00] as keyword args. From version 0.10 passing these as positional arguments will result in an error\n",
      "  mel=np.mean(librosa.feature.melspectrogram(X, sr=sample_rate).T,axis=0)\n"
     ]
    },
    {
     "name": "stdout",
     "output_type": "stream",
     "text": [
      "File name = 03-01-03-02-02-02-17.wav , emotion = happy\n",
      "File name = 03-01-04-01-01-01-17.wav , emotion = sad\n",
      "File name = 03-01-04-01-01-02-17.wav , emotion = sad\n",
      "File name = 03-01-04-01-02-01-17.wav , emotion = sad\n",
      "File name = 03-01-04-01-02-02-17.wav , emotion = sad\n",
      "File name = 03-01-04-02-01-01-17.wav , emotion = sad\n",
      "File name = 03-01-04-02-01-02-17.wav , emotion = sad\n",
      "File name = 03-01-04-02-02-01-17.wav , emotion = sad\n",
      "File name = 03-01-04-02-02-02-17.wav , emotion = sad\n",
      "File name = 03-01-05-01-01-01-17.wav , emotion = angry\n",
      "File name = 03-01-05-01-01-02-17.wav , emotion = angry\n",
      "File name = 03-01-05-01-02-01-17.wav , emotion = angry\n",
      "File name = 03-01-05-01-02-02-17.wav , emotion = angry\n",
      "File name = 03-01-05-02-01-01-17.wav , emotion = angry\n",
      "File name = 03-01-05-02-01-02-17.wav , emotion = angry\n",
      "File name = 03-01-05-02-02-01-17.wav , emotion = angry\n",
      "File name = 03-01-05-02-02-02-17.wav , emotion = angry\n",
      "File name = 03-01-06-01-01-01-17.wav , emotion = fearful\n"
     ]
    },
    {
     "name": "stderr",
     "output_type": "stream",
     "text": [
      "C:\\Users\\Pravin Bhise\\AppData\\Local\\Temp\\ipykernel_7712\\2608815035.py:25: FutureWarning: Pass y=[ 1.8310547e-04  1.8310547e-04  6.1035156e-05 ... -3.0517578e-05\n",
      "  0.0000000e+00 -3.0517578e-05] as keyword args. From version 0.10 passing these as positional arguments will result in an error\n",
      "  mel=np.mean(librosa.feature.melspectrogram(X, sr=sample_rate).T,axis=0)\n",
      "C:\\Users\\Pravin Bhise\\AppData\\Local\\Temp\\ipykernel_7712\\2608815035.py:25: FutureWarning: Pass y=[0.00027466 0.00027466 0.00027466 ... 0.00018311 0.00018311 0.00012207] as keyword args. From version 0.10 passing these as positional arguments will result in an error\n",
      "  mel=np.mean(librosa.feature.melspectrogram(X, sr=sample_rate).T,axis=0)\n"
     ]
    },
    {
     "name": "stdout",
     "output_type": "stream",
     "text": [
      "File name = 03-01-06-01-01-02-17.wav , emotion = fearful\n",
      "File name = 03-01-06-01-02-01-17.wav , emotion = fearful\n"
     ]
    },
    {
     "name": "stderr",
     "output_type": "stream",
     "text": [
      "C:\\Users\\Pravin Bhise\\AppData\\Local\\Temp\\ipykernel_7712\\2608815035.py:25: FutureWarning: Pass y=[-9.1552734e-05 -9.1552734e-05 -1.5258789e-04 ...  1.2207031e-04\n",
      "  9.1552734e-05  1.2207031e-04] as keyword args. From version 0.10 passing these as positional arguments will result in an error\n",
      "  mel=np.mean(librosa.feature.melspectrogram(X, sr=sample_rate).T,axis=0)\n",
      "C:\\Users\\Pravin Bhise\\AppData\\Local\\Temp\\ipykernel_7712\\2608815035.py:25: FutureWarning: Pass y=[ 0.00085449  0.00064087 -0.00012207 ... -0.00021362 -0.00024414\n",
      " -0.00024414] as keyword args. From version 0.10 passing these as positional arguments will result in an error\n",
      "  mel=np.mean(librosa.feature.melspectrogram(X, sr=sample_rate).T,axis=0)\n"
     ]
    },
    {
     "name": "stdout",
     "output_type": "stream",
     "text": [
      "File name = 03-01-06-01-02-02-17.wav , emotion = fearful\n",
      "File name = 03-01-06-02-01-01-17.wav , emotion = fearful\n"
     ]
    },
    {
     "name": "stderr",
     "output_type": "stream",
     "text": [
      "C:\\Users\\Pravin Bhise\\AppData\\Local\\Temp\\ipykernel_7712\\2608815035.py:25: FutureWarning: Pass y=[6.1035156e-05 3.0517578e-05 6.1035156e-05 ... 9.1552734e-05 1.2207031e-04\n",
      " 9.1552734e-05] as keyword args. From version 0.10 passing these as positional arguments will result in an error\n",
      "  mel=np.mean(librosa.feature.melspectrogram(X, sr=sample_rate).T,axis=0)\n",
      "C:\\Users\\Pravin Bhise\\AppData\\Local\\Temp\\ipykernel_7712\\2608815035.py:25: FutureWarning: Pass y=[-1.5258789e-04 -1.2207031e-04 -9.1552734e-05 ... -3.3569336e-04\n",
      " -3.6621094e-04 -3.3569336e-04] as keyword args. From version 0.10 passing these as positional arguments will result in an error\n",
      "  mel=np.mean(librosa.feature.melspectrogram(X, sr=sample_rate).T,axis=0)\n"
     ]
    },
    {
     "name": "stdout",
     "output_type": "stream",
     "text": [
      "File name = 03-01-06-02-01-02-17.wav , emotion = fearful\n",
      "File name = 03-01-06-02-02-01-17.wav , emotion = fearful\n"
     ]
    },
    {
     "name": "stderr",
     "output_type": "stream",
     "text": [
      "C:\\Users\\Pravin Bhise\\AppData\\Local\\Temp\\ipykernel_7712\\2608815035.py:25: FutureWarning: Pass y=[6.1035156e-05 9.1552734e-05 6.1035156e-05 ... 0.0000000e+00 0.0000000e+00\n",
      " 0.0000000e+00] as keyword args. From version 0.10 passing these as positional arguments will result in an error\n",
      "  mel=np.mean(librosa.feature.melspectrogram(X, sr=sample_rate).T,axis=0)\n",
      "C:\\Users\\Pravin Bhise\\AppData\\Local\\Temp\\ipykernel_7712\\2608815035.py:25: FutureWarning: Pass y=[-0.00033569 -0.00021362  0.         ...  0.00021362  0.00021362\n",
      "  0.00021362] as keyword args. From version 0.10 passing these as positional arguments will result in an error\n",
      "  mel=np.mean(librosa.feature.melspectrogram(X, sr=sample_rate).T,axis=0)\n"
     ]
    },
    {
     "name": "stdout",
     "output_type": "stream",
     "text": [
      "File name = 03-01-06-02-02-02-17.wav , emotion = fearful\n",
      "File name = 03-01-07-01-01-01-17.wav , emotion = disgust\n"
     ]
    },
    {
     "name": "stderr",
     "output_type": "stream",
     "text": [
      "C:\\Users\\Pravin Bhise\\AppData\\Local\\Temp\\ipykernel_7712\\2608815035.py:25: FutureWarning: Pass y=[0.         0.         0.         ... 0.00027466 0.00024414 0.00024414] as keyword args. From version 0.10 passing these as positional arguments will result in an error\n",
      "  mel=np.mean(librosa.feature.melspectrogram(X, sr=sample_rate).T,axis=0)\n",
      "C:\\Users\\Pravin Bhise\\AppData\\Local\\Temp\\ipykernel_7712\\2608815035.py:25: FutureWarning: Pass y=[-6.1035156e-05 -6.1035156e-05 -6.1035156e-05 ...  3.0517578e-05\n",
      "  3.0517578e-05  3.0517578e-05] as keyword args. From version 0.10 passing these as positional arguments will result in an error\n",
      "  mel=np.mean(librosa.feature.melspectrogram(X, sr=sample_rate).T,axis=0)\n"
     ]
    },
    {
     "name": "stdout",
     "output_type": "stream",
     "text": [
      "File name = 03-01-07-01-01-02-17.wav , emotion = disgust\n",
      "File name = 03-01-07-01-02-01-17.wav , emotion = disgust\n"
     ]
    },
    {
     "name": "stderr",
     "output_type": "stream",
     "text": [
      "C:\\Users\\Pravin Bhise\\AppData\\Local\\Temp\\ipykernel_7712\\2608815035.py:25: FutureWarning: Pass y=[-1.8310547e-04 -1.2207031e-04 -3.0517578e-05 ... -1.5258789e-04\n",
      " -2.1362305e-04 -1.8310547e-04] as keyword args. From version 0.10 passing these as positional arguments will result in an error\n",
      "  mel=np.mean(librosa.feature.melspectrogram(X, sr=sample_rate).T,axis=0)\n"
     ]
    },
    {
     "name": "stdout",
     "output_type": "stream",
     "text": [
      "File name = 03-01-07-01-02-02-17.wav , emotion = disgust\n",
      "File name = 03-01-07-02-01-01-17.wav , emotion = disgust\n",
      "File name = 03-01-07-02-01-02-17.wav , emotion = disgust\n",
      "File name = 03-01-07-02-02-01-17.wav , emotion = disgust\n"
     ]
    },
    {
     "name": "stderr",
     "output_type": "stream",
     "text": [
      "C:\\Users\\Pravin Bhise\\AppData\\Local\\Temp\\ipykernel_7712\\2608815035.py:25: FutureWarning: Pass y=[2.7465820e-04 3.0517578e-04 3.0517578e-04 ... 3.0517578e-05 0.0000000e+00\n",
      " 0.0000000e+00] as keyword args. From version 0.10 passing these as positional arguments will result in an error\n",
      "  mel=np.mean(librosa.feature.melspectrogram(X, sr=sample_rate).T,axis=0)\n",
      "C:\\Users\\Pravin Bhise\\AppData\\Local\\Temp\\ipykernel_7712\\2608815035.py:25: FutureWarning: Pass y=[ 0.00030518 -0.00015259 -0.00039673 ...  0.          0.\n",
      "  0.        ] as keyword args. From version 0.10 passing these as positional arguments will result in an error\n",
      "  mel=np.mean(librosa.feature.melspectrogram(X, sr=sample_rate).T,axis=0)\n"
     ]
    },
    {
     "name": "stdout",
     "output_type": "stream",
     "text": [
      "File name = 03-01-07-02-02-02-17.wav , emotion = disgust\n",
      "File name = 03-01-08-01-01-01-17.wav , emotion = surprised\n",
      "File name = 03-01-08-01-01-02-17.wav , emotion = surprised\n",
      "File name = 03-01-08-01-02-01-17.wav , emotion = surprised\n",
      "File name = 03-01-08-01-02-02-17.wav , emotion = surprised\n",
      "File name = 03-01-08-02-01-01-17.wav , emotion = surprised\n",
      "File name = 03-01-08-02-01-02-17.wav , emotion = surprised\n",
      "File name = 03-01-08-02-02-01-17.wav , emotion = surprised\n",
      "File name = 03-01-08-02-02-02-17.wav , emotion = surprised\n",
      "File name = 03-01-01-01-01-01-18.wav , emotion = neutral\n",
      "File name = 03-01-01-01-01-02-18.wav , emotion = neutral\n",
      "File name = 03-01-01-01-02-01-18.wav , emotion = neutral\n",
      "File name = 03-01-01-01-02-02-18.wav , emotion = neutral\n",
      "File name = 03-01-02-01-01-01-18.wav , emotion = calm\n"
     ]
    },
    {
     "name": "stderr",
     "output_type": "stream",
     "text": [
      "C:\\Users\\Pravin Bhise\\AppData\\Local\\Temp\\ipykernel_7712\\2608815035.py:25: FutureWarning: Pass y=[ 9.1552734e-05 -3.0517578e-05 -6.1035156e-05 ...  0.0000000e+00\n",
      "  0.0000000e+00  0.0000000e+00] as keyword args. From version 0.10 passing these as positional arguments will result in an error\n",
      "  mel=np.mean(librosa.feature.melspectrogram(X, sr=sample_rate).T,axis=0)\n"
     ]
    },
    {
     "name": "stdout",
     "output_type": "stream",
     "text": [
      "File name = 03-01-02-01-01-02-18.wav , emotion = calm\n",
      "File name = 03-01-02-01-02-01-18.wav , emotion = calm\n",
      "File name = 03-01-02-01-02-02-18.wav , emotion = calm\n",
      "File name = 03-01-02-02-01-01-18.wav , emotion = calm\n",
      "File name = 03-01-02-02-01-02-18.wav , emotion = calm\n",
      "File name = 03-01-02-02-02-01-18.wav , emotion = calm\n",
      "File name = 03-01-02-02-02-02-18.wav , emotion = calm\n",
      "File name = 03-01-03-01-01-01-18.wav , emotion = happy\n",
      "File name = 03-01-03-01-01-02-18.wav , emotion = happy\n",
      "File name = 03-01-03-01-02-01-18.wav , emotion = happy\n",
      "File name = 03-01-03-01-02-02-18.wav , emotion = happy\n",
      "File name = 03-01-03-02-01-01-18.wav , emotion = happy\n",
      "File name = 03-01-03-02-01-02-18.wav , emotion = happy\n",
      "File name = 03-01-03-02-02-01-18.wav , emotion = happy\n",
      "File name = 03-01-03-02-02-02-18.wav , emotion = happy\n",
      "File name = 03-01-04-01-01-01-18.wav , emotion = sad\n",
      "File name = 03-01-04-01-01-02-18.wav , emotion = sad\n",
      "File name = 03-01-04-01-02-01-18.wav , emotion = sad\n",
      "File name = 03-01-04-01-02-02-18.wav , emotion = sad\n",
      "File name = 03-01-04-02-01-01-18.wav , emotion = sad\n",
      "File name = 03-01-04-02-01-02-18.wav , emotion = sad\n",
      "File name = 03-01-04-02-02-01-18.wav , emotion = sad\n",
      "File name = 03-01-04-02-02-02-18.wav , emotion = sad\n",
      "File name = 03-01-05-01-01-01-18.wav , emotion = angry\n",
      "File name = 03-01-05-01-01-02-18.wav , emotion = angry\n",
      "File name = 03-01-05-01-02-01-18.wav , emotion = angry\n",
      "File name = 03-01-05-01-02-02-18.wav , emotion = angry\n",
      "File name = 03-01-05-02-01-01-18.wav , emotion = angry\n",
      "File name = 03-01-05-02-01-02-18.wav , emotion = angry\n",
      "File name = 03-01-05-02-02-01-18.wav , emotion = angry\n",
      "File name = 03-01-05-02-02-02-18.wav , emotion = angry\n",
      "File name = 03-01-06-01-01-01-18.wav , emotion = fearful\n",
      "File name = 03-01-06-01-01-02-18.wav , emotion = fearful\n",
      "File name = 03-01-06-01-02-01-18.wav , emotion = fearful\n",
      "File name = 03-01-06-01-02-02-18.wav , emotion = fearful\n",
      "File name = 03-01-06-02-01-01-18.wav , emotion = fearful\n",
      "File name = 03-01-06-02-01-02-18.wav , emotion = fearful\n",
      "File name = 03-01-06-02-02-01-18.wav , emotion = fearful\n",
      "File name = 03-01-06-02-02-02-18.wav , emotion = fearful\n",
      "File name = 03-01-07-01-01-01-18.wav , emotion = disgust\n"
     ]
    },
    {
     "name": "stderr",
     "output_type": "stream",
     "text": [
      "C:\\Users\\Pravin Bhise\\AppData\\Local\\Temp\\ipykernel_7712\\2608815035.py:25: FutureWarning: Pass y=[0.00033569 0.00015259 0.00021362 ... 0.         0.         0.        ] as keyword args. From version 0.10 passing these as positional arguments will result in an error\n",
      "  mel=np.mean(librosa.feature.melspectrogram(X, sr=sample_rate).T,axis=0)\n"
     ]
    },
    {
     "name": "stdout",
     "output_type": "stream",
     "text": [
      "File name = 03-01-07-01-01-02-18.wav , emotion = disgust\n",
      "File name = 03-01-07-01-02-01-18.wav , emotion = disgust\n",
      "File name = 03-01-07-01-02-02-18.wav , emotion = disgust\n",
      "File name = 03-01-07-02-01-01-18.wav , emotion = disgust\n",
      "File name = 03-01-07-02-01-02-18.wav , emotion = disgust\n",
      "File name = 03-01-07-02-02-01-18.wav , emotion = disgust\n",
      "File name = 03-01-07-02-02-02-18.wav , emotion = disgust\n",
      "File name = 03-01-08-01-01-01-18.wav , emotion = surprised\n",
      "File name = 03-01-08-01-01-02-18.wav , emotion = surprised\n",
      "File name = 03-01-08-01-02-01-18.wav , emotion = surprised\n",
      "File name = 03-01-08-01-02-02-18.wav , emotion = surprised\n",
      "File name = 03-01-08-02-01-01-18.wav , emotion = surprised\n",
      "File name = 03-01-08-02-01-02-18.wav , emotion = surprised\n",
      "File name = 03-01-08-02-02-01-18.wav , emotion = surprised\n",
      "File name = 03-01-08-02-02-02-18.wav , emotion = surprised\n",
      "File name = 03-01-01-01-01-01-19.wav , emotion = neutral\n",
      "File name = 03-01-01-01-01-02-19.wav , emotion = neutral\n",
      "File name = 03-01-01-01-02-01-19.wav , emotion = neutral\n",
      "File name = 03-01-01-01-02-02-19.wav , emotion = neutral\n",
      "File name = 03-01-02-01-01-01-19.wav , emotion = calm\n"
     ]
    },
    {
     "name": "stderr",
     "output_type": "stream",
     "text": [
      "C:\\Users\\Pravin Bhise\\AppData\\Local\\Temp\\ipykernel_7712\\2608815035.py:25: FutureWarning: Pass y=[ 1.2207031e-04  9.1552734e-05  9.1552734e-05 ...  0.0000000e+00\n",
      "  0.0000000e+00 -3.0517578e-05] as keyword args. From version 0.10 passing these as positional arguments will result in an error\n",
      "  mel=np.mean(librosa.feature.melspectrogram(X, sr=sample_rate).T,axis=0)\n"
     ]
    },
    {
     "name": "stdout",
     "output_type": "stream",
     "text": [
      "File name = 03-01-02-01-01-02-19.wav , emotion = calm\n",
      "File name = 03-01-02-01-02-01-19.wav , emotion = calm\n"
     ]
    },
    {
     "name": "stderr",
     "output_type": "stream",
     "text": [
      "C:\\Users\\Pravin Bhise\\AppData\\Local\\Temp\\ipykernel_7712\\2608815035.py:25: FutureWarning: Pass y=[ 0.          0.          0.         ... -0.00015259 -0.00015259\n",
      " -0.00012207] as keyword args. From version 0.10 passing these as positional arguments will result in an error\n",
      "  mel=np.mean(librosa.feature.melspectrogram(X, sr=sample_rate).T,axis=0)\n"
     ]
    },
    {
     "name": "stdout",
     "output_type": "stream",
     "text": [
      "File name = 03-01-02-01-02-02-19.wav , emotion = calm\n",
      "File name = 03-01-02-02-01-01-19.wav , emotion = calm\n"
     ]
    },
    {
     "name": "stderr",
     "output_type": "stream",
     "text": [
      "C:\\Users\\Pravin Bhise\\AppData\\Local\\Temp\\ipykernel_7712\\2608815035.py:25: FutureWarning: Pass y=[ 0.          0.          0.         ... -0.00024414 -0.00024414\n",
      " -0.00021362] as keyword args. From version 0.10 passing these as positional arguments will result in an error\n",
      "  mel=np.mean(librosa.feature.melspectrogram(X, sr=sample_rate).T,axis=0)\n",
      "C:\\Users\\Pravin Bhise\\AppData\\Local\\Temp\\ipykernel_7712\\2608815035.py:25: FutureWarning: Pass y=[ 0.0000000e+00  0.0000000e+00 -3.0517578e-05 ...  3.0517578e-05\n",
      "  3.0517578e-05  3.0517578e-05] as keyword args. From version 0.10 passing these as positional arguments will result in an error\n",
      "  mel=np.mean(librosa.feature.melspectrogram(X, sr=sample_rate).T,axis=0)\n"
     ]
    },
    {
     "name": "stdout",
     "output_type": "stream",
     "text": [
      "File name = 03-01-02-02-01-02-19.wav , emotion = calm\n",
      "File name = 03-01-02-02-02-01-19.wav , emotion = calm\n"
     ]
    },
    {
     "name": "stderr",
     "output_type": "stream",
     "text": [
      "C:\\Users\\Pravin Bhise\\AppData\\Local\\Temp\\ipykernel_7712\\2608815035.py:25: FutureWarning: Pass y=[ 0.0000000e+00  0.0000000e+00  0.0000000e+00 ... -9.1552734e-05\n",
      " -1.2207031e-04 -9.1552734e-05] as keyword args. From version 0.10 passing these as positional arguments will result in an error\n",
      "  mel=np.mean(librosa.feature.melspectrogram(X, sr=sample_rate).T,axis=0)\n",
      "C:\\Users\\Pravin Bhise\\AppData\\Local\\Temp\\ipykernel_7712\\2608815035.py:25: FutureWarning: Pass y=[-6.1035156e-05 -3.0517578e-05 -6.1035156e-05 ... -2.4414062e-04\n",
      " -2.4414062e-04 -2.4414062e-04] as keyword args. From version 0.10 passing these as positional arguments will result in an error\n",
      "  mel=np.mean(librosa.feature.melspectrogram(X, sr=sample_rate).T,axis=0)\n"
     ]
    },
    {
     "name": "stdout",
     "output_type": "stream",
     "text": [
      "File name = 03-01-02-02-02-02-19.wav , emotion = calm\n",
      "File name = 03-01-03-01-01-01-19.wav , emotion = happy\n"
     ]
    },
    {
     "name": "stderr",
     "output_type": "stream",
     "text": [
      "C:\\Users\\Pravin Bhise\\AppData\\Local\\Temp\\ipykernel_7712\\2608815035.py:25: FutureWarning: Pass y=[0.         0.         0.         ... 0.00308228 0.00311279 0.00308228] as keyword args. From version 0.10 passing these as positional arguments will result in an error\n",
      "  mel=np.mean(librosa.feature.melspectrogram(X, sr=sample_rate).T,axis=0)\n"
     ]
    },
    {
     "name": "stdout",
     "output_type": "stream",
     "text": [
      "File name = 03-01-03-01-01-02-19.wav , emotion = happy\n",
      "File name = 03-01-03-01-02-01-19.wav , emotion = happy\n"
     ]
    },
    {
     "name": "stderr",
     "output_type": "stream",
     "text": [
      "C:\\Users\\Pravin Bhise\\AppData\\Local\\Temp\\ipykernel_7712\\2608815035.py:25: FutureWarning: Pass y=[3.0517578e-05 6.1035156e-05 0.0000000e+00 ... 9.1552734e-05 6.1035156e-05\n",
      " 6.1035156e-05] as keyword args. From version 0.10 passing these as positional arguments will result in an error\n",
      "  mel=np.mean(librosa.feature.melspectrogram(X, sr=sample_rate).T,axis=0)\n",
      "C:\\Users\\Pravin Bhise\\AppData\\Local\\Temp\\ipykernel_7712\\2608815035.py:25: FutureWarning: Pass y=[-1.2207031e-04 -1.2207031e-04 -1.2207031e-04 ...  9.1552734e-05\n",
      "  9.1552734e-05  1.2207031e-04] as keyword args. From version 0.10 passing these as positional arguments will result in an error\n",
      "  mel=np.mean(librosa.feature.melspectrogram(X, sr=sample_rate).T,axis=0)\n"
     ]
    },
    {
     "name": "stdout",
     "output_type": "stream",
     "text": [
      "File name = 03-01-03-01-02-02-19.wav , emotion = happy\n",
      "File name = 03-01-03-02-01-01-19.wav , emotion = happy\n"
     ]
    },
    {
     "name": "stderr",
     "output_type": "stream",
     "text": [
      "C:\\Users\\Pravin Bhise\\AppData\\Local\\Temp\\ipykernel_7712\\2608815035.py:25: FutureWarning: Pass y=[-3.0517578e-05 -3.0517578e-05 -3.0517578e-05 ...  0.0000000e+00\n",
      "  0.0000000e+00  0.0000000e+00] as keyword args. From version 0.10 passing these as positional arguments will result in an error\n",
      "  mel=np.mean(librosa.feature.melspectrogram(X, sr=sample_rate).T,axis=0)\n",
      "C:\\Users\\Pravin Bhise\\AppData\\Local\\Temp\\ipykernel_7712\\2608815035.py:25: FutureWarning: Pass y=[ 0.00036621  0.00045776  0.00048828 ... -0.00021362 -0.00021362\n",
      " -0.00021362] as keyword args. From version 0.10 passing these as positional arguments will result in an error\n",
      "  mel=np.mean(librosa.feature.melspectrogram(X, sr=sample_rate).T,axis=0)\n"
     ]
    },
    {
     "name": "stdout",
     "output_type": "stream",
     "text": [
      "File name = 03-01-03-02-01-02-19.wav , emotion = happy\n",
      "File name = 03-01-03-02-02-01-19.wav , emotion = happy\n"
     ]
    },
    {
     "name": "stderr",
     "output_type": "stream",
     "text": [
      "C:\\Users\\Pravin Bhise\\AppData\\Local\\Temp\\ipykernel_7712\\2608815035.py:25: FutureWarning: Pass y=[ 0.00067139  0.00076294  0.00106812 ...  0.00344849 -0.00195312\n",
      " -0.00204468] as keyword args. From version 0.10 passing these as positional arguments will result in an error\n",
      "  mel=np.mean(librosa.feature.melspectrogram(X, sr=sample_rate).T,axis=0)\n",
      "C:\\Users\\Pravin Bhise\\AppData\\Local\\Temp\\ipykernel_7712\\2608815035.py:25: FutureWarning: Pass y=[-1.2207031e-04 -1.2207031e-04 -1.2207031e-04 ...  3.0517578e-05\n",
      "  3.0517578e-05  6.1035156e-05] as keyword args. From version 0.10 passing these as positional arguments will result in an error\n",
      "  mel=np.mean(librosa.feature.melspectrogram(X, sr=sample_rate).T,axis=0)\n"
     ]
    },
    {
     "name": "stdout",
     "output_type": "stream",
     "text": [
      "File name = 03-01-03-02-02-02-19.wav , emotion = happy\n",
      "File name = 03-01-04-01-01-01-19.wav , emotion = sad\n",
      "File name = 03-01-04-01-01-02-19.wav , emotion = sad\n",
      "File name = 03-01-04-01-02-01-19.wav , emotion = sad\n",
      "File name = 03-01-04-01-02-02-19.wav , emotion = sad\n",
      "File name = 03-01-04-02-01-01-19.wav , emotion = sad\n",
      "File name = 03-01-04-02-01-02-19.wav , emotion = sad\n",
      "File name = 03-01-04-02-02-01-19.wav , emotion = sad\n",
      "File name = 03-01-04-02-02-02-19.wav , emotion = sad\n",
      "File name = 03-01-05-01-01-01-19.wav , emotion = angry\n",
      "File name = 03-01-05-01-01-02-19.wav , emotion = angry\n",
      "File name = 03-01-05-01-02-01-19.wav , emotion = angry\n",
      "File name = 03-01-05-01-02-02-19.wav , emotion = angry\n",
      "File name = 03-01-05-02-01-01-19.wav , emotion = angry\n",
      "File name = 03-01-05-02-01-02-19.wav , emotion = angry\n",
      "File name = 03-01-05-02-02-01-19.wav , emotion = angry\n",
      "File name = 03-01-05-02-02-02-19.wav , emotion = angry\n",
      "File name = 03-01-06-01-01-01-19.wav , emotion = fearful\n",
      "File name = 03-01-06-01-01-02-19.wav , emotion = fearful\n",
      "File name = 03-01-06-01-02-01-19.wav , emotion = fearful\n"
     ]
    },
    {
     "name": "stderr",
     "output_type": "stream",
     "text": [
      "C:\\Users\\Pravin Bhise\\AppData\\Local\\Temp\\ipykernel_7712\\2608815035.py:25: FutureWarning: Pass y=[ 0.0000000e+00  0.0000000e+00 -3.0517578e-05 ... -1.8310547e-04\n",
      " -1.8310547e-04 -1.8310547e-04] as keyword args. From version 0.10 passing these as positional arguments will result in an error\n",
      "  mel=np.mean(librosa.feature.melspectrogram(X, sr=sample_rate).T,axis=0)\n",
      "C:\\Users\\Pravin Bhise\\AppData\\Local\\Temp\\ipykernel_7712\\2608815035.py:25: FutureWarning: Pass y=[-9.1552734e-05 -9.1552734e-05 -6.1035156e-05 ... -6.7138672e-04\n",
      " -7.6293945e-04 -7.3242188e-04] as keyword args. From version 0.10 passing these as positional arguments will result in an error\n",
      "  mel=np.mean(librosa.feature.melspectrogram(X, sr=sample_rate).T,axis=0)\n"
     ]
    },
    {
     "name": "stdout",
     "output_type": "stream",
     "text": [
      "File name = 03-01-06-01-02-02-19.wav , emotion = fearful\n",
      "File name = 03-01-06-02-01-01-19.wav , emotion = fearful\n"
     ]
    },
    {
     "name": "stderr",
     "output_type": "stream",
     "text": [
      "C:\\Users\\Pravin Bhise\\AppData\\Local\\Temp\\ipykernel_7712\\2608815035.py:25: FutureWarning: Pass y=[0.         0.         0.         ... 0.00018311 0.00024414 0.00024414] as keyword args. From version 0.10 passing these as positional arguments will result in an error\n",
      "  mel=np.mean(librosa.feature.melspectrogram(X, sr=sample_rate).T,axis=0)\n",
      "C:\\Users\\Pravin Bhise\\AppData\\Local\\Temp\\ipykernel_7712\\2608815035.py:25: FutureWarning: Pass y=[-3.0517578e-05  0.0000000e+00 -3.0517578e-05 ...  2.4414062e-04\n",
      "  2.1362305e-04  1.8310547e-04] as keyword args. From version 0.10 passing these as positional arguments will result in an error\n",
      "  mel=np.mean(librosa.feature.melspectrogram(X, sr=sample_rate).T,axis=0)\n"
     ]
    },
    {
     "name": "stdout",
     "output_type": "stream",
     "text": [
      "File name = 03-01-06-02-01-02-19.wav , emotion = fearful\n",
      "File name = 03-01-06-02-02-01-19.wav , emotion = fearful\n"
     ]
    },
    {
     "name": "stderr",
     "output_type": "stream",
     "text": [
      "C:\\Users\\Pravin Bhise\\AppData\\Local\\Temp\\ipykernel_7712\\2608815035.py:25: FutureWarning: Pass y=[3.0517578e-05 3.0517578e-05 3.0517578e-05 ... 9.1552734e-05 1.2207031e-04\n",
      " 9.1552734e-05] as keyword args. From version 0.10 passing these as positional arguments will result in an error\n",
      "  mel=np.mean(librosa.feature.melspectrogram(X, sr=sample_rate).T,axis=0)\n",
      "C:\\Users\\Pravin Bhise\\AppData\\Local\\Temp\\ipykernel_7712\\2608815035.py:25: FutureWarning: Pass y=[ 3.0517578e-05  0.0000000e+00  0.0000000e+00 ... -6.1035156e-05\n",
      " -6.1035156e-05 -9.1552734e-05] as keyword args. From version 0.10 passing these as positional arguments will result in an error\n",
      "  mel=np.mean(librosa.feature.melspectrogram(X, sr=sample_rate).T,axis=0)\n"
     ]
    },
    {
     "name": "stdout",
     "output_type": "stream",
     "text": [
      "File name = 03-01-06-02-02-02-19.wav , emotion = fearful\n",
      "File name = 03-01-07-01-01-01-19.wav , emotion = disgust\n"
     ]
    },
    {
     "name": "stderr",
     "output_type": "stream",
     "text": [
      "C:\\Users\\Pravin Bhise\\AppData\\Local\\Temp\\ipykernel_7712\\2608815035.py:25: FutureWarning: Pass y=[-0.00082397 -0.00079346 -0.0007019  ... -0.00094604 -0.00061035\n",
      " -0.00076294] as keyword args. From version 0.10 passing these as positional arguments will result in an error\n",
      "  mel=np.mean(librosa.feature.melspectrogram(X, sr=sample_rate).T,axis=0)\n",
      "C:\\Users\\Pravin Bhise\\AppData\\Local\\Temp\\ipykernel_7712\\2608815035.py:25: FutureWarning: Pass y=[0.         0.         0.         ... 0.00018311 0.00015259 0.00018311] as keyword args. From version 0.10 passing these as positional arguments will result in an error\n",
      "  mel=np.mean(librosa.feature.melspectrogram(X, sr=sample_rate).T,axis=0)\n"
     ]
    },
    {
     "name": "stdout",
     "output_type": "stream",
     "text": [
      "File name = 03-01-07-01-01-02-19.wav , emotion = disgust\n"
     ]
    },
    {
     "name": "stderr",
     "output_type": "stream",
     "text": [
      "C:\\Users\\Pravin Bhise\\AppData\\Local\\Temp\\ipykernel_7712\\2608815035.py:25: FutureWarning: Pass y=[ 9.1552734e-05  9.1552734e-05  9.1552734e-05 ... -9.1552734e-05\n",
      " -9.1552734e-05 -9.1552734e-05] as keyword args. From version 0.10 passing these as positional arguments will result in an error\n",
      "  mel=np.mean(librosa.feature.melspectrogram(X, sr=sample_rate).T,axis=0)\n",
      "C:\\Users\\Pravin Bhise\\AppData\\Local\\Temp\\ipykernel_7712\\2608815035.py:25: FutureWarning: Pass y=[0.00012207 0.00012207 0.00012207 ... 0.         0.         0.        ] as keyword args. From version 0.10 passing these as positional arguments will result in an error\n",
      "  mel=np.mean(librosa.feature.melspectrogram(X, sr=sample_rate).T,axis=0)\n"
     ]
    },
    {
     "name": "stdout",
     "output_type": "stream",
     "text": [
      "File name = 03-01-07-01-02-01-19.wav , emotion = disgust\n",
      "File name = 03-01-07-01-02-02-19.wav , emotion = disgust\n",
      "File name = 03-01-07-02-01-01-19.wav , emotion = disgust\n",
      "File name = 03-01-07-02-01-02-19.wav , emotion = disgust\n"
     ]
    },
    {
     "name": "stderr",
     "output_type": "stream",
     "text": [
      "C:\\Users\\Pravin Bhise\\AppData\\Local\\Temp\\ipykernel_7712\\2608815035.py:25: FutureWarning: Pass y=[ 0.0000000e+00 -3.0517578e-05  9.1552734e-05 ...  1.0070801e-03\n",
      "  1.1901855e-03  1.8310547e-04] as keyword args. From version 0.10 passing these as positional arguments will result in an error\n",
      "  mel=np.mean(librosa.feature.melspectrogram(X, sr=sample_rate).T,axis=0)\n",
      "C:\\Users\\Pravin Bhise\\AppData\\Local\\Temp\\ipykernel_7712\\2608815035.py:25: FutureWarning: Pass y=[-3.0517578e-05 -3.0517578e-05 -3.0517578e-05 ... -8.5449219e-04\n",
      " -8.5449219e-04 -8.5449219e-04] as keyword args. From version 0.10 passing these as positional arguments will result in an error\n",
      "  mel=np.mean(librosa.feature.melspectrogram(X, sr=sample_rate).T,axis=0)\n"
     ]
    },
    {
     "name": "stdout",
     "output_type": "stream",
     "text": [
      "File name = 03-01-07-02-02-01-19.wav , emotion = disgust\n",
      "File name = 03-01-07-02-02-02-19.wav , emotion = disgust\n",
      "File name = 03-01-08-01-01-01-19.wav , emotion = surprised\n",
      "File name = 03-01-08-01-01-02-19.wav , emotion = surprised\n",
      "File name = 03-01-08-01-02-01-19.wav , emotion = surprised\n",
      "File name = 03-01-08-01-02-02-19.wav , emotion = surprised\n",
      "File name = 03-01-08-02-01-01-19.wav , emotion = surprised\n",
      "File name = 03-01-08-02-01-02-19.wav , emotion = surprised\n",
      "File name = 03-01-08-02-02-01-19.wav , emotion = surprised\n",
      "File name = 03-01-08-02-02-02-19.wav , emotion = surprised\n",
      "File name = 03-01-01-01-01-01-20.wav , emotion = neutral\n",
      "File name = 03-01-01-01-01-02-20.wav , emotion = neutral\n",
      "File name = 03-01-01-01-02-01-20.wav , emotion = neutral\n",
      "File name = 03-01-01-01-02-02-20.wav , emotion = neutral\n",
      "File name = 03-01-02-01-01-01-20.wav , emotion = calm\n"
     ]
    },
    {
     "name": "stderr",
     "output_type": "stream",
     "text": [
      "C:\\Users\\Pravin Bhise\\AppData\\Local\\Temp\\ipykernel_7712\\2608815035.py:25: FutureWarning: Pass y=[0.0000000e+00 3.0517578e-05 9.1552734e-05 ... 1.2207031e-04 1.5258789e-04\n",
      " 1.8310547e-04] as keyword args. From version 0.10 passing these as positional arguments will result in an error\n",
      "  mel=np.mean(librosa.feature.melspectrogram(X, sr=sample_rate).T,axis=0)\n"
     ]
    },
    {
     "name": "stdout",
     "output_type": "stream",
     "text": [
      "File name = 03-01-02-01-01-02-20.wav , emotion = calm\n",
      "File name = 03-01-02-01-02-01-20.wav , emotion = calm\n",
      "File name = 03-01-02-01-02-02-20.wav , emotion = calm\n",
      "File name = 03-01-02-02-01-01-20.wav , emotion = calm\n",
      "File name = 03-01-02-02-01-02-20.wav , emotion = calm\n",
      "File name = 03-01-02-02-02-01-20.wav , emotion = calm\n",
      "File name = 03-01-02-02-02-02-20.wav , emotion = calm\n",
      "File name = 03-01-03-01-01-01-20.wav , emotion = happy\n",
      "File name = 03-01-03-01-01-02-20.wav , emotion = happy\n",
      "File name = 03-01-03-01-02-01-20.wav , emotion = happy\n",
      "File name = 03-01-03-01-02-02-20.wav , emotion = happy\n",
      "File name = 03-01-03-02-01-01-20.wav , emotion = happy\n",
      "File name = 03-01-03-02-01-02-20.wav , emotion = happy\n",
      "File name = 03-01-03-02-02-01-20.wav , emotion = happy\n"
     ]
    },
    {
     "name": "stderr",
     "output_type": "stream",
     "text": [
      "C:\\Users\\Pravin Bhise\\AppData\\Local\\Temp\\ipykernel_7712\\2608815035.py:25: FutureWarning: Pass y=[ 0.0000000e+00  0.0000000e+00  0.0000000e+00 ...  0.0000000e+00\n",
      "  3.0517578e-05 -6.1035156e-05] as keyword args. From version 0.10 passing these as positional arguments will result in an error\n",
      "  mel=np.mean(librosa.feature.melspectrogram(X, sr=sample_rate).T,axis=0)\n"
     ]
    },
    {
     "name": "stdout",
     "output_type": "stream",
     "text": [
      "File name = 03-01-03-02-02-02-20.wav , emotion = happy\n",
      "File name = 03-01-04-01-01-01-20.wav , emotion = sad\n",
      "File name = 03-01-04-01-01-02-20.wav , emotion = sad\n",
      "File name = 03-01-04-01-02-01-20.wav , emotion = sad\n",
      "File name = 03-01-04-01-02-02-20.wav , emotion = sad\n",
      "File name = 03-01-04-02-01-01-20.wav , emotion = sad\n",
      "File name = 03-01-04-02-01-02-20.wav , emotion = sad\n",
      "File name = 03-01-04-02-02-01-20.wav , emotion = sad\n",
      "File name = 03-01-04-02-02-02-20.wav , emotion = sad\n",
      "File name = 03-01-05-01-01-01-20.wav , emotion = angry\n",
      "File name = 03-01-05-01-01-02-20.wav , emotion = angry\n",
      "File name = 03-01-05-01-02-01-20.wav , emotion = angry\n",
      "File name = 03-01-05-01-02-02-20.wav , emotion = angry\n",
      "File name = 03-01-05-02-01-01-20.wav , emotion = angry\n",
      "File name = 03-01-05-02-01-02-20.wav , emotion = angry\n",
      "File name = 03-01-05-02-02-01-20.wav , emotion = angry\n",
      "File name = 03-01-05-02-02-02-20.wav , emotion = angry\n",
      "File name = 03-01-06-01-01-01-20.wav , emotion = fearful\n",
      "File name = 03-01-06-01-01-02-20.wav , emotion = fearful\n",
      "File name = 03-01-06-01-02-01-20.wav , emotion = fearful\n",
      "File name = 03-01-06-01-02-02-20.wav , emotion = fearful\n",
      "File name = 03-01-06-02-01-01-20.wav , emotion = fearful\n"
     ]
    },
    {
     "name": "stderr",
     "output_type": "stream",
     "text": [
      "C:\\Users\\Pravin Bhise\\AppData\\Local\\Temp\\ipykernel_7712\\2608815035.py:25: FutureWarning: Pass y=[-0.00091553 -0.00115967  0.0012207  ... -0.00064087  0.00033569\n",
      " -0.00048828] as keyword args. From version 0.10 passing these as positional arguments will result in an error\n",
      "  mel=np.mean(librosa.feature.melspectrogram(X, sr=sample_rate).T,axis=0)\n",
      "C:\\Users\\Pravin Bhise\\AppData\\Local\\Temp\\ipykernel_7712\\2608815035.py:25: FutureWarning: Pass y=[-0.00177002 -0.00064087  0.00164795 ...  0.00042725  0.00170898\n",
      "  0.00057983] as keyword args. From version 0.10 passing these as positional arguments will result in an error\n",
      "  mel=np.mean(librosa.feature.melspectrogram(X, sr=sample_rate).T,axis=0)\n"
     ]
    },
    {
     "name": "stdout",
     "output_type": "stream",
     "text": [
      "File name = 03-01-06-02-01-02-20.wav , emotion = fearful\n",
      "File name = 03-01-06-02-02-01-20.wav , emotion = fearful\n"
     ]
    },
    {
     "name": "stderr",
     "output_type": "stream",
     "text": [
      "C:\\Users\\Pravin Bhise\\AppData\\Local\\Temp\\ipykernel_7712\\2608815035.py:25: FutureWarning: Pass y=[0.0000000e+00 6.1035156e-05 3.0517578e-05 ... 0.0000000e+00 0.0000000e+00\n",
      " 0.0000000e+00] as keyword args. From version 0.10 passing these as positional arguments will result in an error\n",
      "  mel=np.mean(librosa.feature.melspectrogram(X, sr=sample_rate).T,axis=0)\n",
      "C:\\Users\\Pravin Bhise\\AppData\\Local\\Temp\\ipykernel_7712\\2608815035.py:25: FutureWarning: Pass y=[ 5.4931641e-04  1.1901855e-03  5.4931641e-04 ...  3.0517578e-05\n",
      " -1.4343262e-03 -8.5449219e-04] as keyword args. From version 0.10 passing these as positional arguments will result in an error\n",
      "  mel=np.mean(librosa.feature.melspectrogram(X, sr=sample_rate).T,axis=0)\n"
     ]
    },
    {
     "name": "stdout",
     "output_type": "stream",
     "text": [
      "File name = 03-01-06-02-02-02-20.wav , emotion = fearful\n",
      "File name = 03-01-07-01-01-01-20.wav , emotion = disgust\n",
      "File name = 03-01-07-01-01-02-20.wav , emotion = disgust\n",
      "File name = 03-01-07-01-02-01-20.wav , emotion = disgust\n",
      "File name = 03-01-07-01-02-02-20.wav , emotion = disgust\n",
      "File name = 03-01-07-02-01-01-20.wav , emotion = disgust\n"
     ]
    },
    {
     "name": "stderr",
     "output_type": "stream",
     "text": [
      "C:\\Users\\Pravin Bhise\\AppData\\Local\\Temp\\ipykernel_7712\\2608815035.py:25: FutureWarning: Pass y=[ 0.0000000e+00  0.0000000e+00  0.0000000e+00 ... -2.4414062e-04\n",
      " -1.2207031e-04 -9.1552734e-05] as keyword args. From version 0.10 passing these as positional arguments will result in an error\n",
      "  mel=np.mean(librosa.feature.melspectrogram(X, sr=sample_rate).T,axis=0)\n"
     ]
    },
    {
     "name": "stdout",
     "output_type": "stream",
     "text": [
      "File name = 03-01-07-02-01-02-20.wav , emotion = disgust\n",
      "File name = 03-01-07-02-02-01-20.wav , emotion = disgust\n",
      "File name = 03-01-07-02-02-02-20.wav , emotion = disgust\n",
      "File name = 03-01-08-01-01-01-20.wav , emotion = surprised\n",
      "File name = 03-01-08-01-01-02-20.wav , emotion = surprised\n",
      "File name = 03-01-08-01-02-01-20.wav , emotion = surprised\n",
      "File name = 03-01-08-01-02-02-20.wav , emotion = surprised\n",
      "File name = 03-01-08-02-01-01-20.wav , emotion = surprised\n",
      "File name = 03-01-08-02-01-02-20.wav , emotion = surprised\n",
      "File name = 03-01-08-02-02-01-20.wav , emotion = surprised\n",
      "File name = 03-01-08-02-02-02-20.wav , emotion = surprised\n",
      "File name = 03-01-01-01-01-01-21.wav , emotion = neutral\n",
      "File name = 03-01-01-01-01-02-21.wav , emotion = neutral\n",
      "File name = 03-01-01-01-02-01-21.wav , emotion = neutral\n",
      "File name = 03-01-01-01-02-02-21.wav , emotion = neutral\n",
      "File name = 03-01-02-01-01-01-21.wav , emotion = calm\n",
      "File name = 03-01-02-01-01-02-21.wav , emotion = calm\n",
      "File name = 03-01-02-01-02-01-21.wav , emotion = calm\n",
      "File name = 03-01-02-01-02-02-21.wav , emotion = calm\n",
      "File name = 03-01-02-02-01-01-21.wav , emotion = calm\n",
      "File name = 03-01-02-02-01-02-21.wav , emotion = calm\n",
      "File name = 03-01-02-02-02-01-21.wav , emotion = calm\n",
      "File name = 03-01-02-02-02-02-21.wav , emotion = calm\n",
      "File name = 03-01-03-01-01-01-21.wav , emotion = happy\n",
      "File name = 03-01-03-01-01-02-21.wav , emotion = happy\n",
      "File name = 03-01-03-01-02-01-21.wav , emotion = happy\n",
      "File name = 03-01-03-01-02-02-21.wav , emotion = happy\n",
      "File name = 03-01-03-02-01-01-21.wav , emotion = happy\n"
     ]
    },
    {
     "name": "stderr",
     "output_type": "stream",
     "text": [
      "C:\\Users\\Pravin Bhise\\AppData\\Local\\Temp\\ipykernel_7712\\2608815035.py:25: FutureWarning: Pass y=[3.0517578e-05 0.0000000e+00 3.0517578e-05 ... 0.0000000e+00 0.0000000e+00\n",
      " 0.0000000e+00] as keyword args. From version 0.10 passing these as positional arguments will result in an error\n",
      "  mel=np.mean(librosa.feature.melspectrogram(X, sr=sample_rate).T,axis=0)\n"
     ]
    },
    {
     "name": "stdout",
     "output_type": "stream",
     "text": [
      "File name = 03-01-03-02-01-02-21.wav , emotion = happy\n",
      "File name = 03-01-03-02-02-01-21.wav , emotion = happy\n",
      "File name = 03-01-03-02-02-02-21.wav , emotion = happy\n",
      "File name = 03-01-04-01-01-01-21.wav , emotion = sad\n",
      "File name = 03-01-04-01-01-02-21.wav , emotion = sad\n",
      "File name = 03-01-04-01-02-01-21.wav , emotion = sad\n",
      "File name = 03-01-04-01-02-02-21.wav , emotion = sad\n",
      "File name = 03-01-04-02-01-01-21.wav , emotion = sad\n",
      "File name = 03-01-04-02-01-02-21.wav , emotion = sad\n",
      "File name = 03-01-04-02-02-01-21.wav , emotion = sad\n",
      "File name = 03-01-04-02-02-02-21.wav , emotion = sad\n",
      "File name = 03-01-05-01-01-01-21.wav , emotion = angry\n",
      "File name = 03-01-05-01-01-02-21.wav , emotion = angry\n",
      "File name = 03-01-05-01-02-01-21.wav , emotion = angry\n",
      "File name = 03-01-05-01-02-02-21.wav , emotion = angry\n",
      "File name = 03-01-05-02-01-01-21.wav , emotion = angry\n",
      "File name = 03-01-05-02-01-02-21.wav , emotion = angry\n",
      "File name = 03-01-05-02-02-01-21.wav , emotion = angry\n",
      "File name = 03-01-05-02-02-02-21.wav , emotion = angry\n",
      "File name = 03-01-06-01-01-01-21.wav , emotion = fearful\n",
      "File name = 03-01-06-01-01-02-21.wav , emotion = fearful\n",
      "File name = 03-01-06-01-02-01-21.wav , emotion = fearful\n",
      "File name = 03-01-06-01-02-02-21.wav , emotion = fearful\n",
      "File name = 03-01-06-02-01-01-21.wav , emotion = fearful\n",
      "File name = 03-01-06-02-01-02-21.wav , emotion = fearful\n",
      "File name = 03-01-06-02-02-01-21.wav , emotion = fearful\n",
      "File name = 03-01-06-02-02-02-21.wav , emotion = fearful\n",
      "File name = 03-01-07-01-01-01-21.wav , emotion = disgust\n",
      "File name = 03-01-07-01-01-02-21.wav , emotion = disgust\n",
      "File name = 03-01-07-01-02-01-21.wav , emotion = disgust\n"
     ]
    },
    {
     "name": "stderr",
     "output_type": "stream",
     "text": [
      "C:\\Users\\Pravin Bhise\\AppData\\Local\\Temp\\ipykernel_7712\\2608815035.py:25: FutureWarning: Pass y=[ 0.          0.          0.         ... -0.00057983 -0.00054932\n",
      " -0.00057983] as keyword args. From version 0.10 passing these as positional arguments will result in an error\n",
      "  mel=np.mean(librosa.feature.melspectrogram(X, sr=sample_rate).T,axis=0)\n"
     ]
    },
    {
     "name": "stdout",
     "output_type": "stream",
     "text": [
      "File name = 03-01-07-01-02-02-21.wav , emotion = disgust\n",
      "File name = 03-01-07-02-01-01-21.wav , emotion = disgust\n",
      "File name = 03-01-07-02-01-02-21.wav , emotion = disgust\n",
      "File name = 03-01-07-02-02-01-21.wav , emotion = disgust\n"
     ]
    },
    {
     "name": "stderr",
     "output_type": "stream",
     "text": [
      "C:\\Users\\Pravin Bhise\\AppData\\Local\\Temp\\ipykernel_7712\\2608815035.py:25: FutureWarning: Pass y=[ 0.0000000e+00 -3.0517578e-05  0.0000000e+00 ...  3.0517578e-05\n",
      "  0.0000000e+00  0.0000000e+00] as keyword args. From version 0.10 passing these as positional arguments will result in an error\n",
      "  mel=np.mean(librosa.feature.melspectrogram(X, sr=sample_rate).T,axis=0)\n",
      "C:\\Users\\Pravin Bhise\\AppData\\Local\\Temp\\ipykernel_7712\\2608815035.py:25: FutureWarning: Pass y=[0.0000000e+00 0.0000000e+00 0.0000000e+00 ... 6.1035156e-05 9.1552734e-05\n",
      " 9.1552734e-05] as keyword args. From version 0.10 passing these as positional arguments will result in an error\n",
      "  mel=np.mean(librosa.feature.melspectrogram(X, sr=sample_rate).T,axis=0)\n"
     ]
    },
    {
     "name": "stdout",
     "output_type": "stream",
     "text": [
      "File name = 03-01-07-02-02-02-21.wav , emotion = disgust\n",
      "File name = 03-01-08-01-01-01-21.wav , emotion = surprised\n",
      "File name = 03-01-08-01-01-02-21.wav , emotion = surprised\n",
      "File name = 03-01-08-01-02-01-21.wav , emotion = surprised\n",
      "File name = 03-01-08-01-02-02-21.wav , emotion = surprised\n",
      "File name = 03-01-08-02-01-01-21.wav , emotion = surprised\n",
      "File name = 03-01-08-02-01-02-21.wav , emotion = surprised\n",
      "File name = 03-01-08-02-02-01-21.wav , emotion = surprised\n",
      "File name = 03-01-08-02-02-02-21.wav , emotion = surprised\n",
      "File name = 03-01-01-01-01-01-22.wav , emotion = neutral\n",
      "File name = 03-01-01-01-01-02-22.wav , emotion = neutral\n",
      "File name = 03-01-01-01-02-01-22.wav , emotion = neutral\n",
      "File name = 03-01-01-01-02-02-22.wav , emotion = neutral\n",
      "File name = 03-01-02-01-01-01-22.wav , emotion = calm\n",
      "File name = 03-01-02-01-01-02-22.wav , emotion = calm\n",
      "File name = 03-01-02-01-02-01-22.wav , emotion = calm\n",
      "File name = 03-01-02-01-02-02-22.wav , emotion = calm\n",
      "File name = 03-01-02-02-01-01-22.wav , emotion = calm\n",
      "File name = 03-01-02-02-01-02-22.wav , emotion = calm\n",
      "File name = 03-01-02-02-02-01-22.wav , emotion = calm\n",
      "File name = 03-01-02-02-02-02-22.wav , emotion = calm\n",
      "File name = 03-01-03-01-01-01-22.wav , emotion = happy\n",
      "File name = 03-01-03-01-01-02-22.wav , emotion = happy\n",
      "File name = 03-01-03-01-02-01-22.wav , emotion = happy\n",
      "File name = 03-01-03-01-02-02-22.wav , emotion = happy\n",
      "File name = 03-01-03-02-01-01-22.wav , emotion = happy\n",
      "File name = 03-01-03-02-01-02-22.wav , emotion = happy\n",
      "File name = 03-01-03-02-02-01-22.wav , emotion = happy\n",
      "File name = 03-01-03-02-02-02-22.wav , emotion = happy\n",
      "File name = 03-01-04-01-01-01-22.wav , emotion = sad\n",
      "File name = 03-01-04-01-01-02-22.wav , emotion = sad\n",
      "File name = 03-01-04-01-02-01-22.wav , emotion = sad\n",
      "File name = 03-01-04-01-02-02-22.wav , emotion = sad\n",
      "File name = 03-01-04-02-01-01-22.wav , emotion = sad\n",
      "File name = 03-01-04-02-01-02-22.wav , emotion = sad\n",
      "File name = 03-01-04-02-02-01-22.wav , emotion = sad\n",
      "File name = 03-01-04-02-02-02-22.wav , emotion = sad\n",
      "File name = 03-01-05-01-01-01-22.wav , emotion = angry\n",
      "File name = 03-01-05-01-01-02-22.wav , emotion = angry\n",
      "File name = 03-01-05-01-02-01-22.wav , emotion = angry\n",
      "File name = 03-01-05-01-02-02-22.wav , emotion = angry\n",
      "File name = 03-01-05-02-01-01-22.wav , emotion = angry\n",
      "File name = 03-01-05-02-01-02-22.wav , emotion = angry\n",
      "File name = 03-01-05-02-02-01-22.wav , emotion = angry\n",
      "File name = 03-01-05-02-02-02-22.wav , emotion = angry\n",
      "File name = 03-01-06-01-01-01-22.wav , emotion = fearful\n",
      "File name = 03-01-06-01-01-02-22.wav , emotion = fearful\n",
      "File name = 03-01-06-01-02-01-22.wav , emotion = fearful\n",
      "File name = 03-01-06-01-02-02-22.wav , emotion = fearful\n",
      "File name = 03-01-06-02-01-01-22.wav , emotion = fearful\n",
      "File name = 03-01-06-02-01-02-22.wav , emotion = fearful\n",
      "File name = 03-01-06-02-02-01-22.wav , emotion = fearful\n",
      "File name = 03-01-06-02-02-02-22.wav , emotion = fearful\n",
      "File name = 03-01-07-01-01-01-22.wav , emotion = disgust\n",
      "File name = 03-01-07-01-01-02-22.wav , emotion = disgust\n",
      "File name = 03-01-07-01-02-01-22.wav , emotion = disgust\n",
      "File name = 03-01-07-01-02-02-22.wav , emotion = disgust\n",
      "File name = 03-01-07-02-01-01-22.wav , emotion = disgust\n",
      "File name = 03-01-07-02-01-02-22.wav , emotion = disgust\n",
      "File name = 03-01-07-02-02-01-22.wav , emotion = disgust\n",
      "File name = 03-01-07-02-02-02-22.wav , emotion = disgust\n",
      "File name = 03-01-08-01-01-01-22.wav , emotion = surprised\n",
      "File name = 03-01-08-01-01-02-22.wav , emotion = surprised\n",
      "File name = 03-01-08-01-02-01-22.wav , emotion = surprised\n",
      "File name = 03-01-08-01-02-02-22.wav , emotion = surprised\n",
      "File name = 03-01-08-02-01-01-22.wav , emotion = surprised\n",
      "File name = 03-01-08-02-01-02-22.wav , emotion = surprised\n",
      "File name = 03-01-08-02-02-01-22.wav , emotion = surprised\n",
      "File name = 03-01-08-02-02-02-22.wav , emotion = surprised\n",
      "File name = 03-01-01-01-01-01-23.wav , emotion = neutral\n",
      "File name = 03-01-01-01-01-02-23.wav , emotion = neutral\n",
      "File name = 03-01-01-01-02-01-23.wav , emotion = neutral\n",
      "File name = 03-01-01-01-02-02-23.wav , emotion = neutral\n",
      "File name = 03-01-02-01-01-01-23.wav , emotion = calm\n",
      "File name = 03-01-02-01-01-02-23.wav , emotion = calm\n",
      "File name = 03-01-02-01-02-01-23.wav , emotion = calm\n",
      "File name = 03-01-02-01-02-02-23.wav , emotion = calm\n",
      "File name = 03-01-02-02-01-01-23.wav , emotion = calm\n",
      "File name = 03-01-02-02-01-02-23.wav , emotion = calm\n",
      "File name = 03-01-02-02-02-01-23.wav , emotion = calm\n",
      "File name = 03-01-02-02-02-02-23.wav , emotion = calm\n",
      "File name = 03-01-03-01-01-01-23.wav , emotion = happy\n",
      "File name = 03-01-03-01-01-02-23.wav , emotion = happy\n",
      "File name = 03-01-03-01-02-01-23.wav , emotion = happy\n",
      "File name = 03-01-03-01-02-02-23.wav , emotion = happy\n",
      "File name = 03-01-03-02-01-01-23.wav , emotion = happy\n",
      "File name = 03-01-03-02-01-02-23.wav , emotion = happy\n",
      "File name = 03-01-03-02-02-01-23.wav , emotion = happy\n",
      "File name = 03-01-03-02-02-02-23.wav , emotion = happy\n",
      "File name = 03-01-04-01-01-01-23.wav , emotion = sad\n",
      "File name = 03-01-04-01-01-02-23.wav , emotion = sad\n",
      "File name = 03-01-04-01-02-01-23.wav , emotion = sad\n",
      "File name = 03-01-04-01-02-02-23.wav , emotion = sad\n",
      "File name = 03-01-04-02-01-01-23.wav , emotion = sad\n",
      "File name = 03-01-04-02-01-02-23.wav , emotion = sad\n",
      "File name = 03-01-04-02-02-01-23.wav , emotion = sad\n",
      "File name = 03-01-04-02-02-02-23.wav , emotion = sad\n",
      "File name = 03-01-05-01-01-01-23.wav , emotion = angry\n",
      "File name = 03-01-05-01-01-02-23.wav , emotion = angry\n",
      "File name = 03-01-05-01-02-01-23.wav , emotion = angry\n",
      "File name = 03-01-05-01-02-02-23.wav , emotion = angry\n",
      "File name = 03-01-05-02-01-01-23.wav , emotion = angry\n",
      "File name = 03-01-05-02-01-02-23.wav , emotion = angry\n",
      "File name = 03-01-05-02-02-01-23.wav , emotion = angry\n",
      "File name = 03-01-05-02-02-02-23.wav , emotion = angry\n",
      "File name = 03-01-06-01-01-01-23.wav , emotion = fearful\n",
      "File name = 03-01-06-01-01-02-23.wav , emotion = fearful\n",
      "File name = 03-01-06-01-02-01-23.wav , emotion = fearful\n",
      "File name = 03-01-06-01-02-02-23.wav , emotion = fearful\n",
      "File name = 03-01-06-02-01-01-23.wav , emotion = fearful\n"
     ]
    },
    {
     "name": "stderr",
     "output_type": "stream",
     "text": [
      "C:\\Users\\Pravin Bhise\\AppData\\Local\\Temp\\ipykernel_7712\\2608815035.py:25: FutureWarning: Pass y=[0.         0.         0.         ... 0.00024414 0.00024414 0.00024414] as keyword args. From version 0.10 passing these as positional arguments will result in an error\n",
      "  mel=np.mean(librosa.feature.melspectrogram(X, sr=sample_rate).T,axis=0)\n"
     ]
    },
    {
     "name": "stdout",
     "output_type": "stream",
     "text": [
      "File name = 03-01-06-02-01-02-23.wav , emotion = fearful\n",
      "File name = 03-01-06-02-02-01-23.wav , emotion = fearful\n",
      "File name = 03-01-06-02-02-02-23.wav , emotion = fearful\n",
      "File name = 03-01-07-01-01-01-23.wav , emotion = disgust\n",
      "File name = 03-01-07-01-01-02-23.wav , emotion = disgust\n",
      "File name = 03-01-07-01-02-01-23.wav , emotion = disgust\n",
      "File name = 03-01-07-01-02-02-23.wav , emotion = disgust\n",
      "File name = 03-01-07-02-01-01-23.wav , emotion = disgust\n"
     ]
    },
    {
     "name": "stderr",
     "output_type": "stream",
     "text": [
      "C:\\Users\\Pravin Bhise\\AppData\\Local\\Temp\\ipykernel_7712\\2608815035.py:25: FutureWarning: Pass y=[ 0.0000000e+00 -6.1035156e-05 -6.1035156e-05 ...  0.0000000e+00\n",
      "  0.0000000e+00  0.0000000e+00] as keyword args. From version 0.10 passing these as positional arguments will result in an error\n",
      "  mel=np.mean(librosa.feature.melspectrogram(X, sr=sample_rate).T,axis=0)\n"
     ]
    },
    {
     "name": "stdout",
     "output_type": "stream",
     "text": [
      "File name = 03-01-07-02-01-02-23.wav , emotion = disgust\n",
      "File name = 03-01-07-02-02-01-23.wav , emotion = disgust\n",
      "File name = 03-01-07-02-02-02-23.wav , emotion = disgust\n",
      "File name = 03-01-08-01-01-01-23.wav , emotion = surprised\n",
      "File name = 03-01-08-01-01-02-23.wav , emotion = surprised\n",
      "File name = 03-01-08-01-02-01-23.wav , emotion = surprised\n",
      "File name = 03-01-08-01-02-02-23.wav , emotion = surprised\n",
      "File name = 03-01-08-02-01-01-23.wav , emotion = surprised\n",
      "File name = 03-01-08-02-01-02-23.wav , emotion = surprised\n",
      "File name = 03-01-08-02-02-01-23.wav , emotion = surprised\n",
      "File name = 03-01-08-02-02-02-23.wav , emotion = surprised\n",
      "File name = 03-01-01-01-01-01-24.wav , emotion = neutral\n",
      "File name = 03-01-01-01-01-02-24.wav , emotion = neutral\n",
      "File name = 03-01-01-01-02-01-24.wav , emotion = neutral\n",
      "File name = 03-01-01-01-02-02-24.wav , emotion = neutral\n",
      "File name = 03-01-02-01-01-01-24.wav , emotion = calm\n",
      "File name = 03-01-02-01-01-02-24.wav , emotion = calm\n",
      "File name = 03-01-02-01-02-01-24.wav , emotion = calm\n",
      "File name = 03-01-02-01-02-02-24.wav , emotion = calm\n",
      "File name = 03-01-02-02-01-01-24.wav , emotion = calm\n",
      "File name = 03-01-02-02-01-02-24.wav , emotion = calm\n",
      "File name = 03-01-02-02-02-01-24.wav , emotion = calm\n",
      "File name = 03-01-02-02-02-02-24.wav , emotion = calm\n",
      "File name = 03-01-03-01-01-01-24.wav , emotion = happy\n",
      "File name = 03-01-03-01-01-02-24.wav , emotion = happy\n",
      "File name = 03-01-03-01-02-01-24.wav , emotion = happy\n",
      "File name = 03-01-03-01-02-02-24.wav , emotion = happy\n",
      "File name = 03-01-03-02-01-01-24.wav , emotion = happy\n",
      "File name = 03-01-03-02-01-02-24.wav , emotion = happy\n",
      "File name = 03-01-03-02-02-01-24.wav , emotion = happy\n",
      "File name = 03-01-03-02-02-02-24.wav , emotion = happy\n",
      "File name = 03-01-04-01-01-01-24.wav , emotion = sad\n",
      "File name = 03-01-04-01-01-02-24.wav , emotion = sad\n",
      "File name = 03-01-04-01-02-01-24.wav , emotion = sad\n",
      "File name = 03-01-04-01-02-02-24.wav , emotion = sad\n",
      "File name = 03-01-04-02-01-01-24.wav , emotion = sad\n",
      "File name = 03-01-04-02-01-02-24.wav , emotion = sad\n",
      "File name = 03-01-04-02-02-01-24.wav , emotion = sad\n",
      "File name = 03-01-04-02-02-02-24.wav , emotion = sad\n",
      "File name = 03-01-05-01-01-01-24.wav , emotion = angry\n",
      "File name = 03-01-05-01-01-02-24.wav , emotion = angry\n",
      "File name = 03-01-05-01-02-01-24.wav , emotion = angry\n",
      "File name = 03-01-05-01-02-02-24.wav , emotion = angry\n",
      "File name = 03-01-05-02-01-01-24.wav , emotion = angry\n",
      "File name = 03-01-05-02-01-02-24.wav , emotion = angry\n",
      "File name = 03-01-05-02-02-01-24.wav , emotion = angry\n",
      "File name = 03-01-05-02-02-02-24.wav , emotion = angry\n",
      "File name = 03-01-06-01-01-01-24.wav , emotion = fearful\n",
      "File name = 03-01-06-01-01-02-24.wav , emotion = fearful\n",
      "File name = 03-01-06-01-02-01-24.wav , emotion = fearful\n",
      "File name = 03-01-06-01-02-02-24.wav , emotion = fearful\n",
      "File name = 03-01-06-02-01-01-24.wav , emotion = fearful\n",
      "File name = 03-01-06-02-01-02-24.wav , emotion = fearful\n",
      "File name = 03-01-06-02-02-01-24.wav , emotion = fearful\n",
      "File name = 03-01-06-02-02-02-24.wav , emotion = fearful\n",
      "File name = 03-01-07-01-01-01-24.wav , emotion = disgust\n",
      "File name = 03-01-07-01-01-02-24.wav , emotion = disgust\n",
      "File name = 03-01-07-01-02-01-24.wav , emotion = disgust\n",
      "File name = 03-01-07-01-02-02-24.wav , emotion = disgust\n",
      "File name = 03-01-07-02-01-01-24.wav , emotion = disgust\n",
      "File name = 03-01-07-02-01-02-24.wav , emotion = disgust\n",
      "File name = 03-01-07-02-02-01-24.wav , emotion = disgust\n",
      "File name = 03-01-07-02-02-02-24.wav , emotion = disgust\n",
      "File name = 03-01-08-01-01-01-24.wav , emotion = surprised\n",
      "File name = 03-01-08-01-01-02-24.wav , emotion = surprised\n",
      "File name = 03-01-08-01-02-01-24.wav , emotion = surprised\n",
      "File name = 03-01-08-01-02-02-24.wav , emotion = surprised\n",
      "File name = 03-01-08-02-01-01-24.wav , emotion = surprised\n",
      "File name = 03-01-08-02-01-02-24.wav , emotion = surprised\n",
      "File name = 03-01-08-02-02-01-24.wav , emotion = surprised\n",
      "File name = 03-01-08-02-02-02-24.wav , emotion = surprised\n",
      "[[-5.22061890e+02  3.50668907e+01  3.75342917e+00 ...  1.65243138e-04\n",
      "   1.04321596e-04  6.55571566e-05]\n",
      " [-6.41227722e+02  4.49487762e+01 -1.85174119e+00 ...  3.89261913e-05\n",
      "   3.05255344e-05  2.94166657e-05]\n",
      " [-6.50705750e+02  5.30211639e+01 -4.92040443e+00 ...  4.75216839e-05\n",
      "   3.46632551e-05  1.62844426e-05]\n",
      " ...\n",
      " [-5.50096191e+02  1.70297680e+01 -1.14575634e+01 ...  1.51764631e-04\n",
      "   1.16828531e-04  8.47479314e-05]\n",
      " [-5.55357605e+02  4.71569710e+01  1.10750742e+01 ...  1.61086471e-04\n",
      "   1.04962470e-04  6.52811723e-05]\n",
      " [-5.04816345e+02  3.53618660e+01 -1.43495789e+01 ...  6.08151546e-04\n",
      "   5.55269769e-04  4.47782193e-04]]\n",
      "\n",
      "\n",
      "[[-6.01385986e+02  6.33781891e+01 -1.15760431e+01 ...  7.30556485e-06\n",
      "   4.64438199e-06  1.78243295e-06]\n",
      " [-7.86435913e+02  5.99123230e+01  2.08771191e+01 ...  4.30930726e-07\n",
      "   4.01358051e-07  4.06331111e-07]\n",
      " [-5.60618164e+02  5.78945961e+01 -8.87167645e+00 ...  6.46989676e-04\n",
      "   3.31015413e-04  1.85833647e-04]\n",
      " ...\n",
      " [-4.44762360e+02  2.36132107e+01 -1.48354664e+01 ...  8.65290698e-04\n",
      "   5.16015454e-04  3.73600313e-04]\n",
      " [-5.96042603e+02  6.76807480e+01  1.72730577e+00 ...  2.92376462e-05\n",
      "   2.20639486e-05  1.13877431e-05]\n",
      " [-6.95510803e+02  4.46803703e+01 -7.45934200e+00 ...  2.15333694e-05\n",
      "   1.84784367e-05  1.01300357e-05]]\n",
      "(576, 192)\n",
      "Features extracted: 180\n",
      "Accuracy: 66.67%\n"
     ]
    }
   ],
   "source": [
    "#pip install librosa soundfile numpy sklearn\n",
    "import librosa\n",
    "import soundfile\n",
    "import os, glob, pickle\n",
    "import numpy as np\n",
    "from sklearn.model_selection import train_test_split\n",
    "from sklearn.neural_network import MLPClassifier\n",
    "from sklearn.metrics import accuracy_score\n",
    "\n",
    "#Extract features (mfcc, chroma, mel) from a sound file\n",
    "def extract_feature(file_name, mfcc, chroma, mel):\n",
    "    with soundfile.SoundFile(file_name) as sound_file:\n",
    "        X = sound_file.read(dtype=\"float32\")\n",
    "        sample_rate=sound_file.samplerate\n",
    "        if chroma:\n",
    "            stft=np.abs(librosa.stft(X))\n",
    "        result=np.array([])\n",
    "        if mfcc:\n",
    "            mfccs=np.mean(librosa.feature.mfcc(y=X, sr=sample_rate, n_mfcc=40).T, axis=0)\n",
    "            result=np.hstack((result, mfccs))\n",
    "        if chroma:\n",
    "            chroma=np.mean(librosa.feature.chroma_stft(S=stft, sr=sample_rate).T,axis=0)\n",
    "            result=np.hstack((result, chroma))\n",
    "        if mel:\n",
    "            mel=np.mean(librosa.feature.melspectrogram(X, sr=sample_rate).T,axis=0)\n",
    "            result=np.hstack((result, mel))\n",
    "    return result\n",
    "\n",
    "#Emotions in the RAVDESS dataset\n",
    "emotions={\n",
    "  '01':'neutral',\n",
    "  '02':'calm',\n",
    "  '03':'happy',\n",
    "  '04':'sad',\n",
    "  '05':'angry',\n",
    "  '06':'fearful',\n",
    "  '07':'disgust',\n",
    "  '08':'surprised'\n",
    "}\n",
    "\n",
    "#Emotions to observe\n",
    "observed_emotions=['calm', 'happy', 'fearful', 'disgust']\n",
    "\n",
    "#Load the data and extract features for each sound file\n",
    "def load_data(test_size=0.2):\n",
    "    x,y=[],[]\n",
    "    for file in glob.glob(r\"C:\\Users\\Pravin Bhise\\Documents\\My Bluetooth\\\\speech-emotion-recognition-ravdess-data\\\\Actor_*\\\\*.wav\"):\n",
    "        file_name=os.path.basename(file)\n",
    "        emotion=emotions[file_name.split(\"-\")[2]]\n",
    "        print(\"File name = {} , emotion = {}\".format(file_name,emotion))\n",
    "        if emotion not in observed_emotions:\n",
    "            continue\n",
    "        feature=extract_feature(file, mfcc=True, chroma=True, mel=True)\n",
    "        x.append(feature)\n",
    "        y.append(emotion)\n",
    "    return train_test_split(np.array(x), y, test_size=test_size, random_state=9)\n",
    "\n",
    "#Split the dataset\n",
    "x_train,x_test,y_train,y_test=load_data(test_size=0.25)\n",
    "print(x_train)\n",
    "print(\"\\n\")\n",
    "print(x_test)\n",
    "\n",
    "#Get the shape of the training and testing datasets\n",
    "print((x_train.shape[0], x_test.shape[0]))\n",
    "\n",
    "#Get the number of features extracted\n",
    "print(f'Features extracted: {x_train.shape[1]}')\n",
    "\n",
    "#Initialize the Multi Layer Perceptron Classifier\n",
    "model=MLPClassifier(alpha=0.01, batch_size=256, epsilon=1e-08, hidden_layer_sizes=(300,), learning_rate='adaptive', max_iter=500)\n",
    "\n",
    "#Train the model\n",
    "model.fit(x_train,y_train)\n",
    "\n",
    "#Predict for the test set\n",
    "y_pred=model.predict(x_test)\n",
    "\n",
    "#Calculate the accuracy of our model\n",
    "accuracy=accuracy_score(y_true=y_test, y_pred=y_pred)\n",
    "\n",
    "#Print the accuracy\n",
    "print(\"Accuracy: {:.2f}%\".format(accuracy*100))"
   ]
  },
  {
   "cell_type": "code",
   "execution_count": null,
   "id": "03ac02e9",
   "metadata": {},
   "outputs": [],
   "source": []
  }
 ],
 "metadata": {
  "kernelspec": {
   "display_name": "Python 3 (ipykernel)",
   "language": "python",
   "name": "python3"
  },
  "language_info": {
   "codemirror_mode": {
    "name": "ipython",
    "version": 3
   },
   "file_extension": ".py",
   "mimetype": "text/x-python",
   "name": "python",
   "nbconvert_exporter": "python",
   "pygments_lexer": "ipython3",
   "version": "3.9.13"
  }
 },
 "nbformat": 4,
 "nbformat_minor": 5
}
